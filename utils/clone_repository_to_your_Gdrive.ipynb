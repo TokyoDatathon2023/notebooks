{
  "nbformat": 4,
  "nbformat_minor": 0,
  "metadata": {
    "colab": {
      "provenance": [],
      "authorship_tag": "ABX9TyP/ZiLYSyg9U7gAdaOUzb2W"
    },
    "kernelspec": {
      "name": "python3",
      "display_name": "Python 3"
    },
    "language_info": {
      "name": "python"
    }
  },
  "cells": [
    {
      "cell_type": "code",
      "execution_count": null,
      "metadata": {
        "id": "X_xsRftEXiHa"
      },
      "outputs": [],
      "source": [
        "# Mount your Google Drive\n",
        "from google.colab import drive\n",
        "drive.mount('/content/drive')"
      ]
    },
    {
      "cell_type": "code",
      "source": [
        "# Make a directory for datathon. You may change the name of the folder\n",
        "!mkdir /content/drive/MyDrive/datathon2023"
      ],
      "metadata": {
        "id": "GQ_8PY43hhq0"
      },
      "execution_count": null,
      "outputs": []
    },
    {
      "cell_type": "code",
      "source": [
        "# Change directory to the folder you've just created\n",
        "%cd drive/MyDrive/datathon2023"
      ],
      "metadata": {
        "id": "fXHxIOJTX6Ew"
      },
      "execution_count": null,
      "outputs": []
    },
    {
      "cell_type": "code",
      "source": [
        "# Clone the Git repository\n",
        "!git clone https://github.com/TokyoDatathon2023/notebooks.git"
      ],
      "metadata": {
        "id": "cHL4vpyvX8Ow"
      },
      "execution_count": null,
      "outputs": []
    }
  ]
}