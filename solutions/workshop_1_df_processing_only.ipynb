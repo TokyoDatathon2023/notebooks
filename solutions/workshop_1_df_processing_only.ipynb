{
  "nbformat": 4,
  "nbformat_minor": 0,
  "metadata": {
    "colab": {
      "provenance": [],
      "authorship_tag": "ABX9TyN8249WuGZFb6vCPJIGZZj6"
    },
    "kernelspec": {
      "name": "python3",
      "display_name": "Python 3"
    },
    "language_info": {
      "name": "python"
    }
  },
  "cells": [
    {
      "cell_type": "code",
      "source": [
        "# mount user's Google Drive to Google Colab.\n",
        "from google.colab import drive\n",
        "drive.mount('/content/drive')"
      ],
      "metadata": {
        "id": "Gm6icw7C0Ayf"
      },
      "execution_count": null,
      "outputs": []
    },
    {
      "cell_type": "code",
      "execution_count": null,
      "metadata": {
        "id": "h_agd-h3zy3y"
      },
      "outputs": [],
      "source": [
        "import pandas as pd\n",
        "\n",
        "df = pd.read_csv(\"/content/drive/MyDrive/workshops_preparation/data/mimic_pulseOx_data.csv\")"
      ]
    },
    {
      "cell_type": "code",
      "source": [
        "import numpy as np\n",
        "\n",
        "# To prevent data leakage, we're setting lab results or clinical status with a timedelta of zero or more to NaN.\n",
        "timedelta_cols = [col for col in df.columns if col.startswith(\"delta_\")]\n",
        "timedelta_cols_dict = {}\n",
        "for col in timedelta_cols:\n",
        "  if col.split(\"delta_\")[-1] in df.columns:\n",
        "    timedelta_cols_dict[col] = [col.split(\"delta_\")[-1]]\n",
        "\n",
        "timedelta_cols_dict[\"delta_vent_start\"] = [\"ventilation_status\", \"invasive_vent\"]\n",
        "timedelta_cols_dict[\"delta_vp_start\"] = [\"norepinephrine_equivalent_dose\"]\n",
        "\n",
        "# Replace with nan\n",
        "for timedelta_col, corresponding_col in timedelta_cols_dict.items():\n",
        "  for col in corresponding_col:\n",
        "    df[[timedelta_col, col]] = df[[timedelta_col, col]].mask(df[timedelta_col]>=0, np.nan)"
      ],
      "metadata": {
        "id": "VocuZjf3qXQk"
      },
      "execution_count": null,
      "outputs": []
    },
    {
      "cell_type": "code",
      "source": [
        "df = df[(~df[\"SpO2\"].isna()) & (df.SaO2 <= 100) & (df.SpO2 <= 100) & (df.SaO2 >= 65) & (df.SpO2 >= 65)]\n",
        "df = df[df['delta_SpO2'] >= -10]"
      ],
      "metadata": {
        "id": "Nj33HodowGQr"
      },
      "execution_count": null,
      "outputs": []
    },
    {
      "cell_type": "code",
      "source": [
        "import os\n",
        "\n",
        "# Function to create the directory if it doesn't exist\n",
        "def create_directory_if_not_exists(path):\n",
        "    directory = os.path.dirname(path)\n",
        "    os.makedirs(directory, exist_ok=True)\n",
        "\n",
        "# Save function to be used for both train and test datasets\n",
        "def save_dataset(dataset, path_to_save):\n",
        "    create_directory_if_not_exists(path_to_save)\n",
        "    dataset.to_csv(path_to_save, index=False)"
      ],
      "metadata": {
        "id": "z6wclJWBqGo2"
      },
      "execution_count": null,
      "outputs": []
    },
    {
      "cell_type": "code",
      "source": [
        "save_dataset(df, \"/content/drive/MyDrive/workshops_preparation/for_japan/solutions/output/workshop_1_data_final.csv\")"
      ],
      "metadata": {
        "id": "AfaPWw9uqIUT"
      },
      "execution_count": null,
      "outputs": []
    }
  ]
}