{
  "nbformat": 4,
  "nbformat_minor": 0,
  "metadata": {
    "colab": {
      "provenance": []
    },
    "kernelspec": {
      "name": "python3",
      "display_name": "Python 3"
    },
    "language_info": {
      "name": "python"
    }
  },
  "cells": [
    {
      "cell_type": "markdown",
      "source": [
        "# Workshop 2: Clinical Variables Selection & Feature Engineering / 臨床変数の選択と特徴量エンジニアリング"
      ],
      "metadata": {
        "id": "M65WOuF6u62h"
      }
    },
    {
      "cell_type": "markdown",
      "source": [
        "# 🎯 Workshop Goals\n",
        "The goal of this workshop is to provide participants with a deep understanding of data preprocessing in the data science workflow. Specifically, by the end of this workshop, participants should be able to:\n",
        "\n",
        "1. **Understand the importance of Data Preprocessing Techniques**: Understanding thes significance of data preprocessing in the data science workflow. This includes to be able to apply common techniques such as cleaning, normalization, transformation, and reduction of data. This also includes handling missing data, outliers, skewed data, and data with different scales.\n",
        "\n",
        "3. **Familiarize with Data Pre-processing Techniques**: such as feature scaling, dimensionality reduction, and feature engineering.\n",
        "\n",
        "4. **Apply data pre-processing techniques**: This involved the practical application of data preprocessing techniques to real-world datasets and to be able to evaluate the impact of different preprocessing techniques on machine learning model performance.\n",
        "\n",
        "Be aware of the potential biases that can be introduced in data preprocessing, and how to identify and mitigate them.\n",
        "Throughout the workshop, participants will engage in hands-on activities, case studies, and real-world examples. They will work in groups to apply the concepts learned to real datasets, and engage in discussions to share their experiences and insights. By the end of the workshop, participants should have gained a solid understanding of data preprocessing techniques and their importance in the data science workflow, and be able to apply these techniques to improve the performance of machine learning models."
      ],
      "metadata": {
        "id": "p-DviQlnd7vT"
      }
    },
    {
      "cell_type": "markdown",
      "source": [
        "# 🎯このWorkshopの目標\n",
        "本ワークショップは、データの前処理についての理解を深めてもらうことを目的としています。\n",
        "本ワークショップを通じて学ぶこと：\n",
        "\n",
        "1. **データ前処理技術の重要性の理解**: データの前処理についての知識を会得します。一般的な技法であるデータ整理、正規化、変換、削減などができるようになることに加え、欠損データや外れ値、歪んだデータ、異なるスケールを持つデータへの対処も含みます。\n",
        "\n",
        "3. **データの前処理技術の習得**: 特徴量スケーリング、次元削減、特徴量エンジニアリングなど\n",
        "\n",
        "4. **データ前処理技術の適用**: 実際のデータにデータの前処理を施し、それぞれの処理が機械学習モデルの挙動に与える影響を評価します。\n",
        "\n",
        "データの前処理によって導入されうる潜在的なバイアスとそれを特定して軽減する方法を認識します。\n",
        "ワークショップを通じて、参加者の皆様には実戦的な活動やケーススタディ、実際の事例に取り組んでいただきます。グループに分かれて学んだ概要を実際のデータセットに適用し、ディスカッションを行って経験と洞察を共有します。ワークショップ終了時にはデータの前処理技術とその重要性についてしっかりと理解し、機械学習モデルの性能向上に活用できるようになります。"
      ],
      "metadata": {
        "id": "knt1O68zdxWK"
      }
    },
    {
      "cell_type": "markdown",
      "source": [
        "# ✏️ Expected Deliverables\n",
        "\n",
        "1. A report or dashboard summarizing the results of EDA, including visualizations and statistical summaries of the data distribution and correlations.\n",
        "\n",
        "2. A set of code scripts or pipelines that automate the data preprocessing process, making it easier and more efficient to apply these techniques to future datasets.\n",
        "\n",
        "3. A cleaned dataset that has undergone preprocessing techniques such as removal of duplicates, handling missing data, and dealing with outliers. The cleaned dataset should be ready to be fed into machine learning models."
      ],
      "metadata": {
        "id": "lHt_KgdnGilV"
      }
    },
    {
      "cell_type": "markdown",
      "source": [
        "# ✏️ 最終目標\n",
        "\n",
        "1. EDA* の結果をデータの分布と相関について統計的にまとめたレポートやダッシュボードを作成し、データを可視化する\n",
        "\n",
        "2. データの前処理を自動化するためのコードかパイプラインのセットを作成し、将来的に使うデータセットに簡単かつ効率的に適用できるようにする\n",
        "\n",
        "3. 重複の除去、欠損データの処理、外れ値処理などを施してデータセットを整備し、機械学習モデルに入れる準備を整える\n",
        "\n",
        "\\* Exploratory Data Analysis: 探索的データ分析"
      ],
      "metadata": {
        "id": "Zqoq81Iaps7W"
      }
    },
    {
      "cell_type": "markdown",
      "source": [
        "# ❗ Highlighted Pitfall(s)\n",
        "1. Make sure to apply preprocessing steps only to the training data and avoid using information from the validation set to prevent data leakage.\n",
        "\n",
        "2. Check for potential biases that could be introduced or amplified by preprocessing techniques, and evaluate the impact of these techniques on different subgroups of the data.\n",
        "\n",
        "3. Carefully evaluate the appropriateness of different preprocessing techniques for a given dataset and ensure that the techniques are applied correctly to avoid incorrect preprocessing that could lead to poor model performance or incorrect conclusions about the data."
      ],
      "metadata": {
        "id": "EnR2K_EKGrEV"
      }
    },
    {
      "cell_type": "markdown",
      "source": [
        "# ❗ 注意事項\n",
        "1. データの漏洩を防ぐため、前処理に利用するデータは学習データのみで、検証データの情報を用いないようにすること。\n",
        "\n",
        "2. 前処理によって導入・強調されうる潜在的なバイアスを確認し、データの異なるサブグループにおけるこれらの処理技術の影響を評価する。\n",
        "\n",
        "3. 与えられたデータセットに対する様々な前処理技術の適切性を慎重に評価する。モデルの性能低下やデータに関する誤った結論につながる誤った前処理を避けるために、前処理が正しく適用されるようにする。"
      ],
      "metadata": {
        "id": "ZlnuhKzvp1fC"
      }
    },
    {
      "cell_type": "markdown",
      "source": [
        "Add visual aid here (figures without preprocessing)\n",
        "前処理なしの図の追加"
      ],
      "metadata": {
        "id": "G3qRzUX_2qke"
      }
    },
    {
      "cell_type": "markdown",
      "source": [
        "## **1.  Setup environment / 環境構築**\n",
        "---"
      ],
      "metadata": {
        "id": "EffSajZhq7lo"
      }
    },
    {
      "cell_type": "code",
      "execution_count": null,
      "metadata": {
        "id": "otcVcnAOQEUH"
      },
      "outputs": [],
      "source": [
        "# Data reading in Dataframe format and data preprocessing\n",
        "import pandas as pd\n",
        "\n",
        "# Data Visualization\n",
        "import matplotlib.pyplot as plt\n",
        "import seaborn as sns\n",
        "\n",
        "# For missing values\n",
        "import missingno as msno\n",
        "\n",
        "# Linear algebra operations\n",
        "import numpy as np\n",
        "\n",
        "# Preprocessing\n",
        "from sklearn.preprocessing import MinMaxScaler\n",
        "from sklearn.preprocessing import StandardScaler\n",
        "from sklearn import preprocessing\n",
        "\n",
        "from sklearn.preprocessing import LabelEncoder\n",
        "from sklearn.linear_model import LinearRegression\n",
        "\n",
        "from sklearn.feature_selection import SelectKBest\n",
        "from sklearn.feature_selection import f_classif, chi2, mutual_info_classif, mutual_info_regression\n",
        "\n",
        "from sklearn.model_selection import train_test_split\n",
        "\n",
        "import warnings\n",
        "warnings.filterwarnings(\"ignore\", category=DeprecationWarning)"
      ]
    },
    {
      "cell_type": "code",
      "source": [
        "# mount user's Google Drive to Google Colab.\n",
        "from google.colab import drive\n",
        "drive.mount('/content/drive')"
      ],
      "metadata": {
        "id": "Frc9RcmKR3Ea",
        "colab": {
          "base_uri": "https://localhost:8080/"
        },
        "outputId": "aeedab08-0c14-48a1-9d40-91008719bc5f"
      },
      "execution_count": null,
      "outputs": [
        {
          "output_type": "stream",
          "name": "stdout",
          "text": [
            "Drive already mounted at /content/drive; to attempt to forcibly remount, call drive.mount(\"/content/drive\", force_remount=True).\n"
          ]
        }
      ]
    },
    {
      "cell_type": "code",
      "source": [
        "# Google Drive の中身が全部見られたくない人のためのアンマウント用\n",
        "# この場合データセットはランタイムにアップロードされるが、時間制限によって削除されるため注意すること\n",
        "\n",
        "# drive.flush_and_unmount('/content/drive')"
      ],
      "metadata": {
        "id": "AhskOIPRedYo"
      },
      "execution_count": null,
      "outputs": []
    },
    {
      "cell_type": "markdown",
      "source": [
        " ## **2. Data Analysis / データ分析**\n",
        "---"
      ],
      "metadata": {
        "id": "kWOxxuQYqQeM"
      }
    },
    {
      "cell_type": "markdown",
      "source": [
        "Once we understand the problem, we have formed a multidisciplinary team, formulated the research question,  hypothesis, we have to start working with the data. What data do we have? How do they look? What distributions do they have?\n",
        "\n",
        "Let's remember that in data science, data is the most important thing, and whether or not we can solve a problem depends on the data quality. At the same time, understanding the data also helps us to have a clearer vision of what we are facing and in case the data is not very good, we can at least fix it.\n",
        "\n",
        "Specifically, understanding the problem and the data are the essential phases in a data science project. An error in this phase is much more critical than an error in the modeling and evaluation phases. We must bear in mind that machine learning is not a magical tool that solves any type of problem, but rather a mathematical/statistical tool that learns from what we teach it, therefore if the data has biases, the model will also have them."
      ],
      "metadata": {
        "id": "wsZkeFBG08pU"
      }
    },
    {
      "cell_type": "markdown",
      "source": [
        "問題を理解したら、チームで研究課題を決めて仮説を立ててデータ処理に取り組みましょう。どんなデータがありますか？どのように見えますか？どんな分布を持っていますか？\n",
        "\n",
        "データサイエンスにおいてはデータが最も重要であり、課題解決はデータの質の良し悪しにかかっています。\n",
        "また、データを理解することは直面している問題を明確に捉えることに繋がります。さらに、データを理解することでデータの良くない部分を見つけ、対処をすることができます。\n",
        "\n",
        "問題とデータを理解することはデータサイエンスにおいては不可欠な要素です。\n",
        "この過程での失敗は後に出てくるモデリングや評価といった過程での失敗よりも重大なものとなります。\n",
        "機械学習とは我々が教えたことを学習する数学的/統計的な道具です。\n",
        "したがって、データにバイアスがあればモデルにもバイアスが生じます。\n",
        "**機械学習はどんな問題でも解決してくれる魔法の道具ではない**ということを頭に置いておきましょう。\n"
      ],
      "metadata": {
        "id": "gBRUjzAOdzIR"
      }
    },
    {
      "cell_type": "markdown",
      "source": [
        "#### Read the dataset\n",
        "\n",
        "Let's asume that you already have the dataset of workshop 1:"
      ],
      "metadata": {
        "id": "Hzzgjobkzz1u"
      }
    },
    {
      "cell_type": "markdown",
      "source": [
        "#### データセットの読み込み\n",
        "\n",
        "workshop 1のデータセットを既に持っているものとします。"
      ],
      "metadata": {
        "id": "ZjRd4w2OfJxc"
      }
    },
    {
      "cell_type": "markdown",
      "source": [
        "###### ✏️ Read the dataset and use the function null_values to see which columns has missing data."
      ],
      "metadata": {
        "id": "ewfSG4dLHFxK"
      }
    },
    {
      "cell_type": "markdown",
      "source": [
        "###### ✏️ データセットを読み込み、`null_values`関数を用いて欠損値のある列を探します。"
      ],
      "metadata": {
        "id": "CuHjFiIntohu"
      }
    },
    {
      "cell_type": "code",
      "source": [
        "PATH = \"/content/drive/MyDrive/workshops_preparation/for_japan/solutions/output/workshop_1_data_final.csv\"\n",
        "\n",
        "# Read file here:\n",
        "df = pd.read_csv(PATH)\n",
        "print(f'The dataset has {df.shape[0]} rows and {df.shape[1]} columns')"
      ],
      "metadata": {
        "id": "8F5j91Ii3WpP",
        "colab": {
          "base_uri": "https://localhost:8080/"
        },
        "outputId": "4384b6c8-5947-47dc-9b26-fe60cf4a8cc5"
      },
      "execution_count": null,
      "outputs": [
        {
          "output_type": "stream",
          "name": "stdout",
          "text": [
            "The dataset has 17169 rows and 138 columns\n"
          ]
        }
      ]
    },
    {
      "cell_type": "code",
      "source": [
        "# Print first 5 rows\n",
        "df.head()"
      ],
      "metadata": {
        "colab": {
          "base_uri": "https://localhost:8080/",
          "height": 386
        },
        "id": "irgho1rQDRhL",
        "outputId": "bb382532-d956-4483-81b8-d7e5fdd732bd"
      },
      "execution_count": null,
      "outputs": [
        {
          "output_type": "execute_result",
          "data": {
            "text/plain": [
              "   subject_id   stay_id       SaO2_timestamp  SaO2  delta_SpO2   SpO2  \\\n",
              "0    10001884  37510196  2131-01-12 21:04:00  90.0        -4.0   89.0   \n",
              "1    10002428  38875437  2156-04-21 02:20:00  98.0        -3.0  100.0   \n",
              "2    10002760  31831386  2141-04-20 16:10:00  97.0       -10.0   99.0   \n",
              "3    10002760  31831386  2141-04-21 02:04:00  99.0        -4.0  100.0   \n",
              "4    10002760  31831386  2141-04-21 04:03:00  99.0        -3.0   99.0   \n",
              "\n",
              "   hidden_hypoxemia   hadm_id gender  sex_female  ...  delta_mbp   mbp  \\\n",
              "0                 0  26184834      F           1  ...       -3.0  96.0   \n",
              "1                 0  28662225      F           1  ...       -5.0  70.0   \n",
              "2                 0  28094813      M           0  ...      -10.0  70.0   \n",
              "3                 0  28094813      M           0  ...       -4.0  81.0   \n",
              "4                 0  28094813      M           0  ...       -3.0  69.0   \n",
              "\n",
              "  delta_resp_rate resp_rate delta_temperature  temperature  delta_glucose  \\\n",
              "0            -4.0      19.5             -64.0        36.72            NaN   \n",
              "1            -5.0      23.0               NaN          NaN          -10.0   \n",
              "2           -10.0      16.0               NaN          NaN            NaN   \n",
              "3            -4.0      17.0               NaN          NaN            NaN   \n",
              "4            -3.0       8.5               NaN          NaN            NaN   \n",
              "\n",
              "   glucose delta_heart_rhythm             heart_rhythm  \n",
              "0      NaN               -4.0        SR (Sinus Rhythm)  \n",
              "1    135.0              -20.0  ST (Sinus Tachycardia)   \n",
              "2      NaN              -10.0        SR (Sinus Rhythm)  \n",
              "3      NaN               -4.0        SR (Sinus Rhythm)  \n",
              "4      NaN               -3.0        SR (Sinus Rhythm)  \n",
              "\n",
              "[5 rows x 138 columns]"
            ],
            "text/html": [
              "\n",
              "\n",
              "  <div id=\"df-90c9aef4-bee1-49ac-a206-eb9076807459\">\n",
              "    <div class=\"colab-df-container\">\n",
              "      <div>\n",
              "<style scoped>\n",
              "    .dataframe tbody tr th:only-of-type {\n",
              "        vertical-align: middle;\n",
              "    }\n",
              "\n",
              "    .dataframe tbody tr th {\n",
              "        vertical-align: top;\n",
              "    }\n",
              "\n",
              "    .dataframe thead th {\n",
              "        text-align: right;\n",
              "    }\n",
              "</style>\n",
              "<table border=\"1\" class=\"dataframe\">\n",
              "  <thead>\n",
              "    <tr style=\"text-align: right;\">\n",
              "      <th></th>\n",
              "      <th>subject_id</th>\n",
              "      <th>stay_id</th>\n",
              "      <th>SaO2_timestamp</th>\n",
              "      <th>SaO2</th>\n",
              "      <th>delta_SpO2</th>\n",
              "      <th>SpO2</th>\n",
              "      <th>hidden_hypoxemia</th>\n",
              "      <th>hadm_id</th>\n",
              "      <th>gender</th>\n",
              "      <th>sex_female</th>\n",
              "      <th>...</th>\n",
              "      <th>delta_mbp</th>\n",
              "      <th>mbp</th>\n",
              "      <th>delta_resp_rate</th>\n",
              "      <th>resp_rate</th>\n",
              "      <th>delta_temperature</th>\n",
              "      <th>temperature</th>\n",
              "      <th>delta_glucose</th>\n",
              "      <th>glucose</th>\n",
              "      <th>delta_heart_rhythm</th>\n",
              "      <th>heart_rhythm</th>\n",
              "    </tr>\n",
              "  </thead>\n",
              "  <tbody>\n",
              "    <tr>\n",
              "      <th>0</th>\n",
              "      <td>10001884</td>\n",
              "      <td>37510196</td>\n",
              "      <td>2131-01-12 21:04:00</td>\n",
              "      <td>90.0</td>\n",
              "      <td>-4.0</td>\n",
              "      <td>89.0</td>\n",
              "      <td>0</td>\n",
              "      <td>26184834</td>\n",
              "      <td>F</td>\n",
              "      <td>1</td>\n",
              "      <td>...</td>\n",
              "      <td>-3.0</td>\n",
              "      <td>96.0</td>\n",
              "      <td>-4.0</td>\n",
              "      <td>19.5</td>\n",
              "      <td>-64.0</td>\n",
              "      <td>36.72</td>\n",
              "      <td>NaN</td>\n",
              "      <td>NaN</td>\n",
              "      <td>-4.0</td>\n",
              "      <td>SR (Sinus Rhythm)</td>\n",
              "    </tr>\n",
              "    <tr>\n",
              "      <th>1</th>\n",
              "      <td>10002428</td>\n",
              "      <td>38875437</td>\n",
              "      <td>2156-04-21 02:20:00</td>\n",
              "      <td>98.0</td>\n",
              "      <td>-3.0</td>\n",
              "      <td>100.0</td>\n",
              "      <td>0</td>\n",
              "      <td>28662225</td>\n",
              "      <td>F</td>\n",
              "      <td>1</td>\n",
              "      <td>...</td>\n",
              "      <td>-5.0</td>\n",
              "      <td>70.0</td>\n",
              "      <td>-5.0</td>\n",
              "      <td>23.0</td>\n",
              "      <td>NaN</td>\n",
              "      <td>NaN</td>\n",
              "      <td>-10.0</td>\n",
              "      <td>135.0</td>\n",
              "      <td>-20.0</td>\n",
              "      <td>ST (Sinus Tachycardia)</td>\n",
              "    </tr>\n",
              "    <tr>\n",
              "      <th>2</th>\n",
              "      <td>10002760</td>\n",
              "      <td>31831386</td>\n",
              "      <td>2141-04-20 16:10:00</td>\n",
              "      <td>97.0</td>\n",
              "      <td>-10.0</td>\n",
              "      <td>99.0</td>\n",
              "      <td>0</td>\n",
              "      <td>28094813</td>\n",
              "      <td>M</td>\n",
              "      <td>0</td>\n",
              "      <td>...</td>\n",
              "      <td>-10.0</td>\n",
              "      <td>70.0</td>\n",
              "      <td>-10.0</td>\n",
              "      <td>16.0</td>\n",
              "      <td>NaN</td>\n",
              "      <td>NaN</td>\n",
              "      <td>NaN</td>\n",
              "      <td>NaN</td>\n",
              "      <td>-10.0</td>\n",
              "      <td>SR (Sinus Rhythm)</td>\n",
              "    </tr>\n",
              "    <tr>\n",
              "      <th>3</th>\n",
              "      <td>10002760</td>\n",
              "      <td>31831386</td>\n",
              "      <td>2141-04-21 02:04:00</td>\n",
              "      <td>99.0</td>\n",
              "      <td>-4.0</td>\n",
              "      <td>100.0</td>\n",
              "      <td>0</td>\n",
              "      <td>28094813</td>\n",
              "      <td>M</td>\n",
              "      <td>0</td>\n",
              "      <td>...</td>\n",
              "      <td>-4.0</td>\n",
              "      <td>81.0</td>\n",
              "      <td>-4.0</td>\n",
              "      <td>17.0</td>\n",
              "      <td>NaN</td>\n",
              "      <td>NaN</td>\n",
              "      <td>NaN</td>\n",
              "      <td>NaN</td>\n",
              "      <td>-4.0</td>\n",
              "      <td>SR (Sinus Rhythm)</td>\n",
              "    </tr>\n",
              "    <tr>\n",
              "      <th>4</th>\n",
              "      <td>10002760</td>\n",
              "      <td>31831386</td>\n",
              "      <td>2141-04-21 04:03:00</td>\n",
              "      <td>99.0</td>\n",
              "      <td>-3.0</td>\n",
              "      <td>99.0</td>\n",
              "      <td>0</td>\n",
              "      <td>28094813</td>\n",
              "      <td>M</td>\n",
              "      <td>0</td>\n",
              "      <td>...</td>\n",
              "      <td>-3.0</td>\n",
              "      <td>69.0</td>\n",
              "      <td>-3.0</td>\n",
              "      <td>8.5</td>\n",
              "      <td>NaN</td>\n",
              "      <td>NaN</td>\n",
              "      <td>NaN</td>\n",
              "      <td>NaN</td>\n",
              "      <td>-3.0</td>\n",
              "      <td>SR (Sinus Rhythm)</td>\n",
              "    </tr>\n",
              "  </tbody>\n",
              "</table>\n",
              "<p>5 rows × 138 columns</p>\n",
              "</div>\n",
              "      <button class=\"colab-df-convert\" onclick=\"convertToInteractive('df-90c9aef4-bee1-49ac-a206-eb9076807459')\"\n",
              "              title=\"Convert this dataframe to an interactive table.\"\n",
              "              style=\"display:none;\">\n",
              "\n",
              "  <svg xmlns=\"http://www.w3.org/2000/svg\" height=\"24px\"viewBox=\"0 0 24 24\"\n",
              "       width=\"24px\">\n",
              "    <path d=\"M0 0h24v24H0V0z\" fill=\"none\"/>\n",
              "    <path d=\"M18.56 5.44l.94 2.06.94-2.06 2.06-.94-2.06-.94-.94-2.06-.94 2.06-2.06.94zm-11 1L8.5 8.5l.94-2.06 2.06-.94-2.06-.94L8.5 2.5l-.94 2.06-2.06.94zm10 10l.94 2.06.94-2.06 2.06-.94-2.06-.94-.94-2.06-.94 2.06-2.06.94z\"/><path d=\"M17.41 7.96l-1.37-1.37c-.4-.4-.92-.59-1.43-.59-.52 0-1.04.2-1.43.59L10.3 9.45l-7.72 7.72c-.78.78-.78 2.05 0 2.83L4 21.41c.39.39.9.59 1.41.59.51 0 1.02-.2 1.41-.59l7.78-7.78 2.81-2.81c.8-.78.8-2.07 0-2.86zM5.41 20L4 18.59l7.72-7.72 1.47 1.35L5.41 20z\"/>\n",
              "  </svg>\n",
              "      </button>\n",
              "\n",
              "\n",
              "\n",
              "    <div id=\"df-e4de7ad2-0c1e-419b-97fb-6f226e19ef60\">\n",
              "      <button class=\"colab-df-quickchart\" onclick=\"quickchart('df-e4de7ad2-0c1e-419b-97fb-6f226e19ef60')\"\n",
              "              title=\"Suggest charts.\"\n",
              "              style=\"display:none;\">\n",
              "\n",
              "<svg xmlns=\"http://www.w3.org/2000/svg\" height=\"24px\"viewBox=\"0 0 24 24\"\n",
              "     width=\"24px\">\n",
              "    <g>\n",
              "        <path d=\"M19 3H5c-1.1 0-2 .9-2 2v14c0 1.1.9 2 2 2h14c1.1 0 2-.9 2-2V5c0-1.1-.9-2-2-2zM9 17H7v-7h2v7zm4 0h-2V7h2v10zm4 0h-2v-4h2v4z\"/>\n",
              "    </g>\n",
              "</svg>\n",
              "      </button>\n",
              "    </div>\n",
              "\n",
              "<style>\n",
              "  .colab-df-quickchart {\n",
              "    background-color: #E8F0FE;\n",
              "    border: none;\n",
              "    border-radius: 50%;\n",
              "    cursor: pointer;\n",
              "    display: none;\n",
              "    fill: #1967D2;\n",
              "    height: 32px;\n",
              "    padding: 0 0 0 0;\n",
              "    width: 32px;\n",
              "  }\n",
              "\n",
              "  .colab-df-quickchart:hover {\n",
              "    background-color: #E2EBFA;\n",
              "    box-shadow: 0px 1px 2px rgba(60, 64, 67, 0.3), 0px 1px 3px 1px rgba(60, 64, 67, 0.15);\n",
              "    fill: #174EA6;\n",
              "  }\n",
              "\n",
              "  [theme=dark] .colab-df-quickchart {\n",
              "    background-color: #3B4455;\n",
              "    fill: #D2E3FC;\n",
              "  }\n",
              "\n",
              "  [theme=dark] .colab-df-quickchart:hover {\n",
              "    background-color: #434B5C;\n",
              "    box-shadow: 0px 1px 3px 1px rgba(0, 0, 0, 0.15);\n",
              "    filter: drop-shadow(0px 1px 2px rgba(0, 0, 0, 0.3));\n",
              "    fill: #FFFFFF;\n",
              "  }\n",
              "</style>\n",
              "\n",
              "    <script>\n",
              "      async function quickchart(key) {\n",
              "        const containerElement = document.querySelector('#' + key);\n",
              "        const charts = await google.colab.kernel.invokeFunction(\n",
              "            'suggestCharts', [key], {});\n",
              "      }\n",
              "    </script>\n",
              "\n",
              "      <script>\n",
              "\n",
              "function displayQuickchartButton(domScope) {\n",
              "  let quickchartButtonEl =\n",
              "    domScope.querySelector('#df-e4de7ad2-0c1e-419b-97fb-6f226e19ef60 button.colab-df-quickchart');\n",
              "  quickchartButtonEl.style.display =\n",
              "    google.colab.kernel.accessAllowed ? 'block' : 'none';\n",
              "}\n",
              "\n",
              "        displayQuickchartButton(document);\n",
              "      </script>\n",
              "      <style>\n",
              "    .colab-df-container {\n",
              "      display:flex;\n",
              "      flex-wrap:wrap;\n",
              "      gap: 12px;\n",
              "    }\n",
              "\n",
              "    .colab-df-convert {\n",
              "      background-color: #E8F0FE;\n",
              "      border: none;\n",
              "      border-radius: 50%;\n",
              "      cursor: pointer;\n",
              "      display: none;\n",
              "      fill: #1967D2;\n",
              "      height: 32px;\n",
              "      padding: 0 0 0 0;\n",
              "      width: 32px;\n",
              "    }\n",
              "\n",
              "    .colab-df-convert:hover {\n",
              "      background-color: #E2EBFA;\n",
              "      box-shadow: 0px 1px 2px rgba(60, 64, 67, 0.3), 0px 1px 3px 1px rgba(60, 64, 67, 0.15);\n",
              "      fill: #174EA6;\n",
              "    }\n",
              "\n",
              "    [theme=dark] .colab-df-convert {\n",
              "      background-color: #3B4455;\n",
              "      fill: #D2E3FC;\n",
              "    }\n",
              "\n",
              "    [theme=dark] .colab-df-convert:hover {\n",
              "      background-color: #434B5C;\n",
              "      box-shadow: 0px 1px 3px 1px rgba(0, 0, 0, 0.15);\n",
              "      filter: drop-shadow(0px 1px 2px rgba(0, 0, 0, 0.3));\n",
              "      fill: #FFFFFF;\n",
              "    }\n",
              "  </style>\n",
              "\n",
              "      <script>\n",
              "        const buttonEl =\n",
              "          document.querySelector('#df-90c9aef4-bee1-49ac-a206-eb9076807459 button.colab-df-convert');\n",
              "        buttonEl.style.display =\n",
              "          google.colab.kernel.accessAllowed ? 'block' : 'none';\n",
              "\n",
              "        async function convertToInteractive(key) {\n",
              "          const element = document.querySelector('#df-90c9aef4-bee1-49ac-a206-eb9076807459');\n",
              "          const dataTable =\n",
              "            await google.colab.kernel.invokeFunction('convertToInteractive',\n",
              "                                                     [key], {});\n",
              "          if (!dataTable) return;\n",
              "\n",
              "          const docLinkHtml = 'Like what you see? Visit the ' +\n",
              "            '<a target=\"_blank\" href=https://colab.research.google.com/notebooks/data_table.ipynb>data table notebook</a>'\n",
              "            + ' to learn more about interactive tables.';\n",
              "          element.innerHTML = '';\n",
              "          dataTable['output_type'] = 'display_data';\n",
              "          await google.colab.output.renderOutput(dataTable, element);\n",
              "          const docLink = document.createElement('div');\n",
              "          docLink.innerHTML = docLinkHtml;\n",
              "          element.appendChild(docLink);\n",
              "        }\n",
              "      </script>\n",
              "    </div>\n",
              "  </div>\n"
            ]
          },
          "metadata": {},
          "execution_count": 5
        }
      ]
    },
    {
      "cell_type": "code",
      "source": [
        "def null_values(df: pd.DataFrame) -> None:\n",
        "  \"\"\"\n",
        "  データ内に欠損値があるかどうかをチェックする関数。\n",
        "  欠損値がない場合: There aren't null values in the dataframe\n",
        "  欠損値がある場合: 該当箇所の列名と欠損値の数を出力する\n",
        "  \"\"\"\n",
        "  nulls = df.isnull().sum()\n",
        "  if nulls.sum() == 0:\n",
        "      print(\"There aren't null values in the dataframe\")\n",
        "  else:\n",
        "      print('Null values:')\n",
        "      print(nulls[nulls > 0])"
      ],
      "metadata": {
        "id": "T5NLdL3K1cib"
      },
      "execution_count": null,
      "outputs": []
    },
    {
      "cell_type": "code",
      "source": [
        "# Check if there are null values here:\n",
        "null_values(df)"
      ],
      "metadata": {
        "id": "vwAy1XAHR3Gq",
        "colab": {
          "base_uri": "https://localhost:8080/"
        },
        "outputId": "f19c81e8-d0d6-4154-d587-1c461805652e"
      },
      "execution_count": null,
      "outputs": [
        {
          "output_type": "stream",
          "name": "stdout",
          "text": [
            "Null values:\n",
            "weight                 1320\n",
            "height                 3183\n",
            "BMI                    3243\n",
            "delta_vent_start       2015\n",
            "ventilation_status     2015\n",
            "                      ...  \n",
            "temperature            7442\n",
            "delta_glucose         11425\n",
            "glucose               11425\n",
            "delta_heart_rhythm     1834\n",
            "heart_rhythm           1834\n",
            "Length: 109, dtype: int64\n"
          ]
        }
      ]
    },
    {
      "cell_type": "markdown",
      "source": [
        " ## **3. Understand Your Data / データを理解する**\n",
        "---\n"
      ],
      "metadata": {
        "id": "sKiLCcTe_1s2"
      }
    },
    {
      "cell_type": "markdown",
      "source": [
        "### Understand the variables:\n",
        "\n",
        "The first step is to understand what variables your dataset has and how these variables are distributed. The columns and data types are described in [Variable Dictionary (GitHub Link)](https://github.com/TokyoDatathon2023/notebooks/blob/main/variable_dictionary.md).\n",
        "\n",
        "Discuss with your team about the problem and what variables are needed."
      ],
      "metadata": {
        "id": "zqwtcefTVxdh"
      }
    },
    {
      "cell_type": "markdown",
      "source": [
        "### 変数を理解する:\n",
        "\n",
        "まずは、データセットがどのような変数を持ち、それらの変数がどのように分布しているのかを理解しましょう。\n",
        "\n",
        "データの変数一覧：[Variable Dictionary (GitHub Link)](https://github.com/TokyoDatathon2023/notebooks/blob/main/variable_dictionary.md).\n",
        "\n",
        "どの変数が必要かをチームで話し合いましょう。\n"
      ],
      "metadata": {
        "id": "pQsQaYbBqH3V"
      }
    },
    {
      "cell_type": "markdown",
      "source": [
        "### Select your variables\n",
        "**Task:** To simplify the task we will use a reduced group of variables for the following analysis. Ideally you should decide with your groups which variables you consider to be really important.\n",
        "\n",
        "The variables should be selected:\n",
        "1. Always thinking about the question to solve and the hypothesis.\n",
        "2. Using the clinical experience of the members of the group and if possible supported by literature.\n",
        "3. Using mathematical and statistical methods."
      ],
      "metadata": {
        "id": "ZEzfCAqiVRx8"
      }
    },
    {
      "cell_type": "markdown",
      "source": [
        "### 変数の選択\n",
        "**タスク：**\n",
        "作業を単純化するために、これ以降の分析で使用する変数を減らして作業を進めます。\n",
        "重要な変数が何か、分析に必要な変数は何か、をグループで話し合いましょう。\n",
        "\n",
        "気を付けること\n",
        "1. 解決すべき課題と仮説を常に意識すること。\n",
        "2. グループのメンバーの臨床経験を基にすること。可能であれば文献による裏付けもとること。\n",
        "3. 数学的・統計的な手法を用いること。\n"
      ],
      "metadata": {
        "id": "_K4UPphxJxbA"
      }
    },
    {
      "cell_type": "markdown",
      "source": [
        "###### ✏️ Select demographic variables:\n",
        "Due to the challenge we need some demographic information select the relevant columns:"
      ],
      "metadata": {
        "id": "npybroq6Ju2a"
      }
    },
    {
      "cell_type": "markdown",
      "source": [
        "###### ✏️ 患者背景に関する人口統計変数の選択:\n",
        "課題解決のためにはいくつかの患者背景に関する人口統計学的情報が必要です。"
      ],
      "metadata": {
        "id": "4xcftuvbMeHW"
      }
    },
    {
      "cell_type": "code",
      "source": [
        "# Patient main information\n",
        "patient_info = ['subject_id', 'stay_id', 'SaO2', 'delta_SpO2', 'SpO2', 'hidden_hypoxemia', 'ventilation_status']\n",
        "\n",
        "# Demographic variables\n",
        "demographic_variables = ['gender', 'anchor_age', 'race_group', 'language', 'insurance']"
      ],
      "metadata": {
        "id": "ZIUc7QwLJuDT"
      },
      "execution_count": null,
      "outputs": []
    },
    {
      "cell_type": "markdown",
      "source": [
        "The clinical variables selected were selected based on the variables that are most related with SaO2 and Spo2 and a correlation method was used to filter those variables.\n",
        "You can use other methods and criteria!"
      ],
      "metadata": {
        "id": "gZxXW_09KCOC"
      }
    },
    {
      "cell_type": "markdown",
      "source": [
        "SaO2とSpO2と関連性の高い変数を選択し、それらの変数をフィルタリングするために相関法を用います。もちろん、他の方法を採用することも可能です！"
      ],
      "metadata": {
        "id": "RMnIyfbVDOup"
      }
    },
    {
      "cell_type": "markdown",
      "source": [
        "###### ✏️ Select clinical variables\n",
        "1. Manual variable selection: Manually select with you team the variables that are clinically important. Don't worry if there are many, later we will use other methods to filter the variables"
      ],
      "metadata": {
        "id": "Ucr8SD4lW0Eh"
      }
    },
    {
      "cell_type": "markdown",
      "source": [
        "###### 臨床変数の選択\n",
        "1. 手動での変数選択: チームで話し合って、臨床的に重要な変数を手動で選択します。\n",
        "後で他の方法でフィルタリングを行うので、数が多くなっても気にせず選択してください。"
      ],
      "metadata": {
        "id": "_MLRB7YbOcWs"
      }
    },
    {
      "cell_type": "code",
      "source": [
        "# Static clinical variables\n",
        "static_clinical_variables = ['CCI', 'BMI', 'SOFA_admission']\n",
        "\n",
        "# Temporal clinical variables\n",
        "sofa_variables = [column for column in df.columns if 'sofa' in column]\n",
        "temporal_clinical_variables = ['SpO2', 'SaO2', 'FiO2', 'delta_vent_start', 'delta_rrt', 'delta_vp_start',\n",
        "                               'mch', 'mchc', 'mcv', 'platelet', 'rbc', 'rdw', 'wbc', 'inr', 'pt', 'ptt', 'alt', 'alp', 'ast',\n",
        "                               'bilirubin_total', 'delta_albumin', 'albumin', 'aniongap', 'bicarbonate', 'bun', 'calcium', 'chloride',\n",
        "                               'creatinine', 'glucose_lab', 'sodium', 'potassium', 'ph', 'lactate', 'norepinephrine_equivalent_dose',\n",
        "                               'hemoglobin', 'hematocrit', 'delta_ld_ldh', 'ld_ldh'] + sofa_variables\n",
        "\n",
        "outcomes = ['los_hospital', 'los_icu', 'mortality_in']\n",
        "\n",
        "treatment = ['invasive_vent', 'rrt']"
      ],
      "metadata": {
        "id": "GLYKUYWtKjNh"
      },
      "execution_count": null,
      "outputs": []
    },
    {
      "cell_type": "markdown",
      "source": [
        "###### ✏️ Variable filtering\n",
        "Let's now employ a few techniques to filter the variables. You should choose a technique to do it.\n",
        "\n",
        "Hint: To choose the variables most connected with the columns SpO2 and SaO2, we utilised the correlation as an example. You are not required to employ the identical column(s). Select the columns in accordance with your hypothesis."
      ],
      "metadata": {
        "id": "lhKfPsmRW8TA"
      }
    },
    {
      "cell_type": "markdown",
      "source": [
        "###### ✏️ 変数のフィルタリング\n",
        "変数をフィルタリングする手法をいくつか使ってみましょう。\n",
        "どのフィルタリング手法を使うのかはチームで決定してください。\n",
        "\n",
        "ヒント: 先ほどは例として、SpO2列とSaO2列と最も関係のある変数を選択するために、相関を用いていましたが、チームで立てた仮説に基づいて適宜必要な列を選択して下さい。"
      ],
      "metadata": {
        "id": "cvgNoOalTMH3"
      }
    },
    {
      "cell_type": "code",
      "source": [
        "from typing import Any, List, Union\n",
        "\n",
        "def get_most_correlated(df: pd.DataFrame, variable: str, n: int) -> List[str]:\n",
        "  \"\"\"\n",
        "  特定の変数に最も相関(正・負ともに)のある変数を出力する関数\n",
        "  引数(型名):\n",
        "    df(pandas dataframe): 計算対象の変数を含むデータ\n",
        "    variable(string): 相関を計算したい変数名(Eg. 'SaO2')\n",
        "    n(integer): 最も相関のある変数として取得したい変数の数を表す整数\n",
        "  戻り値:\n",
        "    最も相関(正・負ともに)の強い上位n個の変数名のリスト\n",
        "  \"\"\"\n",
        "\n",
        "  # Calculate the correlation matrix\n",
        "  corr_matrix = df.corr()\n",
        "\n",
        "  # Print the correlation matrix\n",
        "  correlation = corr_matrix[variable].sort_values(ascending=False)\n",
        "  positive_correlated = correlation[:n]\n",
        "  inversely_correlated = correlation[-n:]\n",
        "  print('#'*40, f' {variable} ' , '#'*40)\n",
        "  print(f'The {n} most correlated variables to variable {variable} are: ')\n",
        "  print(positive_correlated)\n",
        "  print(f'The {n} most inversely correlated variables to variable {variable} are: ')\n",
        "  print(inversely_correlated)\n",
        "\n",
        "  return list(positive_correlated.index) + list(inversely_correlated.index)"
      ],
      "metadata": {
        "id": "bqsjG9cFIVTS"
      },
      "execution_count": null,
      "outputs": []
    },
    {
      "cell_type": "code",
      "source": [
        "# Optional: add another feature selection process to improve the model at a later stage\n",
        "array_like = Union[pd.DataFrame, np.ndarray, List, Any]\n",
        "\n",
        "outcome_var = \"mortality_in\"\n",
        "K = 7\n",
        "method = f_classif  # f_classif, chi2, mutual_info_classif, mutual_info_regression, etc\n",
        "\n",
        "def feat_select(features: List[str], df: pd.DataFrame, outcome_var: str, K: int, method: Any) -> array_like:\n",
        "  X = df[features]\n",
        "  y = df[outcome_var]\n",
        "  return SelectKBest(method, k=K).fit(X, y).get_feature_names_out()\n",
        "\n",
        "# resulting_temporal_clinical_variables = feat_select(resulting_temporal_clinical_variables, df, outcome_var, K, method)"
      ],
      "metadata": {
        "id": "Nlys9bNkJb2h"
      },
      "execution_count": null,
      "outputs": []
    },
    {
      "cell_type": "code",
      "source": [
        "print(f'The number of initial temporal clinical variables is {len(temporal_clinical_variables)}')\n",
        "\n",
        "# Select the number of related columns:\n",
        "#n1 =  # Eg. 8\n",
        "#n2 =  # Eg. 10\n",
        "#ref_col1 = # Eg. 'SaO2'\n",
        "#ref_col2 = # Eg. 'SpO2'\n",
        "\n",
        "n1 = 8\n",
        "n2 = 10\n",
        "ref_col1 = 'SpO2'\n",
        "ref_col2 = 'SaO2'\n",
        "\n",
        "# Get variables correlated to 'ref_col'\n",
        "columns_1 = get_most_correlated(df[temporal_clinical_variables], variable=ref_col1, n=n1)\n",
        "\n",
        "# Get variables correlated to 'ref_col_2'\n",
        "columns_2 = get_most_correlated(df[temporal_clinical_variables], variable=ref_col2, n=n2)\n",
        "\n",
        "# Merge the resulting columns in a single list:\n",
        "resulting_temporal_clinical_variables = list(set(columns_1+columns_2))\n",
        "\n",
        "print(f'The number of resulting variables is {len(resulting_temporal_clinical_variables)}')"
      ],
      "metadata": {
        "id": "rxZJnP7bIVWT",
        "colab": {
          "base_uri": "https://localhost:8080/"
        },
        "outputId": "64ea466c-a80d-49d6-fa4c-8f9c703e9e54"
      },
      "execution_count": null,
      "outputs": [
        {
          "output_type": "stream",
          "name": "stdout",
          "text": [
            "The number of initial temporal clinical variables is 50\n",
            "########################################  SpO2  ########################################\n",
            "The 8 most correlated variables to variable SpO2 are: \n",
            "SpO2               1.000000\n",
            "SaO2               0.581258\n",
            "chloride           0.133378\n",
            "albumin            0.133272\n",
            "ph                 0.095493\n",
            "mchc               0.075068\n",
            "delta_sofa_cns     0.060068\n",
            "delta_sofa_coag    0.050834\n",
            "Name: SpO2, dtype: float64\n",
            "The 8 most inversely correlated variables to variable SpO2 are: \n",
            "creatinine                       -0.088402\n",
            "inr                              -0.092777\n",
            "pt                               -0.097365\n",
            "FiO2                             -0.112776\n",
            "bun                              -0.113027\n",
            "aniongap                         -0.145249\n",
            "norepinephrine_equivalent_dose   -0.191103\n",
            "sofa_resp                        -0.293453\n",
            "Name: SpO2, dtype: float64\n",
            "########################################  SaO2  ########################################\n",
            "The 10 most correlated variables to variable SaO2 are: \n",
            "SaO2                1.000000\n",
            "SpO2                0.581258\n",
            "ph                  0.145395\n",
            "albumin             0.118584\n",
            "chloride            0.109465\n",
            "mchc                0.091773\n",
            "delta_vent_start    0.050825\n",
            "delta_sofa_cns      0.050298\n",
            "delta_sofa_coag     0.040316\n",
            "delta_sofa_cv       0.034084\n",
            "Name: SaO2, dtype: float64\n",
            "The 10 most inversely correlated variables to variable SaO2 are: \n",
            "bun                              -0.061150\n",
            "creatinine                       -0.066049\n",
            "sofa_coag                        -0.066495\n",
            "bilirubin_total                  -0.069903\n",
            "aniongap                         -0.075359\n",
            "mcv                              -0.078825\n",
            "rdw                              -0.094518\n",
            "FiO2                             -0.108955\n",
            "norepinephrine_equivalent_dose   -0.153355\n",
            "sofa_resp                        -0.325431\n",
            "Name: SaO2, dtype: float64\n",
            "The number of resulting variables is 22\n"
          ]
        }
      ]
    },
    {
      "cell_type": "code",
      "source": [
        "# Get the resulting dataframe\n",
        "variables = list(set(patient_info + demographic_variables + static_clinical_variables + resulting_temporal_clinical_variables + outcomes + treatment))\n",
        "\n",
        "df = df [variables]\n",
        "df.head()"
      ],
      "metadata": {
        "id": "NMQJzYj-DPk6",
        "colab": {
          "base_uri": "https://localhost:8080/",
          "height": 300
        },
        "outputId": "aa1ffe68-4f01-4148-d8e1-3f0332484d93"
      },
      "execution_count": null,
      "outputs": [
        {
          "output_type": "execute_result",
          "data": {
            "text/plain": [
              "  language  inr ventilation_status  FiO2  creatinine  albumin  aniongap  \\\n",
              "0  ENGLISH  1.1    NonInvasiveVent   NaN         NaN      3.5       NaN   \n",
              "1  ENGLISH  1.1       InvasiveVent   NaN         0.5      NaN      11.0   \n",
              "2  ENGLISH  1.2       InvasiveVent   NaN         0.9      4.2       NaN   \n",
              "3  ENGLISH  1.2       InvasiveVent   NaN         NaN      4.2       NaN   \n",
              "4  ENGLISH  1.2       InvasiveVent   NaN         0.9      4.2       8.0   \n",
              "\n",
              "   anchor_age   bun  rrt  ...   mcv        BMI  SOFA_admission  los_icu  \\\n",
              "0          68   NaN  0.0  ...   NaN  26.370238               8     9.17   \n",
              "1          80  25.0  0.0  ...  98.0        NaN              10     7.00   \n",
              "2          56  18.0  0.0  ...  94.0  26.588751               7     1.04   \n",
              "3          56   NaN  0.0  ...   NaN  26.588751               7     1.04   \n",
              "4          56  18.0  0.0  ...  94.0  26.588751               7     1.04   \n",
              "\n",
              "   norepinephrine_equivalent_dose  SaO2   stay_id  sofa_coag  mortality_in  \\\n",
              "0                             NaN  90.0  37510196        NaN             1   \n",
              "1                             NaN  98.0  38875437        NaN             0   \n",
              "2                          0.0952  97.0  31831386        0.0             0   \n",
              "3                          0.1104  99.0  31831386        NaN             0   \n",
              "4                          0.1104  99.0  31831386        0.0             0   \n",
              "\n",
              "   mchc  \n",
              "0   NaN  \n",
              "1  31.5  \n",
              "2  34.4  \n",
              "3   NaN  \n",
              "4  33.7  \n",
              "\n",
              "[5 rows x 40 columns]"
            ],
            "text/html": [
              "\n",
              "\n",
              "  <div id=\"df-88e51e43-7fae-4a1e-b510-2e25ea476158\">\n",
              "    <div class=\"colab-df-container\">\n",
              "      <div>\n",
              "<style scoped>\n",
              "    .dataframe tbody tr th:only-of-type {\n",
              "        vertical-align: middle;\n",
              "    }\n",
              "\n",
              "    .dataframe tbody tr th {\n",
              "        vertical-align: top;\n",
              "    }\n",
              "\n",
              "    .dataframe thead th {\n",
              "        text-align: right;\n",
              "    }\n",
              "</style>\n",
              "<table border=\"1\" class=\"dataframe\">\n",
              "  <thead>\n",
              "    <tr style=\"text-align: right;\">\n",
              "      <th></th>\n",
              "      <th>language</th>\n",
              "      <th>inr</th>\n",
              "      <th>ventilation_status</th>\n",
              "      <th>FiO2</th>\n",
              "      <th>creatinine</th>\n",
              "      <th>albumin</th>\n",
              "      <th>aniongap</th>\n",
              "      <th>anchor_age</th>\n",
              "      <th>bun</th>\n",
              "      <th>rrt</th>\n",
              "      <th>...</th>\n",
              "      <th>mcv</th>\n",
              "      <th>BMI</th>\n",
              "      <th>SOFA_admission</th>\n",
              "      <th>los_icu</th>\n",
              "      <th>norepinephrine_equivalent_dose</th>\n",
              "      <th>SaO2</th>\n",
              "      <th>stay_id</th>\n",
              "      <th>sofa_coag</th>\n",
              "      <th>mortality_in</th>\n",
              "      <th>mchc</th>\n",
              "    </tr>\n",
              "  </thead>\n",
              "  <tbody>\n",
              "    <tr>\n",
              "      <th>0</th>\n",
              "      <td>ENGLISH</td>\n",
              "      <td>1.1</td>\n",
              "      <td>NonInvasiveVent</td>\n",
              "      <td>NaN</td>\n",
              "      <td>NaN</td>\n",
              "      <td>3.5</td>\n",
              "      <td>NaN</td>\n",
              "      <td>68</td>\n",
              "      <td>NaN</td>\n",
              "      <td>0.0</td>\n",
              "      <td>...</td>\n",
              "      <td>NaN</td>\n",
              "      <td>26.370238</td>\n",
              "      <td>8</td>\n",
              "      <td>9.17</td>\n",
              "      <td>NaN</td>\n",
              "      <td>90.0</td>\n",
              "      <td>37510196</td>\n",
              "      <td>NaN</td>\n",
              "      <td>1</td>\n",
              "      <td>NaN</td>\n",
              "    </tr>\n",
              "    <tr>\n",
              "      <th>1</th>\n",
              "      <td>ENGLISH</td>\n",
              "      <td>1.1</td>\n",
              "      <td>InvasiveVent</td>\n",
              "      <td>NaN</td>\n",
              "      <td>0.5</td>\n",
              "      <td>NaN</td>\n",
              "      <td>11.0</td>\n",
              "      <td>80</td>\n",
              "      <td>25.0</td>\n",
              "      <td>0.0</td>\n",
              "      <td>...</td>\n",
              "      <td>98.0</td>\n",
              "      <td>NaN</td>\n",
              "      <td>10</td>\n",
              "      <td>7.00</td>\n",
              "      <td>NaN</td>\n",
              "      <td>98.0</td>\n",
              "      <td>38875437</td>\n",
              "      <td>NaN</td>\n",
              "      <td>0</td>\n",
              "      <td>31.5</td>\n",
              "    </tr>\n",
              "    <tr>\n",
              "      <th>2</th>\n",
              "      <td>ENGLISH</td>\n",
              "      <td>1.2</td>\n",
              "      <td>InvasiveVent</td>\n",
              "      <td>NaN</td>\n",
              "      <td>0.9</td>\n",
              "      <td>4.2</td>\n",
              "      <td>NaN</td>\n",
              "      <td>56</td>\n",
              "      <td>18.0</td>\n",
              "      <td>0.0</td>\n",
              "      <td>...</td>\n",
              "      <td>94.0</td>\n",
              "      <td>26.588751</td>\n",
              "      <td>7</td>\n",
              "      <td>1.04</td>\n",
              "      <td>0.0952</td>\n",
              "      <td>97.0</td>\n",
              "      <td>31831386</td>\n",
              "      <td>0.0</td>\n",
              "      <td>0</td>\n",
              "      <td>34.4</td>\n",
              "    </tr>\n",
              "    <tr>\n",
              "      <th>3</th>\n",
              "      <td>ENGLISH</td>\n",
              "      <td>1.2</td>\n",
              "      <td>InvasiveVent</td>\n",
              "      <td>NaN</td>\n",
              "      <td>NaN</td>\n",
              "      <td>4.2</td>\n",
              "      <td>NaN</td>\n",
              "      <td>56</td>\n",
              "      <td>NaN</td>\n",
              "      <td>0.0</td>\n",
              "      <td>...</td>\n",
              "      <td>NaN</td>\n",
              "      <td>26.588751</td>\n",
              "      <td>7</td>\n",
              "      <td>1.04</td>\n",
              "      <td>0.1104</td>\n",
              "      <td>99.0</td>\n",
              "      <td>31831386</td>\n",
              "      <td>NaN</td>\n",
              "      <td>0</td>\n",
              "      <td>NaN</td>\n",
              "    </tr>\n",
              "    <tr>\n",
              "      <th>4</th>\n",
              "      <td>ENGLISH</td>\n",
              "      <td>1.2</td>\n",
              "      <td>InvasiveVent</td>\n",
              "      <td>NaN</td>\n",
              "      <td>0.9</td>\n",
              "      <td>4.2</td>\n",
              "      <td>8.0</td>\n",
              "      <td>56</td>\n",
              "      <td>18.0</td>\n",
              "      <td>0.0</td>\n",
              "      <td>...</td>\n",
              "      <td>94.0</td>\n",
              "      <td>26.588751</td>\n",
              "      <td>7</td>\n",
              "      <td>1.04</td>\n",
              "      <td>0.1104</td>\n",
              "      <td>99.0</td>\n",
              "      <td>31831386</td>\n",
              "      <td>0.0</td>\n",
              "      <td>0</td>\n",
              "      <td>33.7</td>\n",
              "    </tr>\n",
              "  </tbody>\n",
              "</table>\n",
              "<p>5 rows × 40 columns</p>\n",
              "</div>\n",
              "      <button class=\"colab-df-convert\" onclick=\"convertToInteractive('df-88e51e43-7fae-4a1e-b510-2e25ea476158')\"\n",
              "              title=\"Convert this dataframe to an interactive table.\"\n",
              "              style=\"display:none;\">\n",
              "\n",
              "  <svg xmlns=\"http://www.w3.org/2000/svg\" height=\"24px\"viewBox=\"0 0 24 24\"\n",
              "       width=\"24px\">\n",
              "    <path d=\"M0 0h24v24H0V0z\" fill=\"none\"/>\n",
              "    <path d=\"M18.56 5.44l.94 2.06.94-2.06 2.06-.94-2.06-.94-.94-2.06-.94 2.06-2.06.94zm-11 1L8.5 8.5l.94-2.06 2.06-.94-2.06-.94L8.5 2.5l-.94 2.06-2.06.94zm10 10l.94 2.06.94-2.06 2.06-.94-2.06-.94-.94-2.06-.94 2.06-2.06.94z\"/><path d=\"M17.41 7.96l-1.37-1.37c-.4-.4-.92-.59-1.43-.59-.52 0-1.04.2-1.43.59L10.3 9.45l-7.72 7.72c-.78.78-.78 2.05 0 2.83L4 21.41c.39.39.9.59 1.41.59.51 0 1.02-.2 1.41-.59l7.78-7.78 2.81-2.81c.8-.78.8-2.07 0-2.86zM5.41 20L4 18.59l7.72-7.72 1.47 1.35L5.41 20z\"/>\n",
              "  </svg>\n",
              "      </button>\n",
              "\n",
              "\n",
              "\n",
              "    <div id=\"df-a03eaa4b-7cfc-4916-80bd-dc0a592ffced\">\n",
              "      <button class=\"colab-df-quickchart\" onclick=\"quickchart('df-a03eaa4b-7cfc-4916-80bd-dc0a592ffced')\"\n",
              "              title=\"Suggest charts.\"\n",
              "              style=\"display:none;\">\n",
              "\n",
              "<svg xmlns=\"http://www.w3.org/2000/svg\" height=\"24px\"viewBox=\"0 0 24 24\"\n",
              "     width=\"24px\">\n",
              "    <g>\n",
              "        <path d=\"M19 3H5c-1.1 0-2 .9-2 2v14c0 1.1.9 2 2 2h14c1.1 0 2-.9 2-2V5c0-1.1-.9-2-2-2zM9 17H7v-7h2v7zm4 0h-2V7h2v10zm4 0h-2v-4h2v4z\"/>\n",
              "    </g>\n",
              "</svg>\n",
              "      </button>\n",
              "    </div>\n",
              "\n",
              "<style>\n",
              "  .colab-df-quickchart {\n",
              "    background-color: #E8F0FE;\n",
              "    border: none;\n",
              "    border-radius: 50%;\n",
              "    cursor: pointer;\n",
              "    display: none;\n",
              "    fill: #1967D2;\n",
              "    height: 32px;\n",
              "    padding: 0 0 0 0;\n",
              "    width: 32px;\n",
              "  }\n",
              "\n",
              "  .colab-df-quickchart:hover {\n",
              "    background-color: #E2EBFA;\n",
              "    box-shadow: 0px 1px 2px rgba(60, 64, 67, 0.3), 0px 1px 3px 1px rgba(60, 64, 67, 0.15);\n",
              "    fill: #174EA6;\n",
              "  }\n",
              "\n",
              "  [theme=dark] .colab-df-quickchart {\n",
              "    background-color: #3B4455;\n",
              "    fill: #D2E3FC;\n",
              "  }\n",
              "\n",
              "  [theme=dark] .colab-df-quickchart:hover {\n",
              "    background-color: #434B5C;\n",
              "    box-shadow: 0px 1px 3px 1px rgba(0, 0, 0, 0.15);\n",
              "    filter: drop-shadow(0px 1px 2px rgba(0, 0, 0, 0.3));\n",
              "    fill: #FFFFFF;\n",
              "  }\n",
              "</style>\n",
              "\n",
              "    <script>\n",
              "      async function quickchart(key) {\n",
              "        const containerElement = document.querySelector('#' + key);\n",
              "        const charts = await google.colab.kernel.invokeFunction(\n",
              "            'suggestCharts', [key], {});\n",
              "      }\n",
              "    </script>\n",
              "\n",
              "      <script>\n",
              "\n",
              "function displayQuickchartButton(domScope) {\n",
              "  let quickchartButtonEl =\n",
              "    domScope.querySelector('#df-a03eaa4b-7cfc-4916-80bd-dc0a592ffced button.colab-df-quickchart');\n",
              "  quickchartButtonEl.style.display =\n",
              "    google.colab.kernel.accessAllowed ? 'block' : 'none';\n",
              "}\n",
              "\n",
              "        displayQuickchartButton(document);\n",
              "      </script>\n",
              "      <style>\n",
              "    .colab-df-container {\n",
              "      display:flex;\n",
              "      flex-wrap:wrap;\n",
              "      gap: 12px;\n",
              "    }\n",
              "\n",
              "    .colab-df-convert {\n",
              "      background-color: #E8F0FE;\n",
              "      border: none;\n",
              "      border-radius: 50%;\n",
              "      cursor: pointer;\n",
              "      display: none;\n",
              "      fill: #1967D2;\n",
              "      height: 32px;\n",
              "      padding: 0 0 0 0;\n",
              "      width: 32px;\n",
              "    }\n",
              "\n",
              "    .colab-df-convert:hover {\n",
              "      background-color: #E2EBFA;\n",
              "      box-shadow: 0px 1px 2px rgba(60, 64, 67, 0.3), 0px 1px 3px 1px rgba(60, 64, 67, 0.15);\n",
              "      fill: #174EA6;\n",
              "    }\n",
              "\n",
              "    [theme=dark] .colab-df-convert {\n",
              "      background-color: #3B4455;\n",
              "      fill: #D2E3FC;\n",
              "    }\n",
              "\n",
              "    [theme=dark] .colab-df-convert:hover {\n",
              "      background-color: #434B5C;\n",
              "      box-shadow: 0px 1px 3px 1px rgba(0, 0, 0, 0.15);\n",
              "      filter: drop-shadow(0px 1px 2px rgba(0, 0, 0, 0.3));\n",
              "      fill: #FFFFFF;\n",
              "    }\n",
              "  </style>\n",
              "\n",
              "      <script>\n",
              "        const buttonEl =\n",
              "          document.querySelector('#df-88e51e43-7fae-4a1e-b510-2e25ea476158 button.colab-df-convert');\n",
              "        buttonEl.style.display =\n",
              "          google.colab.kernel.accessAllowed ? 'block' : 'none';\n",
              "\n",
              "        async function convertToInteractive(key) {\n",
              "          const element = document.querySelector('#df-88e51e43-7fae-4a1e-b510-2e25ea476158');\n",
              "          const dataTable =\n",
              "            await google.colab.kernel.invokeFunction('convertToInteractive',\n",
              "                                                     [key], {});\n",
              "          if (!dataTable) return;\n",
              "\n",
              "          const docLinkHtml = 'Like what you see? Visit the ' +\n",
              "            '<a target=\"_blank\" href=https://colab.research.google.com/notebooks/data_table.ipynb>data table notebook</a>'\n",
              "            + ' to learn more about interactive tables.';\n",
              "          element.innerHTML = '';\n",
              "          dataTable['output_type'] = 'display_data';\n",
              "          await google.colab.output.renderOutput(dataTable, element);\n",
              "          const docLink = document.createElement('div');\n",
              "          docLink.innerHTML = docLinkHtml;\n",
              "          element.appendChild(docLink);\n",
              "        }\n",
              "      </script>\n",
              "    </div>\n",
              "  </div>\n"
            ]
          },
          "metadata": {},
          "execution_count": 13
        }
      ]
    },
    {
      "cell_type": "markdown",
      "source": [
        "###### ✏️ Outcome Leakage\n",
        "Outcome leakage occurs when the model is inadvertently given access to data it shouldn't have until the time of prediction. For instance, when predicting hidden hypoxemia, including the SOFA respiratory score (sofa_resp), which includes PaO2 in its definition, in our model could lead to leakage. This is because PaO2 is directly related to the outcome we're trying to predict. It's important to be mindful of potential outcome leakages like this when selecting variables for model training."
      ],
      "metadata": {
        "id": "3ovYuX8y46H_"
      }
    },
    {
      "cell_type": "markdown",
      "source": [
        "###### ✏️ Outcome Leakage（結果の漏洩）\n",
        "Outcome leakage とは、予測時までにモデルがアクセスすべきでないデータに誤ってアクセスする場合を指します。例えば、潜在性低酸素血症を予測する際に、それ自身の定義に PaO2 を含む SOFA 呼吸器スコア（sofa_resp）をモデルに含めてしまうと、漏洩が生じる可能性があります。これは、 PaO2 が我々が予測しようとしている結果と直接関連しているからです。モデルの訓練のために変数を選択する際には、このような潜在的な outcome leakage に注意することが重要です。"
      ],
      "metadata": {
        "id": "8JcYd5MZ5KKP"
      }
    },
    {
      "cell_type": "code",
      "source": [
        "# Let's discuss in the team and eliminate features that could potentially cause outcome leakage!\n",
        "\n",
        "df = df.drop(columns=outcomes+['sofa_resp']) # 'delta_sofa_resp' should also be dropped if included."
      ],
      "metadata": {
        "id": "BMrqdre8_vXT"
      },
      "execution_count": null,
      "outputs": []
    },
    {
      "cell_type": "markdown",
      "source": [
        "### Understand how variables are distributed:"
      ],
      "metadata": {
        "id": "-MHV8nXH_pZ7"
      }
    },
    {
      "cell_type": "markdown",
      "source": [
        "### データの分布を理解する:"
      ],
      "metadata": {
        "id": "oXzM0DSpUm4z"
      }
    },
    {
      "cell_type": "markdown",
      "source": [
        "To see a description of some statistics of each numeric variable, you can use `df.describe()`:\n"
      ],
      "metadata": {
        "id": "36D4dSeJK2zU"
      }
    },
    {
      "cell_type": "markdown",
      "source": [
        "各数値変数の統計情報を見るには`describe()`関数を用います。"
      ],
      "metadata": {
        "id": "PJvJy3brU7lv"
      }
    },
    {
      "cell_type": "code",
      "source": [
        "df.describe()"
      ],
      "metadata": {
        "id": "gyYJzvip-4-2",
        "colab": {
          "base_uri": "https://localhost:8080/",
          "height": 394
        },
        "outputId": "c4da6af5-951b-4dd3-b129-91ec5dbc01bd"
      },
      "execution_count": null,
      "outputs": [
        {
          "output_type": "execute_result",
          "data": {
            "text/plain": [
              "                inr         FiO2    creatinine       albumin      aniongap  \\\n",
              "count  12162.000000  1275.000000  12094.000000  11207.000000  11704.000000   \n",
              "mean       1.464134    50.876078      1.582090      3.352262     14.413876   \n",
              "std        0.735418    17.291490      1.273451      0.803015      4.713470   \n",
              "min        0.700000    21.000000      0.100000      1.100000      3.000000   \n",
              "25%        1.200000    40.000000      0.800000      2.700000     11.000000   \n",
              "50%        1.300000    50.000000      1.200000      3.400000     14.000000   \n",
              "75%        1.500000    50.000000      1.900000      4.000000     17.000000   \n",
              "max       22.600000   100.000000     21.200000      5.400000     50.000000   \n",
              "\n",
              "         anchor_age           bun           rrt  invasive_vent            pt  \\\n",
              "count  17169.000000  12086.000000  17069.000000   17169.000000  12160.000000   \n",
              "mean      64.986371     30.074053      0.212725       0.764809     16.003561   \n",
              "std       14.310498     22.528957      0.409247       0.424131      7.090763   \n",
              "min       18.000000      2.000000      0.000000       0.000000      8.100000   \n",
              "25%       57.000000     15.000000      0.000000       1.000000     13.000000   \n",
              "50%       67.000000     22.000000      0.000000       1.000000     14.200000   \n",
              "75%       75.000000     37.000000      0.000000       1.000000     16.300000   \n",
              "max       91.000000    231.000000      1.000000       1.000000    150.000000   \n",
              "\n",
              "       ...    subject_id  delta_sofa_cv           mcv           BMI  \\\n",
              "count  ...  1.716900e+04   14227.000000  11989.000000  13926.000000   \n",
              "mean   ...  1.501337e+07      -7.100302     90.732455     29.673232   \n",
              "std    ...  2.881796e+06       6.425042      5.972876      7.398039   \n",
              "min    ...  1.000188e+07    -380.000000     58.000000      7.431629   \n",
              "25%    ...  1.249128e+07      -9.000000     87.000000     24.734132   \n",
              "50%    ...  1.495339e+07      -6.000000     90.000000     28.405504   \n",
              "75%    ...  1.752511e+07      -3.000000     94.000000     33.019217   \n",
              "max    ...  1.999775e+07      -1.000000    130.000000    100.897959   \n",
              "\n",
              "       SOFA_admission  norepinephrine_equivalent_dose          SaO2  \\\n",
              "count    17169.000000                     8683.000000  17169.000000   \n",
              "mean         7.775526                        2.235859     95.797758   \n",
              "std          3.816007                        3.317068      3.374777   \n",
              "min          0.000000                        0.004000     65.000000   \n",
              "25%          5.000000                        0.050000     95.000000   \n",
              "50%          7.000000                        0.140100     97.000000   \n",
              "75%         10.000000                        6.018100     98.000000   \n",
              "max         21.000000                       33.310900    100.000000   \n",
              "\n",
              "            stay_id     sofa_coag          mchc  \n",
              "count  1.716900e+04  11235.000000  11987.000000  \n",
              "mean   3.494848e+07      0.790209     33.257345  \n",
              "std    2.882251e+06      0.901432      1.677013  \n",
              "min    3.000065e+07      0.000000     25.300000  \n",
              "25%    3.247045e+07      0.000000     32.200000  \n",
              "50%    3.481731e+07      1.000000     33.300000  \n",
              "75%    3.745870e+07      1.000000     34.400000  \n",
              "max    3.999923e+07      4.000000     40.100000  \n",
              "\n",
              "[8 rows x 31 columns]"
            ],
            "text/html": [
              "\n",
              "\n",
              "  <div id=\"df-a1918d42-e3fd-46d2-9c90-062df892dba3\">\n",
              "    <div class=\"colab-df-container\">\n",
              "      <div>\n",
              "<style scoped>\n",
              "    .dataframe tbody tr th:only-of-type {\n",
              "        vertical-align: middle;\n",
              "    }\n",
              "\n",
              "    .dataframe tbody tr th {\n",
              "        vertical-align: top;\n",
              "    }\n",
              "\n",
              "    .dataframe thead th {\n",
              "        text-align: right;\n",
              "    }\n",
              "</style>\n",
              "<table border=\"1\" class=\"dataframe\">\n",
              "  <thead>\n",
              "    <tr style=\"text-align: right;\">\n",
              "      <th></th>\n",
              "      <th>inr</th>\n",
              "      <th>FiO2</th>\n",
              "      <th>creatinine</th>\n",
              "      <th>albumin</th>\n",
              "      <th>aniongap</th>\n",
              "      <th>anchor_age</th>\n",
              "      <th>bun</th>\n",
              "      <th>rrt</th>\n",
              "      <th>invasive_vent</th>\n",
              "      <th>pt</th>\n",
              "      <th>...</th>\n",
              "      <th>subject_id</th>\n",
              "      <th>delta_sofa_cv</th>\n",
              "      <th>mcv</th>\n",
              "      <th>BMI</th>\n",
              "      <th>SOFA_admission</th>\n",
              "      <th>norepinephrine_equivalent_dose</th>\n",
              "      <th>SaO2</th>\n",
              "      <th>stay_id</th>\n",
              "      <th>sofa_coag</th>\n",
              "      <th>mchc</th>\n",
              "    </tr>\n",
              "  </thead>\n",
              "  <tbody>\n",
              "    <tr>\n",
              "      <th>count</th>\n",
              "      <td>12162.000000</td>\n",
              "      <td>1275.000000</td>\n",
              "      <td>12094.000000</td>\n",
              "      <td>11207.000000</td>\n",
              "      <td>11704.000000</td>\n",
              "      <td>17169.000000</td>\n",
              "      <td>12086.000000</td>\n",
              "      <td>17069.000000</td>\n",
              "      <td>17169.000000</td>\n",
              "      <td>12160.000000</td>\n",
              "      <td>...</td>\n",
              "      <td>1.716900e+04</td>\n",
              "      <td>14227.000000</td>\n",
              "      <td>11989.000000</td>\n",
              "      <td>13926.000000</td>\n",
              "      <td>17169.000000</td>\n",
              "      <td>8683.000000</td>\n",
              "      <td>17169.000000</td>\n",
              "      <td>1.716900e+04</td>\n",
              "      <td>11235.000000</td>\n",
              "      <td>11987.000000</td>\n",
              "    </tr>\n",
              "    <tr>\n",
              "      <th>mean</th>\n",
              "      <td>1.464134</td>\n",
              "      <td>50.876078</td>\n",
              "      <td>1.582090</td>\n",
              "      <td>3.352262</td>\n",
              "      <td>14.413876</td>\n",
              "      <td>64.986371</td>\n",
              "      <td>30.074053</td>\n",
              "      <td>0.212725</td>\n",
              "      <td>0.764809</td>\n",
              "      <td>16.003561</td>\n",
              "      <td>...</td>\n",
              "      <td>1.501337e+07</td>\n",
              "      <td>-7.100302</td>\n",
              "      <td>90.732455</td>\n",
              "      <td>29.673232</td>\n",
              "      <td>7.775526</td>\n",
              "      <td>2.235859</td>\n",
              "      <td>95.797758</td>\n",
              "      <td>3.494848e+07</td>\n",
              "      <td>0.790209</td>\n",
              "      <td>33.257345</td>\n",
              "    </tr>\n",
              "    <tr>\n",
              "      <th>std</th>\n",
              "      <td>0.735418</td>\n",
              "      <td>17.291490</td>\n",
              "      <td>1.273451</td>\n",
              "      <td>0.803015</td>\n",
              "      <td>4.713470</td>\n",
              "      <td>14.310498</td>\n",
              "      <td>22.528957</td>\n",
              "      <td>0.409247</td>\n",
              "      <td>0.424131</td>\n",
              "      <td>7.090763</td>\n",
              "      <td>...</td>\n",
              "      <td>2.881796e+06</td>\n",
              "      <td>6.425042</td>\n",
              "      <td>5.972876</td>\n",
              "      <td>7.398039</td>\n",
              "      <td>3.816007</td>\n",
              "      <td>3.317068</td>\n",
              "      <td>3.374777</td>\n",
              "      <td>2.882251e+06</td>\n",
              "      <td>0.901432</td>\n",
              "      <td>1.677013</td>\n",
              "    </tr>\n",
              "    <tr>\n",
              "      <th>min</th>\n",
              "      <td>0.700000</td>\n",
              "      <td>21.000000</td>\n",
              "      <td>0.100000</td>\n",
              "      <td>1.100000</td>\n",
              "      <td>3.000000</td>\n",
              "      <td>18.000000</td>\n",
              "      <td>2.000000</td>\n",
              "      <td>0.000000</td>\n",
              "      <td>0.000000</td>\n",
              "      <td>8.100000</td>\n",
              "      <td>...</td>\n",
              "      <td>1.000188e+07</td>\n",
              "      <td>-380.000000</td>\n",
              "      <td>58.000000</td>\n",
              "      <td>7.431629</td>\n",
              "      <td>0.000000</td>\n",
              "      <td>0.004000</td>\n",
              "      <td>65.000000</td>\n",
              "      <td>3.000065e+07</td>\n",
              "      <td>0.000000</td>\n",
              "      <td>25.300000</td>\n",
              "    </tr>\n",
              "    <tr>\n",
              "      <th>25%</th>\n",
              "      <td>1.200000</td>\n",
              "      <td>40.000000</td>\n",
              "      <td>0.800000</td>\n",
              "      <td>2.700000</td>\n",
              "      <td>11.000000</td>\n",
              "      <td>57.000000</td>\n",
              "      <td>15.000000</td>\n",
              "      <td>0.000000</td>\n",
              "      <td>1.000000</td>\n",
              "      <td>13.000000</td>\n",
              "      <td>...</td>\n",
              "      <td>1.249128e+07</td>\n",
              "      <td>-9.000000</td>\n",
              "      <td>87.000000</td>\n",
              "      <td>24.734132</td>\n",
              "      <td>5.000000</td>\n",
              "      <td>0.050000</td>\n",
              "      <td>95.000000</td>\n",
              "      <td>3.247045e+07</td>\n",
              "      <td>0.000000</td>\n",
              "      <td>32.200000</td>\n",
              "    </tr>\n",
              "    <tr>\n",
              "      <th>50%</th>\n",
              "      <td>1.300000</td>\n",
              "      <td>50.000000</td>\n",
              "      <td>1.200000</td>\n",
              "      <td>3.400000</td>\n",
              "      <td>14.000000</td>\n",
              "      <td>67.000000</td>\n",
              "      <td>22.000000</td>\n",
              "      <td>0.000000</td>\n",
              "      <td>1.000000</td>\n",
              "      <td>14.200000</td>\n",
              "      <td>...</td>\n",
              "      <td>1.495339e+07</td>\n",
              "      <td>-6.000000</td>\n",
              "      <td>90.000000</td>\n",
              "      <td>28.405504</td>\n",
              "      <td>7.000000</td>\n",
              "      <td>0.140100</td>\n",
              "      <td>97.000000</td>\n",
              "      <td>3.481731e+07</td>\n",
              "      <td>1.000000</td>\n",
              "      <td>33.300000</td>\n",
              "    </tr>\n",
              "    <tr>\n",
              "      <th>75%</th>\n",
              "      <td>1.500000</td>\n",
              "      <td>50.000000</td>\n",
              "      <td>1.900000</td>\n",
              "      <td>4.000000</td>\n",
              "      <td>17.000000</td>\n",
              "      <td>75.000000</td>\n",
              "      <td>37.000000</td>\n",
              "      <td>0.000000</td>\n",
              "      <td>1.000000</td>\n",
              "      <td>16.300000</td>\n",
              "      <td>...</td>\n",
              "      <td>1.752511e+07</td>\n",
              "      <td>-3.000000</td>\n",
              "      <td>94.000000</td>\n",
              "      <td>33.019217</td>\n",
              "      <td>10.000000</td>\n",
              "      <td>6.018100</td>\n",
              "      <td>98.000000</td>\n",
              "      <td>3.745870e+07</td>\n",
              "      <td>1.000000</td>\n",
              "      <td>34.400000</td>\n",
              "    </tr>\n",
              "    <tr>\n",
              "      <th>max</th>\n",
              "      <td>22.600000</td>\n",
              "      <td>100.000000</td>\n",
              "      <td>21.200000</td>\n",
              "      <td>5.400000</td>\n",
              "      <td>50.000000</td>\n",
              "      <td>91.000000</td>\n",
              "      <td>231.000000</td>\n",
              "      <td>1.000000</td>\n",
              "      <td>1.000000</td>\n",
              "      <td>150.000000</td>\n",
              "      <td>...</td>\n",
              "      <td>1.999775e+07</td>\n",
              "      <td>-1.000000</td>\n",
              "      <td>130.000000</td>\n",
              "      <td>100.897959</td>\n",
              "      <td>21.000000</td>\n",
              "      <td>33.310900</td>\n",
              "      <td>100.000000</td>\n",
              "      <td>3.999923e+07</td>\n",
              "      <td>4.000000</td>\n",
              "      <td>40.100000</td>\n",
              "    </tr>\n",
              "  </tbody>\n",
              "</table>\n",
              "<p>8 rows × 31 columns</p>\n",
              "</div>\n",
              "      <button class=\"colab-df-convert\" onclick=\"convertToInteractive('df-a1918d42-e3fd-46d2-9c90-062df892dba3')\"\n",
              "              title=\"Convert this dataframe to an interactive table.\"\n",
              "              style=\"display:none;\">\n",
              "\n",
              "  <svg xmlns=\"http://www.w3.org/2000/svg\" height=\"24px\"viewBox=\"0 0 24 24\"\n",
              "       width=\"24px\">\n",
              "    <path d=\"M0 0h24v24H0V0z\" fill=\"none\"/>\n",
              "    <path d=\"M18.56 5.44l.94 2.06.94-2.06 2.06-.94-2.06-.94-.94-2.06-.94 2.06-2.06.94zm-11 1L8.5 8.5l.94-2.06 2.06-.94-2.06-.94L8.5 2.5l-.94 2.06-2.06.94zm10 10l.94 2.06.94-2.06 2.06-.94-2.06-.94-.94-2.06-.94 2.06-2.06.94z\"/><path d=\"M17.41 7.96l-1.37-1.37c-.4-.4-.92-.59-1.43-.59-.52 0-1.04.2-1.43.59L10.3 9.45l-7.72 7.72c-.78.78-.78 2.05 0 2.83L4 21.41c.39.39.9.59 1.41.59.51 0 1.02-.2 1.41-.59l7.78-7.78 2.81-2.81c.8-.78.8-2.07 0-2.86zM5.41 20L4 18.59l7.72-7.72 1.47 1.35L5.41 20z\"/>\n",
              "  </svg>\n",
              "      </button>\n",
              "\n",
              "\n",
              "\n",
              "    <div id=\"df-67e0d377-fcd4-447f-87af-a04a6f1545b8\">\n",
              "      <button class=\"colab-df-quickchart\" onclick=\"quickchart('df-67e0d377-fcd4-447f-87af-a04a6f1545b8')\"\n",
              "              title=\"Suggest charts.\"\n",
              "              style=\"display:none;\">\n",
              "\n",
              "<svg xmlns=\"http://www.w3.org/2000/svg\" height=\"24px\"viewBox=\"0 0 24 24\"\n",
              "     width=\"24px\">\n",
              "    <g>\n",
              "        <path d=\"M19 3H5c-1.1 0-2 .9-2 2v14c0 1.1.9 2 2 2h14c1.1 0 2-.9 2-2V5c0-1.1-.9-2-2-2zM9 17H7v-7h2v7zm4 0h-2V7h2v10zm4 0h-2v-4h2v4z\"/>\n",
              "    </g>\n",
              "</svg>\n",
              "      </button>\n",
              "    </div>\n",
              "\n",
              "<style>\n",
              "  .colab-df-quickchart {\n",
              "    background-color: #E8F0FE;\n",
              "    border: none;\n",
              "    border-radius: 50%;\n",
              "    cursor: pointer;\n",
              "    display: none;\n",
              "    fill: #1967D2;\n",
              "    height: 32px;\n",
              "    padding: 0 0 0 0;\n",
              "    width: 32px;\n",
              "  }\n",
              "\n",
              "  .colab-df-quickchart:hover {\n",
              "    background-color: #E2EBFA;\n",
              "    box-shadow: 0px 1px 2px rgba(60, 64, 67, 0.3), 0px 1px 3px 1px rgba(60, 64, 67, 0.15);\n",
              "    fill: #174EA6;\n",
              "  }\n",
              "\n",
              "  [theme=dark] .colab-df-quickchart {\n",
              "    background-color: #3B4455;\n",
              "    fill: #D2E3FC;\n",
              "  }\n",
              "\n",
              "  [theme=dark] .colab-df-quickchart:hover {\n",
              "    background-color: #434B5C;\n",
              "    box-shadow: 0px 1px 3px 1px rgba(0, 0, 0, 0.15);\n",
              "    filter: drop-shadow(0px 1px 2px rgba(0, 0, 0, 0.3));\n",
              "    fill: #FFFFFF;\n",
              "  }\n",
              "</style>\n",
              "\n",
              "    <script>\n",
              "      async function quickchart(key) {\n",
              "        const containerElement = document.querySelector('#' + key);\n",
              "        const charts = await google.colab.kernel.invokeFunction(\n",
              "            'suggestCharts', [key], {});\n",
              "      }\n",
              "    </script>\n",
              "\n",
              "      <script>\n",
              "\n",
              "function displayQuickchartButton(domScope) {\n",
              "  let quickchartButtonEl =\n",
              "    domScope.querySelector('#df-67e0d377-fcd4-447f-87af-a04a6f1545b8 button.colab-df-quickchart');\n",
              "  quickchartButtonEl.style.display =\n",
              "    google.colab.kernel.accessAllowed ? 'block' : 'none';\n",
              "}\n",
              "\n",
              "        displayQuickchartButton(document);\n",
              "      </script>\n",
              "      <style>\n",
              "    .colab-df-container {\n",
              "      display:flex;\n",
              "      flex-wrap:wrap;\n",
              "      gap: 12px;\n",
              "    }\n",
              "\n",
              "    .colab-df-convert {\n",
              "      background-color: #E8F0FE;\n",
              "      border: none;\n",
              "      border-radius: 50%;\n",
              "      cursor: pointer;\n",
              "      display: none;\n",
              "      fill: #1967D2;\n",
              "      height: 32px;\n",
              "      padding: 0 0 0 0;\n",
              "      width: 32px;\n",
              "    }\n",
              "\n",
              "    .colab-df-convert:hover {\n",
              "      background-color: #E2EBFA;\n",
              "      box-shadow: 0px 1px 2px rgba(60, 64, 67, 0.3), 0px 1px 3px 1px rgba(60, 64, 67, 0.15);\n",
              "      fill: #174EA6;\n",
              "    }\n",
              "\n",
              "    [theme=dark] .colab-df-convert {\n",
              "      background-color: #3B4455;\n",
              "      fill: #D2E3FC;\n",
              "    }\n",
              "\n",
              "    [theme=dark] .colab-df-convert:hover {\n",
              "      background-color: #434B5C;\n",
              "      box-shadow: 0px 1px 3px 1px rgba(0, 0, 0, 0.15);\n",
              "      filter: drop-shadow(0px 1px 2px rgba(0, 0, 0, 0.3));\n",
              "      fill: #FFFFFF;\n",
              "    }\n",
              "  </style>\n",
              "\n",
              "      <script>\n",
              "        const buttonEl =\n",
              "          document.querySelector('#df-a1918d42-e3fd-46d2-9c90-062df892dba3 button.colab-df-convert');\n",
              "        buttonEl.style.display =\n",
              "          google.colab.kernel.accessAllowed ? 'block' : 'none';\n",
              "\n",
              "        async function convertToInteractive(key) {\n",
              "          const element = document.querySelector('#df-a1918d42-e3fd-46d2-9c90-062df892dba3');\n",
              "          const dataTable =\n",
              "            await google.colab.kernel.invokeFunction('convertToInteractive',\n",
              "                                                     [key], {});\n",
              "          if (!dataTable) return;\n",
              "\n",
              "          const docLinkHtml = 'Like what you see? Visit the ' +\n",
              "            '<a target=\"_blank\" href=https://colab.research.google.com/notebooks/data_table.ipynb>data table notebook</a>'\n",
              "            + ' to learn more about interactive tables.';\n",
              "          element.innerHTML = '';\n",
              "          dataTable['output_type'] = 'display_data';\n",
              "          await google.colab.output.renderOutput(dataTable, element);\n",
              "          const docLink = document.createElement('div');\n",
              "          docLink.innerHTML = docLinkHtml;\n",
              "          element.appendChild(docLink);\n",
              "        }\n",
              "      </script>\n",
              "    </div>\n",
              "  </div>\n"
            ]
          },
          "metadata": {},
          "execution_count": 15
        }
      ]
    },
    {
      "cell_type": "markdown",
      "source": [
        "The problem with `data.describe()` is that it groups using all the data of each variable, this means that if in our group there are populations that are underestimated or overestimated, the description will not take that into account. An alternative to solve that problem is using the function `groupby()`. With group by we can generate groups of populations using variables. An exmple is:"
      ],
      "metadata": {
        "id": "q8hv2yMShisk"
      }
    },
    {
      "cell_type": "markdown",
      "source": [
        "`data.describe()`関数の問題は、各変数の全データをまとめ評価してしまうことです。そのため過小評価もしくは過大評価されているサブグループがいたとしても、考慮されません。この問題に対処するために、`groupby()`関数を使うことで、サブグループ毎に評価ができます。"
      ],
      "metadata": {
        "id": "m_sTYda7C1_V"
      }
    },
    {
      "cell_type": "code",
      "source": [
        "# Group the mean of oxygen saturation of arterial blood (SaO2) by gender\n",
        "avg_sao2_by_gender = df.groupby('gender')['SaO2'].mean()\n",
        "avg_sao2_by_gender"
      ],
      "metadata": {
        "id": "KmRNIklehdSj",
        "colab": {
          "base_uri": "https://localhost:8080/"
        },
        "outputId": "9f1cb711-e195-4f75-f2c9-783359e5c533"
      },
      "execution_count": null,
      "outputs": [
        {
          "output_type": "execute_result",
          "data": {
            "text/plain": [
              "gender\n",
              "F    95.822899\n",
              "M    95.784625\n",
              "Name: SaO2, dtype: float64"
            ]
          },
          "metadata": {},
          "execution_count": 16
        }
      ]
    },
    {
      "cell_type": "markdown",
      "source": [
        "You can also generate groups using more than one variable and more than one grouping methods"
      ],
      "metadata": {
        "id": "cUtoT_Z2yoN9"
      }
    },
    {
      "cell_type": "markdown",
      "source": [
        "複数の変数と複数のグループ化メソッドを用いてグループを作成することもできます。"
      ],
      "metadata": {
        "id": "cie41YCPYABp"
      }
    },
    {
      "cell_type": "code",
      "source": [
        "# Obtain count, mean, standard deviation, min value and max value for (SaO2) and (SpO2) grouping by gender and race group:\n",
        "avg_sao2_by_ethnicity = df.groupby(['gender', 'race_group']).agg({\n",
        "    'SaO2': ['count', 'mean', 'std', 'min', 'max'],\n",
        "    'SpO2': ['count', 'mean', 'std', 'min', 'max']\n",
        "})\n",
        "avg_sao2_by_ethnicity"
      ],
      "metadata": {
        "id": "ZmqCwMY6hdVj",
        "colab": {
          "base_uri": "https://localhost:8080/",
          "height": 426
        },
        "outputId": "4353277d-12b8-42a9-ab92-05f9f65e5515"
      },
      "execution_count": null,
      "outputs": [
        {
          "output_type": "execute_result",
          "data": {
            "text/plain": [
              "                   SaO2                                    SpO2             \\\n",
              "                  count       mean       std   min    max count       mean   \n",
              "gender race_group                                                            \n",
              "F      Asian         99  95.818182  2.532900  88.0   99.0    99  97.353535   \n",
              "       Black        501  95.506986  3.638468  77.0  100.0   501  97.267465   \n",
              "       Hispanic     219  95.789954  3.688774  67.0  100.0   219  97.091324   \n",
              "       Other       1156  95.820675  3.429931  66.0  100.0  1156  96.802768   \n",
              "       White       3916  95.865935  3.417977  66.0  100.0  3916  96.911389   \n",
              "M      Asian        352  95.647727  3.150688  78.0  100.0   352  97.176136   \n",
              "       Black        686  95.422741  3.505867  69.0   99.0   686  97.255102   \n",
              "       Hispanic     327  96.211009  2.961118  77.0   99.0   327  97.449541   \n",
              "       Other       2154  95.447539  3.710530  65.0  100.0  2154  96.574745   \n",
              "       White       7759  95.898441  3.231626  65.0  100.0  7759  96.946514   \n",
              "\n",
              "                                          \n",
              "                        std   min    max  \n",
              "gender race_group                         \n",
              "F      Asian       4.601049  65.0  100.0  \n",
              "       Black       3.729922  71.0  100.0  \n",
              "       Hispanic    4.699294  67.0  100.0  \n",
              "       Other       4.125208  68.0  100.0  \n",
              "       White       3.769890  65.0  100.0  \n",
              "M      Asian       3.457137  76.0  100.0  \n",
              "       Black       3.674008  67.0  100.0  \n",
              "       Hispanic    3.260150  79.0  100.0  \n",
              "       Other       4.214547  68.0  100.0  \n",
              "       White       3.654709  68.0  100.0  "
            ],
            "text/html": [
              "\n",
              "\n",
              "  <div id=\"df-e3eea868-0b88-4dec-9f93-effdbd0ed0de\">\n",
              "    <div class=\"colab-df-container\">\n",
              "      <div>\n",
              "<style scoped>\n",
              "    .dataframe tbody tr th:only-of-type {\n",
              "        vertical-align: middle;\n",
              "    }\n",
              "\n",
              "    .dataframe tbody tr th {\n",
              "        vertical-align: top;\n",
              "    }\n",
              "\n",
              "    .dataframe thead tr th {\n",
              "        text-align: left;\n",
              "    }\n",
              "\n",
              "    .dataframe thead tr:last-of-type th {\n",
              "        text-align: right;\n",
              "    }\n",
              "</style>\n",
              "<table border=\"1\" class=\"dataframe\">\n",
              "  <thead>\n",
              "    <tr>\n",
              "      <th></th>\n",
              "      <th></th>\n",
              "      <th colspan=\"5\" halign=\"left\">SaO2</th>\n",
              "      <th colspan=\"5\" halign=\"left\">SpO2</th>\n",
              "    </tr>\n",
              "    <tr>\n",
              "      <th></th>\n",
              "      <th></th>\n",
              "      <th>count</th>\n",
              "      <th>mean</th>\n",
              "      <th>std</th>\n",
              "      <th>min</th>\n",
              "      <th>max</th>\n",
              "      <th>count</th>\n",
              "      <th>mean</th>\n",
              "      <th>std</th>\n",
              "      <th>min</th>\n",
              "      <th>max</th>\n",
              "    </tr>\n",
              "    <tr>\n",
              "      <th>gender</th>\n",
              "      <th>race_group</th>\n",
              "      <th></th>\n",
              "      <th></th>\n",
              "      <th></th>\n",
              "      <th></th>\n",
              "      <th></th>\n",
              "      <th></th>\n",
              "      <th></th>\n",
              "      <th></th>\n",
              "      <th></th>\n",
              "      <th></th>\n",
              "    </tr>\n",
              "  </thead>\n",
              "  <tbody>\n",
              "    <tr>\n",
              "      <th rowspan=\"5\" valign=\"top\">F</th>\n",
              "      <th>Asian</th>\n",
              "      <td>99</td>\n",
              "      <td>95.818182</td>\n",
              "      <td>2.532900</td>\n",
              "      <td>88.0</td>\n",
              "      <td>99.0</td>\n",
              "      <td>99</td>\n",
              "      <td>97.353535</td>\n",
              "      <td>4.601049</td>\n",
              "      <td>65.0</td>\n",
              "      <td>100.0</td>\n",
              "    </tr>\n",
              "    <tr>\n",
              "      <th>Black</th>\n",
              "      <td>501</td>\n",
              "      <td>95.506986</td>\n",
              "      <td>3.638468</td>\n",
              "      <td>77.0</td>\n",
              "      <td>100.0</td>\n",
              "      <td>501</td>\n",
              "      <td>97.267465</td>\n",
              "      <td>3.729922</td>\n",
              "      <td>71.0</td>\n",
              "      <td>100.0</td>\n",
              "    </tr>\n",
              "    <tr>\n",
              "      <th>Hispanic</th>\n",
              "      <td>219</td>\n",
              "      <td>95.789954</td>\n",
              "      <td>3.688774</td>\n",
              "      <td>67.0</td>\n",
              "      <td>100.0</td>\n",
              "      <td>219</td>\n",
              "      <td>97.091324</td>\n",
              "      <td>4.699294</td>\n",
              "      <td>67.0</td>\n",
              "      <td>100.0</td>\n",
              "    </tr>\n",
              "    <tr>\n",
              "      <th>Other</th>\n",
              "      <td>1156</td>\n",
              "      <td>95.820675</td>\n",
              "      <td>3.429931</td>\n",
              "      <td>66.0</td>\n",
              "      <td>100.0</td>\n",
              "      <td>1156</td>\n",
              "      <td>96.802768</td>\n",
              "      <td>4.125208</td>\n",
              "      <td>68.0</td>\n",
              "      <td>100.0</td>\n",
              "    </tr>\n",
              "    <tr>\n",
              "      <th>White</th>\n",
              "      <td>3916</td>\n",
              "      <td>95.865935</td>\n",
              "      <td>3.417977</td>\n",
              "      <td>66.0</td>\n",
              "      <td>100.0</td>\n",
              "      <td>3916</td>\n",
              "      <td>96.911389</td>\n",
              "      <td>3.769890</td>\n",
              "      <td>65.0</td>\n",
              "      <td>100.0</td>\n",
              "    </tr>\n",
              "    <tr>\n",
              "      <th rowspan=\"5\" valign=\"top\">M</th>\n",
              "      <th>Asian</th>\n",
              "      <td>352</td>\n",
              "      <td>95.647727</td>\n",
              "      <td>3.150688</td>\n",
              "      <td>78.0</td>\n",
              "      <td>100.0</td>\n",
              "      <td>352</td>\n",
              "      <td>97.176136</td>\n",
              "      <td>3.457137</td>\n",
              "      <td>76.0</td>\n",
              "      <td>100.0</td>\n",
              "    </tr>\n",
              "    <tr>\n",
              "      <th>Black</th>\n",
              "      <td>686</td>\n",
              "      <td>95.422741</td>\n",
              "      <td>3.505867</td>\n",
              "      <td>69.0</td>\n",
              "      <td>99.0</td>\n",
              "      <td>686</td>\n",
              "      <td>97.255102</td>\n",
              "      <td>3.674008</td>\n",
              "      <td>67.0</td>\n",
              "      <td>100.0</td>\n",
              "    </tr>\n",
              "    <tr>\n",
              "      <th>Hispanic</th>\n",
              "      <td>327</td>\n",
              "      <td>96.211009</td>\n",
              "      <td>2.961118</td>\n",
              "      <td>77.0</td>\n",
              "      <td>99.0</td>\n",
              "      <td>327</td>\n",
              "      <td>97.449541</td>\n",
              "      <td>3.260150</td>\n",
              "      <td>79.0</td>\n",
              "      <td>100.0</td>\n",
              "    </tr>\n",
              "    <tr>\n",
              "      <th>Other</th>\n",
              "      <td>2154</td>\n",
              "      <td>95.447539</td>\n",
              "      <td>3.710530</td>\n",
              "      <td>65.0</td>\n",
              "      <td>100.0</td>\n",
              "      <td>2154</td>\n",
              "      <td>96.574745</td>\n",
              "      <td>4.214547</td>\n",
              "      <td>68.0</td>\n",
              "      <td>100.0</td>\n",
              "    </tr>\n",
              "    <tr>\n",
              "      <th>White</th>\n",
              "      <td>7759</td>\n",
              "      <td>95.898441</td>\n",
              "      <td>3.231626</td>\n",
              "      <td>65.0</td>\n",
              "      <td>100.0</td>\n",
              "      <td>7759</td>\n",
              "      <td>96.946514</td>\n",
              "      <td>3.654709</td>\n",
              "      <td>68.0</td>\n",
              "      <td>100.0</td>\n",
              "    </tr>\n",
              "  </tbody>\n",
              "</table>\n",
              "</div>\n",
              "      <button class=\"colab-df-convert\" onclick=\"convertToInteractive('df-e3eea868-0b88-4dec-9f93-effdbd0ed0de')\"\n",
              "              title=\"Convert this dataframe to an interactive table.\"\n",
              "              style=\"display:none;\">\n",
              "\n",
              "  <svg xmlns=\"http://www.w3.org/2000/svg\" height=\"24px\"viewBox=\"0 0 24 24\"\n",
              "       width=\"24px\">\n",
              "    <path d=\"M0 0h24v24H0V0z\" fill=\"none\"/>\n",
              "    <path d=\"M18.56 5.44l.94 2.06.94-2.06 2.06-.94-2.06-.94-.94-2.06-.94 2.06-2.06.94zm-11 1L8.5 8.5l.94-2.06 2.06-.94-2.06-.94L8.5 2.5l-.94 2.06-2.06.94zm10 10l.94 2.06.94-2.06 2.06-.94-2.06-.94-.94-2.06-.94 2.06-2.06.94z\"/><path d=\"M17.41 7.96l-1.37-1.37c-.4-.4-.92-.59-1.43-.59-.52 0-1.04.2-1.43.59L10.3 9.45l-7.72 7.72c-.78.78-.78 2.05 0 2.83L4 21.41c.39.39.9.59 1.41.59.51 0 1.02-.2 1.41-.59l7.78-7.78 2.81-2.81c.8-.78.8-2.07 0-2.86zM5.41 20L4 18.59l7.72-7.72 1.47 1.35L5.41 20z\"/>\n",
              "  </svg>\n",
              "      </button>\n",
              "\n",
              "\n",
              "\n",
              "    <div id=\"df-c8af7e5d-b350-4a07-9611-a81f0b8e3ab8\">\n",
              "      <button class=\"colab-df-quickchart\" onclick=\"quickchart('df-c8af7e5d-b350-4a07-9611-a81f0b8e3ab8')\"\n",
              "              title=\"Suggest charts.\"\n",
              "              style=\"display:none;\">\n",
              "\n",
              "<svg xmlns=\"http://www.w3.org/2000/svg\" height=\"24px\"viewBox=\"0 0 24 24\"\n",
              "     width=\"24px\">\n",
              "    <g>\n",
              "        <path d=\"M19 3H5c-1.1 0-2 .9-2 2v14c0 1.1.9 2 2 2h14c1.1 0 2-.9 2-2V5c0-1.1-.9-2-2-2zM9 17H7v-7h2v7zm4 0h-2V7h2v10zm4 0h-2v-4h2v4z\"/>\n",
              "    </g>\n",
              "</svg>\n",
              "      </button>\n",
              "    </div>\n",
              "\n",
              "<style>\n",
              "  .colab-df-quickchart {\n",
              "    background-color: #E8F0FE;\n",
              "    border: none;\n",
              "    border-radius: 50%;\n",
              "    cursor: pointer;\n",
              "    display: none;\n",
              "    fill: #1967D2;\n",
              "    height: 32px;\n",
              "    padding: 0 0 0 0;\n",
              "    width: 32px;\n",
              "  }\n",
              "\n",
              "  .colab-df-quickchart:hover {\n",
              "    background-color: #E2EBFA;\n",
              "    box-shadow: 0px 1px 2px rgba(60, 64, 67, 0.3), 0px 1px 3px 1px rgba(60, 64, 67, 0.15);\n",
              "    fill: #174EA6;\n",
              "  }\n",
              "\n",
              "  [theme=dark] .colab-df-quickchart {\n",
              "    background-color: #3B4455;\n",
              "    fill: #D2E3FC;\n",
              "  }\n",
              "\n",
              "  [theme=dark] .colab-df-quickchart:hover {\n",
              "    background-color: #434B5C;\n",
              "    box-shadow: 0px 1px 3px 1px rgba(0, 0, 0, 0.15);\n",
              "    filter: drop-shadow(0px 1px 2px rgba(0, 0, 0, 0.3));\n",
              "    fill: #FFFFFF;\n",
              "  }\n",
              "</style>\n",
              "\n",
              "    <script>\n",
              "      async function quickchart(key) {\n",
              "        const containerElement = document.querySelector('#' + key);\n",
              "        const charts = await google.colab.kernel.invokeFunction(\n",
              "            'suggestCharts', [key], {});\n",
              "      }\n",
              "    </script>\n",
              "\n",
              "      <script>\n",
              "\n",
              "function displayQuickchartButton(domScope) {\n",
              "  let quickchartButtonEl =\n",
              "    domScope.querySelector('#df-c8af7e5d-b350-4a07-9611-a81f0b8e3ab8 button.colab-df-quickchart');\n",
              "  quickchartButtonEl.style.display =\n",
              "    google.colab.kernel.accessAllowed ? 'block' : 'none';\n",
              "}\n",
              "\n",
              "        displayQuickchartButton(document);\n",
              "      </script>\n",
              "      <style>\n",
              "    .colab-df-container {\n",
              "      display:flex;\n",
              "      flex-wrap:wrap;\n",
              "      gap: 12px;\n",
              "    }\n",
              "\n",
              "    .colab-df-convert {\n",
              "      background-color: #E8F0FE;\n",
              "      border: none;\n",
              "      border-radius: 50%;\n",
              "      cursor: pointer;\n",
              "      display: none;\n",
              "      fill: #1967D2;\n",
              "      height: 32px;\n",
              "      padding: 0 0 0 0;\n",
              "      width: 32px;\n",
              "    }\n",
              "\n",
              "    .colab-df-convert:hover {\n",
              "      background-color: #E2EBFA;\n",
              "      box-shadow: 0px 1px 2px rgba(60, 64, 67, 0.3), 0px 1px 3px 1px rgba(60, 64, 67, 0.15);\n",
              "      fill: #174EA6;\n",
              "    }\n",
              "\n",
              "    [theme=dark] .colab-df-convert {\n",
              "      background-color: #3B4455;\n",
              "      fill: #D2E3FC;\n",
              "    }\n",
              "\n",
              "    [theme=dark] .colab-df-convert:hover {\n",
              "      background-color: #434B5C;\n",
              "      box-shadow: 0px 1px 3px 1px rgba(0, 0, 0, 0.15);\n",
              "      filter: drop-shadow(0px 1px 2px rgba(0, 0, 0, 0.3));\n",
              "      fill: #FFFFFF;\n",
              "    }\n",
              "  </style>\n",
              "\n",
              "      <script>\n",
              "        const buttonEl =\n",
              "          document.querySelector('#df-e3eea868-0b88-4dec-9f93-effdbd0ed0de button.colab-df-convert');\n",
              "        buttonEl.style.display =\n",
              "          google.colab.kernel.accessAllowed ? 'block' : 'none';\n",
              "\n",
              "        async function convertToInteractive(key) {\n",
              "          const element = document.querySelector('#df-e3eea868-0b88-4dec-9f93-effdbd0ed0de');\n",
              "          const dataTable =\n",
              "            await google.colab.kernel.invokeFunction('convertToInteractive',\n",
              "                                                     [key], {});\n",
              "          if (!dataTable) return;\n",
              "\n",
              "          const docLinkHtml = 'Like what you see? Visit the ' +\n",
              "            '<a target=\"_blank\" href=https://colab.research.google.com/notebooks/data_table.ipynb>data table notebook</a>'\n",
              "            + ' to learn more about interactive tables.';\n",
              "          element.innerHTML = '';\n",
              "          dataTable['output_type'] = 'display_data';\n",
              "          await google.colab.output.renderOutput(dataTable, element);\n",
              "          const docLink = document.createElement('div');\n",
              "          docLink.innerHTML = docLinkHtml;\n",
              "          element.appendChild(docLink);\n",
              "        }\n",
              "      </script>\n",
              "    </div>\n",
              "  </div>\n"
            ]
          },
          "metadata": {},
          "execution_count": 17
        }
      ]
    },
    {
      "cell_type": "markdown",
      "source": [
        "Alternatively, there are also libraries that allow us to do this process automatically. Below is an example using tableone library.\n",
        "\n",
        "Install using the command `!pip install tableone`"
      ],
      "metadata": {
        "id": "O-tm_ARoz-8s"
      }
    },
    {
      "cell_type": "markdown",
      "source": [
        "他にも、同様の処理を自動で行ってくれるライブラリもあります。\n",
        "以下に`tableone`ライブラリを使用した例を示します。\n",
        "\n",
        "インストール方法：`!pip install tableone`"
      ],
      "metadata": {
        "id": "s321miP3YRF-"
      }
    },
    {
      "cell_type": "code",
      "source": [
        "# As a first step let's do a preprocessing to some variables like:\n",
        "df['language'] = df['language'].replace({'ENGLISH': 'Proficient', '?': 'Limited Proficiency'})"
      ],
      "metadata": {
        "id": "pPzYMKLP9LJa"
      },
      "execution_count": null,
      "outputs": []
    },
    {
      "cell_type": "code",
      "source": [
        "!pip install tableone\n",
        "from tableone import TableOne\n",
        "\n",
        "warnings.filterwarnings(\"ignore\", category=DeprecationWarning)"
      ],
      "metadata": {
        "colab": {
          "base_uri": "https://localhost:8080/"
        },
        "id": "r6yusqnTdK-L",
        "outputId": "c99989b3-65d2-425b-b31e-438811ea2aae"
      },
      "execution_count": null,
      "outputs": [
        {
          "output_type": "stream",
          "name": "stdout",
          "text": [
            "Requirement already satisfied: tableone in /usr/local/lib/python3.10/dist-packages (0.8.0)\n",
            "Requirement already satisfied: jinja2 in /usr/local/lib/python3.10/dist-packages (from tableone) (3.1.2)\n",
            "Requirement already satisfied: numpy in /usr/local/lib/python3.10/dist-packages (from tableone) (1.23.5)\n",
            "Requirement already satisfied: openpyxl in /usr/local/lib/python3.10/dist-packages (from tableone) (3.1.2)\n",
            "Requirement already satisfied: pandas in /usr/local/lib/python3.10/dist-packages (from tableone) (1.5.3)\n",
            "Requirement already satisfied: scipy in /usr/local/lib/python3.10/dist-packages (from tableone) (1.10.1)\n",
            "Requirement already satisfied: statsmodels in /usr/local/lib/python3.10/dist-packages (from tableone) (0.14.0)\n",
            "Requirement already satisfied: tabulate in /usr/local/lib/python3.10/dist-packages (from tableone) (0.9.0)\n",
            "Requirement already satisfied: MarkupSafe>=2.0 in /usr/local/lib/python3.10/dist-packages (from jinja2->tableone) (2.1.3)\n",
            "Requirement already satisfied: et-xmlfile in /usr/local/lib/python3.10/dist-packages (from openpyxl->tableone) (1.1.0)\n",
            "Requirement already satisfied: python-dateutil>=2.8.1 in /usr/local/lib/python3.10/dist-packages (from pandas->tableone) (2.8.2)\n",
            "Requirement already satisfied: pytz>=2020.1 in /usr/local/lib/python3.10/dist-packages (from pandas->tableone) (2023.3)\n",
            "Requirement already satisfied: patsy>=0.5.2 in /usr/local/lib/python3.10/dist-packages (from statsmodels->tableone) (0.5.3)\n",
            "Requirement already satisfied: packaging>=21.3 in /usr/local/lib/python3.10/dist-packages (from statsmodels->tableone) (23.1)\n",
            "Requirement already satisfied: six in /usr/local/lib/python3.10/dist-packages (from patsy>=0.5.2->statsmodels->tableone) (1.16.0)\n"
          ]
        }
      ]
    },
    {
      "cell_type": "code",
      "source": [
        "groupby = ['race_group']\n",
        "\n",
        "categorical_variables = ['gender', 'language', 'invasive_vent']\n",
        "numerical_variables = ['anchor_age', 'CCI', 'SOFA_admission']\n",
        "columns = categorical_variables + numerical_variables\n",
        "\n",
        "labels ={'anchor_age': 'age',\n",
        "         'SOFA_admission': 'SOFA'}\n",
        "\n",
        "\n",
        "mytable = TableOne(df, columns=columns, categorical=categorical_variables, groupby=groupby, nonnormal=numerical_variables, rename=labels, pval=False)\n",
        "mytable"
      ],
      "metadata": {
        "id": "foYkDJqQocnL",
        "colab": {
          "base_uri": "https://localhost:8080/",
          "height": 464
        },
        "outputId": "d257095d-fd14-4611-f754-0a96ae750e46"
      },
      "execution_count": null,
      "outputs": [
        {
          "output_type": "execute_result",
          "data": {
            "text/plain": [
              "                                         Grouped by race_group                                                                                                            \n",
              "                                                       Missing           Overall             Asian             Black          Hispanic             Other             White\n",
              "n                                                                          17169               451              1187               546              3310             11675\n",
              "gender, n (%)        F                                       0       5891 (34.3)         99 (22.0)        501 (42.2)        219 (40.1)       1156 (34.9)       3916 (33.5)\n",
              "                     M                                              11278 (65.7)        352 (78.0)        686 (57.8)        327 (59.9)       2154 (65.1)       7759 (66.5)\n",
              "language, n (%)      Limited Proficiency                     0       1905 (11.1)        276 (61.2)        171 (14.4)        403 (73.8)        516 (15.6)         539 (4.6)\n",
              "                     Proficient                                     15264 (88.9)        175 (38.8)       1016 (85.6)        143 (26.2)       2794 (84.4)      11136 (95.4)\n",
              "invasive_vent, n (%) 0                                       0       4038 (23.5)         76 (16.9)        300 (25.3)        156 (28.6)        702 (21.2)       2804 (24.0)\n",
              "                     1                                              13131 (76.5)        375 (83.1)        887 (74.7)        390 (71.4)       2608 (78.8)       8871 (76.0)\n",
              "age, median [Q1,Q3]                                          0  67.0 [57.0,75.0]  67.0 [54.0,73.0]  61.0 [52.0,71.0]  60.5 [47.2,71.0]  66.0 [52.0,75.0]  68.0 [59.0,76.0]\n",
              "CCI, median [Q1,Q3]                                          0     5.0 [3.0,7.0]     5.0 [3.0,7.0]     5.0 [3.0,7.0]     5.0 [3.0,7.0]     5.0 [3.0,7.0]     5.0 [3.0,7.0]\n",
              "SOFA, median [Q1,Q3]                                         0    7.0 [5.0,10.0]    9.0 [5.0,10.0]    8.0 [5.0,11.0]    8.0 [5.0,12.0]    8.0 [5.0,12.0]    7.0 [5.0,10.0]"
            ],
            "text/html": [
              "<div>\n",
              "<style scoped>\n",
              "    .dataframe tbody tr th:only-of-type {\n",
              "        vertical-align: middle;\n",
              "    }\n",
              "\n",
              "    .dataframe tbody tr th {\n",
              "        vertical-align: top;\n",
              "    }\n",
              "\n",
              "    .dataframe thead tr th {\n",
              "        text-align: left;\n",
              "    }\n",
              "</style>\n",
              "<table border=\"1\" class=\"dataframe\">\n",
              "  <thead>\n",
              "    <tr>\n",
              "      <th></th>\n",
              "      <th></th>\n",
              "      <th colspan=\"7\" halign=\"left\">Grouped by race_group</th>\n",
              "    </tr>\n",
              "    <tr>\n",
              "      <th></th>\n",
              "      <th></th>\n",
              "      <th>Missing</th>\n",
              "      <th>Overall</th>\n",
              "      <th>Asian</th>\n",
              "      <th>Black</th>\n",
              "      <th>Hispanic</th>\n",
              "      <th>Other</th>\n",
              "      <th>White</th>\n",
              "    </tr>\n",
              "  </thead>\n",
              "  <tbody>\n",
              "    <tr>\n",
              "      <th>n</th>\n",
              "      <th></th>\n",
              "      <td></td>\n",
              "      <td>17169</td>\n",
              "      <td>451</td>\n",
              "      <td>1187</td>\n",
              "      <td>546</td>\n",
              "      <td>3310</td>\n",
              "      <td>11675</td>\n",
              "    </tr>\n",
              "    <tr>\n",
              "      <th rowspan=\"2\" valign=\"top\">gender, n (%)</th>\n",
              "      <th>F</th>\n",
              "      <td>0</td>\n",
              "      <td>5891 (34.3)</td>\n",
              "      <td>99 (22.0)</td>\n",
              "      <td>501 (42.2)</td>\n",
              "      <td>219 (40.1)</td>\n",
              "      <td>1156 (34.9)</td>\n",
              "      <td>3916 (33.5)</td>\n",
              "    </tr>\n",
              "    <tr>\n",
              "      <th>M</th>\n",
              "      <td></td>\n",
              "      <td>11278 (65.7)</td>\n",
              "      <td>352 (78.0)</td>\n",
              "      <td>686 (57.8)</td>\n",
              "      <td>327 (59.9)</td>\n",
              "      <td>2154 (65.1)</td>\n",
              "      <td>7759 (66.5)</td>\n",
              "    </tr>\n",
              "    <tr>\n",
              "      <th rowspan=\"2\" valign=\"top\">language, n (%)</th>\n",
              "      <th>Limited Proficiency</th>\n",
              "      <td>0</td>\n",
              "      <td>1905 (11.1)</td>\n",
              "      <td>276 (61.2)</td>\n",
              "      <td>171 (14.4)</td>\n",
              "      <td>403 (73.8)</td>\n",
              "      <td>516 (15.6)</td>\n",
              "      <td>539 (4.6)</td>\n",
              "    </tr>\n",
              "    <tr>\n",
              "      <th>Proficient</th>\n",
              "      <td></td>\n",
              "      <td>15264 (88.9)</td>\n",
              "      <td>175 (38.8)</td>\n",
              "      <td>1016 (85.6)</td>\n",
              "      <td>143 (26.2)</td>\n",
              "      <td>2794 (84.4)</td>\n",
              "      <td>11136 (95.4)</td>\n",
              "    </tr>\n",
              "    <tr>\n",
              "      <th rowspan=\"2\" valign=\"top\">invasive_vent, n (%)</th>\n",
              "      <th>0</th>\n",
              "      <td>0</td>\n",
              "      <td>4038 (23.5)</td>\n",
              "      <td>76 (16.9)</td>\n",
              "      <td>300 (25.3)</td>\n",
              "      <td>156 (28.6)</td>\n",
              "      <td>702 (21.2)</td>\n",
              "      <td>2804 (24.0)</td>\n",
              "    </tr>\n",
              "    <tr>\n",
              "      <th>1</th>\n",
              "      <td></td>\n",
              "      <td>13131 (76.5)</td>\n",
              "      <td>375 (83.1)</td>\n",
              "      <td>887 (74.7)</td>\n",
              "      <td>390 (71.4)</td>\n",
              "      <td>2608 (78.8)</td>\n",
              "      <td>8871 (76.0)</td>\n",
              "    </tr>\n",
              "    <tr>\n",
              "      <th>age, median [Q1,Q3]</th>\n",
              "      <th></th>\n",
              "      <td>0</td>\n",
              "      <td>67.0 [57.0,75.0]</td>\n",
              "      <td>67.0 [54.0,73.0]</td>\n",
              "      <td>61.0 [52.0,71.0]</td>\n",
              "      <td>60.5 [47.2,71.0]</td>\n",
              "      <td>66.0 [52.0,75.0]</td>\n",
              "      <td>68.0 [59.0,76.0]</td>\n",
              "    </tr>\n",
              "    <tr>\n",
              "      <th>CCI, median [Q1,Q3]</th>\n",
              "      <th></th>\n",
              "      <td>0</td>\n",
              "      <td>5.0 [3.0,7.0]</td>\n",
              "      <td>5.0 [3.0,7.0]</td>\n",
              "      <td>5.0 [3.0,7.0]</td>\n",
              "      <td>5.0 [3.0,7.0]</td>\n",
              "      <td>5.0 [3.0,7.0]</td>\n",
              "      <td>5.0 [3.0,7.0]</td>\n",
              "    </tr>\n",
              "    <tr>\n",
              "      <th>SOFA, median [Q1,Q3]</th>\n",
              "      <th></th>\n",
              "      <td>0</td>\n",
              "      <td>7.0 [5.0,10.0]</td>\n",
              "      <td>9.0 [5.0,10.0]</td>\n",
              "      <td>8.0 [5.0,11.0]</td>\n",
              "      <td>8.0 [5.0,12.0]</td>\n",
              "      <td>8.0 [5.0,12.0]</td>\n",
              "      <td>7.0 [5.0,10.0]</td>\n",
              "    </tr>\n",
              "  </tbody>\n",
              "</table>\n",
              "</div><br />"
            ]
          },
          "metadata": {},
          "execution_count": 20
        }
      ]
    },
    {
      "cell_type": "markdown",
      "source": [
        "###### ✏️ Use tableone\n",
        "\n",
        "Now let's create a new tableone using all the variables to to measure differences between ethnic groups!\n",
        "\n",
        "Hint: Use the function `get_categorical_numerical_variables` to get all the numeric and categorical variables. Then use those variables to generate a tableone of the whole dataset\n"
      ],
      "metadata": {
        "id": "MWKI47ieLIIL"
      }
    },
    {
      "cell_type": "markdown",
      "source": [
        "###### ✏️ tableone を使う\n",
        "\n",
        "では、人種間の差を測定するために、全ての変数を用いて新しいtableoneを作成しましょう。\n",
        "\n",
        "ヒント:\n",
        "最初に、`get_categorical_numerical_variables` 関数を使ってすべての数値変数とカテゴリー変数を取得します。次に、それらの変数を用いてデータセット全体のtableoneを作成します。\n"
      ],
      "metadata": {
        "id": "4OB1wKepYy9r"
      }
    },
    {
      "cell_type": "code",
      "source": [
        "from typing import Tuple\n",
        "\n",
        "def get_categorical_numerical_variables(df: pd.DataFrame, limit: int, ignore: List[str], verbose: bool = True) -> Tuple[List[str], List[str]]:\n",
        "  \"\"\"\n",
        "  数値変数とカテゴリー変数を取得するための関数\n",
        "  引数:\n",
        "    df: 全ての変数を含む pandas のデータフレーム\n",
        "    limit: 変数がカテゴリカルであると判定するための最大の要素数を表す整数\n",
        "    ignore: 無視する列名のリスト\n",
        "\n",
        "  戻り値:\n",
        "    categorical_columns, numerical_columns: カテゴリー変数と数値変数の名前を含むリスト\n",
        "  \"\"\"\n",
        "\n",
        "  categorical_columns = []\n",
        "  numerical_columns = []\n",
        "\n",
        "  for column in df.columns:\n",
        "    if ignore:\n",
        "      if column in ignore:\n",
        "        continue\n",
        "    unique_values = len(pd.unique(df[column]))\n",
        "    if unique_values <= limit:\n",
        "      if verbose:\n",
        "        print(f'The column {column} has {unique_values}, so is categorical')\n",
        "      categorical_columns.append(column)\n",
        "    else:\n",
        "      if verbose:\n",
        "        print(f'The column {column} has {unique_values}, so is numerical')\n",
        "      numerical_columns.append(column)\n",
        "\n",
        "  return categorical_columns, numerical_columns"
      ],
      "metadata": {
        "id": "ouIrWL4AiEM2"
      },
      "execution_count": null,
      "outputs": []
    },
    {
      "cell_type": "code",
      "source": [
        "# Select the columns for the tableone\n",
        "#groupby = #\n",
        "#ignore = ['column1', 'column2', ...] + groupby\n",
        "#limit = # Max. Number of unique values to be categorical (E.g. 15)\n",
        "\n",
        "groupby = ['race_group']\n",
        "ignore = ['SaO2_timestamp', 'stay_id', 'subject_id'] + groupby\n",
        "limit = 10\n",
        "categorical_columns, numerical_columns = get_categorical_numerical_variables(df, limit=limit, ignore=ignore)"
      ],
      "metadata": {
        "id": "ilDdtS_tex3t",
        "colab": {
          "base_uri": "https://localhost:8080/"
        },
        "outputId": "44f89f63-4533-4967-ab4e-207d11ab6856"
      },
      "execution_count": null,
      "outputs": [
        {
          "output_type": "stream",
          "name": "stdout",
          "text": [
            "The column language has 2, so is categorical\n",
            "The column inr has 81, so is numerical\n",
            "The column ventilation_status has 7, so is categorical\n",
            "The column FiO2 has 23, so is numerical\n",
            "The column creatinine has 110, so is numerical\n",
            "The column albumin has 45, so is numerical\n",
            "The column aniongap has 46, so is numerical\n",
            "The column anchor_age has 73, so is numerical\n",
            "The column bun has 163, so is numerical\n",
            "The column rrt has 3, so is categorical\n",
            "The column gender has 2, so is categorical\n",
            "The column invasive_vent has 2, so is categorical\n",
            "The column pt has 410, so is numerical\n",
            "The column CCI has 18, so is numerical\n",
            "The column delta_vent_start has 5273, so is numerical\n",
            "The column ph has 31, so is numerical\n",
            "The column chloride has 57, so is numerical\n",
            "The column SpO2 has 36, so is numerical\n",
            "The column insurance has 3, so is categorical\n",
            "The column hidden_hypoxemia has 2, so is categorical\n",
            "The column bilirubin_total has 311, so is numerical\n",
            "The column delta_SpO2 has 10, so is categorical\n",
            "The column delta_sofa_coag has 563, so is numerical\n",
            "The column rdw has 185, so is numerical\n",
            "The column delta_sofa_cns has 294, so is numerical\n",
            "The column delta_sofa_cv has 40, so is numerical\n",
            "The column mcv has 69, so is numerical\n",
            "The column BMI has 3682, so is numerical\n",
            "The column SOFA_admission has 22, so is numerical\n",
            "The column norepinephrine_equivalent_dose has 3334, so is numerical\n",
            "The column SaO2 has 39, so is numerical\n",
            "The column sofa_coag has 6, so is categorical\n",
            "The column mchc has 122, so is numerical\n"
          ]
        }
      ]
    },
    {
      "cell_type": "code",
      "source": [
        "#Total_columns =\n",
        "Total_columns = categorical_columns + numerical_columns\n",
        "\n",
        "TableOne(df, columns=Total_columns, categorical=categorical_columns, nonnormal=numerical_columns, groupby=groupby)"
      ],
      "metadata": {
        "id": "JXtGKC6jfcct",
        "colab": {
          "base_uri": "https://localhost:8080/",
          "height": 1000
        },
        "outputId": "2b72b33b-ee51-41ab-fa75-647f6acf8c04"
      },
      "execution_count": null,
      "outputs": [
        {
          "output_type": "execute_result",
          "data": {
            "text/plain": [
              "                                                                   Grouped by race_group                                                                                                                                                         \n",
              "                                                                                 Missing                  Overall                     Asian                     Black                 Hispanic                     Other                    White\n",
              "n                                                                                                           17169                       451                      1187                      546                      3310                    11675\n",
              "language, n (%)                                Limited Proficiency                     0              1905 (11.1)                276 (61.2)                171 (14.4)               403 (73.8)                516 (15.6)                539 (4.6)\n",
              "                                               Proficient                                            15264 (88.9)                175 (38.8)               1016 (85.6)               143 (26.2)               2794 (84.4)             11136 (95.4)\n",
              "ventilation_status, n (%)                      HFNC                                 2015                144 (1.0)                   2 (0.5)                  16 (1.5)                 12 (2.6)                  37 (1.3)                 77 (0.7)\n",
              "                                               InvasiveVent                                          13102 (86.5)                375 (91.7)                884 (85.5)               387 (83.0)               2604 (90.2)              8852 (85.5)\n",
              "                                               NonInvasiveVent                                          101 (0.7)                   1 (0.2)                   8 (0.8)                  4 (0.9)                  18 (0.6)                 70 (0.7)\n",
              "                                               SupplementalOxygen                                     1775 (11.7)                  31 (7.6)                123 (11.9)                60 (12.9)                 225 (7.8)              1336 (12.9)\n",
              "                                               Tracheostomy                                              27 (0.2)                                             3 (0.3)                  3 (0.6)                   4 (0.1)                 17 (0.2)\n",
              "                                               None                                                       5 (0.0)                                                                                                                         5 (0.0)\n",
              "rrt, n (%)                                     0.0                                   100             13438 (78.7)                304 (67.9)                889 (75.2)               417 (76.7)               2381 (72.5)              9447 (81.4)\n",
              "                                               1.0                                                    3631 (21.3)                144 (32.1)                293 (24.8)               127 (23.3)                903 (27.5)              2164 (18.6)\n",
              "gender, n (%)                                  F                                       0              5891 (34.3)                 99 (22.0)                501 (42.2)               219 (40.1)               1156 (34.9)              3916 (33.5)\n",
              "                                               M                                                     11278 (65.7)                352 (78.0)                686 (57.8)               327 (59.9)               2154 (65.1)              7759 (66.5)\n",
              "invasive_vent, n (%)                           0                                       0              4038 (23.5)                 76 (16.9)                300 (25.3)               156 (28.6)                702 (21.2)              2804 (24.0)\n",
              "                                               1                                                     13131 (76.5)                375 (83.1)                887 (74.7)               390 (71.4)               2608 (78.8)              8871 (76.0)\n",
              "insurance, n (%)                               Medicaid                                0                977 (5.7)                 68 (15.1)                 101 (8.5)                86 (15.8)                 262 (7.9)                460 (3.9)\n",
              "                                               Medicare                                               7912 (46.1)                 95 (21.1)                482 (40.6)               216 (39.6)               1316 (39.8)              5803 (49.7)\n",
              "                                               Other                                                  8280 (48.2)                288 (63.9)                604 (50.9)               244 (44.7)               1732 (52.3)              5412 (46.4)\n",
              "hidden_hypoxemia, n (%)                        0                                       0             16887 (98.4)                444 (98.4)               1160 (97.7)               540 (98.9)               3252 (98.2)             11491 (98.4)\n",
              "                                               1                                                        282 (1.6)                   7 (1.6)                  27 (2.3)                  6 (1.1)                  58 (1.8)                184 (1.6)\n",
              "delta_SpO2, n (%)                              -1.0                                    0               1687 (9.8)                 47 (10.4)                127 (10.7)                56 (10.3)                 320 (9.7)               1137 (9.7)\n",
              "                                               -10.0                                                  1881 (11.0)                 56 (12.4)                120 (10.1)                59 (10.8)                381 (11.5)              1265 (10.8)\n",
              "                                               -2.0                                                    1612 (9.4)                  35 (7.8)                120 (10.1)                57 (10.4)                 294 (8.9)               1106 (9.5)\n",
              "                                               -3.0                                                   1709 (10.0)                  42 (9.3)                120 (10.1)                 49 (9.0)                 314 (9.5)              1184 (10.1)\n",
              "                                               -4.0                                                    1688 (9.8)                 46 (10.2)                119 (10.0)                 51 (9.3)                330 (10.0)               1142 (9.8)\n",
              "                                               -5.0                                                    1681 (9.8)                  39 (8.6)                124 (10.4)                56 (10.3)                340 (10.3)               1122 (9.6)\n",
              "                                               -6.0                                                    1632 (9.5)                  37 (8.2)                123 (10.4)                 44 (8.1)                 318 (9.6)               1110 (9.5)\n",
              "                                               -7.0                                                    1685 (9.8)                  36 (8.0)                124 (10.4)                60 (11.0)                 289 (8.7)              1176 (10.1)\n",
              "                                               -8.0                                                   1737 (10.1)                 52 (11.5)                 102 (8.6)                 50 (9.2)                337 (10.2)              1196 (10.2)\n",
              "                                               -9.0                                                   1857 (10.8)                 61 (13.5)                 108 (9.1)                64 (11.7)                387 (11.7)              1237 (10.6)\n",
              "sofa_coag, n (%)                               0.0                                  5934              5424 (48.3)                 93 (32.9)                339 (45.1)               161 (47.6)                984 (45.6)              3847 (49.9)\n",
              "                                               1.0                                                    3269 (29.1)                 75 (26.5)                201 (26.8)                97 (28.7)                597 (27.7)              2299 (29.8)\n",
              "                                               2.0                                                    2058 (18.3)                 90 (31.8)                166 (22.1)                70 (20.7)                454 (21.1)              1278 (16.6)\n",
              "                                               3.0                                                      443 (3.9)                  25 (8.8)                  40 (5.3)                 10 (3.0)                 103 (4.8)                265 (3.4)\n",
              "                                               4.0                                                       41 (0.4)                                             5 (0.7)                                           18 (0.8)                 18 (0.2)\n",
              "inr, median [Q1,Q3]                                                                 5007            1.3 [1.2,1.5]             1.3 [1.1,1.5]             1.3 [1.2,1.5]            1.3 [1.2,1.5]             1.3 [1.2,1.5]            1.3 [1.2,1.5]\n",
              "FiO2, median [Q1,Q3]                                                               15894         50.0 [40.0,50.0]          50.0 [40.0,50.0]          40.0 [40.0,50.0]         50.0 [40.0,50.0]          50.0 [40.0,50.0]         50.0 [40.0,50.0]\n",
              "creatinine, median [Q1,Q3]                                                          5075            1.2 [0.8,1.9]             1.2 [0.9,1.9]             1.4 [0.9,2.4]            1.2 [0.8,2.0]             1.2 [0.8,2.0]            1.1 [0.8,1.8]\n",
              "albumin, median [Q1,Q3]                                                             5962            3.4 [2.7,4.0]             3.4 [2.8,4.0]             3.2 [2.7,3.8]            3.5 [2.8,4.1]             3.3 [2.6,3.9]            3.4 [2.7,4.0]\n",
              "aniongap, median [Q1,Q3]                                                            5465         14.0 [11.0,17.0]          14.0 [11.0,17.0]          14.0 [12.0,17.0]         14.0 [11.0,18.0]          14.0 [12.0,18.0]         13.0 [11.0,16.0]\n",
              "anchor_age, median [Q1,Q3]                                                             0         67.0 [57.0,75.0]          67.0 [54.0,73.0]          61.0 [52.0,71.0]         60.5 [47.2,71.0]          66.0 [52.0,75.0]         68.0 [59.0,76.0]\n",
              "bun, median [Q1,Q3]                                                                 5083         22.0 [15.0,37.0]          24.0 [15.0,36.2]          23.0 [15.0,43.0]         21.0 [13.0,32.0]          23.0 [15.0,37.0]         22.0 [15.0,37.0]\n",
              "pt, median [Q1,Q3]                                                                  5009         14.2 [13.0,16.3]          14.1 [12.7,16.1]          14.3 [13.0,16.7]         14.4 [13.1,16.7]          14.1 [12.9,16.3]         14.2 [13.0,16.3]\n",
              "CCI, median [Q1,Q3]                                                                    0            5.0 [3.0,7.0]             5.0 [3.0,7.0]             5.0 [3.0,7.0]            5.0 [3.0,7.0]             5.0 [3.0,7.0]            5.0 [3.0,7.0]\n",
              "delta_vent_start, median [Q1,Q3]                                                    2015  -967.0 [-3847.0,-250.0]  -1450.0 [-7073.0,-423.0]  -1214.0 [-4891.0,-309.0]  -782.5 [-2708.5,-250.8]  -1165.0 [-4503.2,-306.0]  -904.0 [-3518.0,-246.0]\n",
              "ph, median [Q1,Q3]                                                                 16982            7.4 [7.3,7.4]             7.4 [7.4,7.4]             7.5 [7.4,7.5]            7.4 [7.4,7.5]             7.4 [7.3,7.4]            7.4 [7.3,7.4]\n",
              "chloride, median [Q1,Q3]                                                            5100      105.0 [100.0,109.0]       103.0 [100.0,109.0]        104.0 [99.0,108.0]       104.0 [99.0,107.0]       104.0 [100.0,108.0]      105.0 [100.5,109.0]\n",
              "SpO2, median [Q1,Q3]                                                                   0        98.0 [95.0,100.0]         98.0 [96.0,100.0]         98.0 [96.0,100.0]        98.0 [96.0,100.0]         98.0 [95.0,100.0]        98.0 [95.0,100.0]\n",
              "bilirubin_total, median [Q1,Q3]                                                     5984            0.7 [0.4,1.4]             1.0 [0.6,2.5]             0.6 [0.3,1.3]            0.7 [0.4,1.5]             0.7 [0.4,1.5]            0.7 [0.4,1.3]\n",
              "delta_sofa_coag, median [Q1,Q3]                                                     5934     -121.0 [-249.0,-8.0]      -123.0 [-246.5,-8.0]      -122.0 [-301.0,-8.0]     -125.5 [-248.0,-8.0]       -95.0 [-246.0,-8.0]     -122.0 [-249.0,-9.0]\n",
              "rdw, median [Q1,Q3]                                                                 5175         15.2 [13.9,16.8]          15.1 [13.6,17.2]          15.6 [14.3,17.3]         15.1 [13.9,16.7]          15.1 [13.9,16.7]         15.1 [13.9,16.7]\n",
              "delta_sofa_cns, median [Q1,Q3]                                                      7855       -61.0 [-70.0,-8.0]        -61.5 [-70.0,-8.0]        -62.0 [-70.0,-7.0]       -61.0 [-70.0,-7.0]        -62.0 [-72.0,-8.0]       -61.0 [-70.0,-8.0]\n",
              "delta_sofa_cv, median [Q1,Q3]                                                       2942         -6.0 [-9.0,-3.0]          -7.0 [-9.0,-4.0]          -6.0 [-9.0,-3.0]         -6.0 [-9.0,-3.0]          -6.0 [-9.0,-4.0]         -6.0 [-9.0,-3.0]\n",
              "mcv, median [Q1,Q3]                                                                 5180         90.0 [87.0,94.0]          91.0 [88.0,95.0]          89.0 [86.0,93.0]         89.0 [86.0,93.0]          91.0 [87.0,95.0]         90.0 [87.0,94.0]\n",
              "BMI, median [Q1,Q3]                                                                 3243         28.4 [24.7,33.0]          24.3 [23.0,28.7]          28.9 [25.6,34.9]         28.8 [25.1,32.6]          28.4 [24.6,33.7]         28.5 [24.9,32.9]\n",
              "SOFA_admission, median [Q1,Q3]                                                         0           7.0 [5.0,10.0]            9.0 [5.0,10.0]            8.0 [5.0,11.0]           8.0 [5.0,12.0]            8.0 [5.0,12.0]           7.0 [5.0,10.0]\n",
              "norepinephrine_equivalent_dose, median [Q1,Q3]                                      8486            0.1 [0.1,6.0]             0.2 [0.1,6.1]             0.2 [0.1,6.0]            0.2 [0.1,6.1]             0.2 [0.1,6.1]            0.1 [0.1,3.6]\n",
              "SaO2, median [Q1,Q3]                                                                   0         97.0 [95.0,98.0]          97.0 [95.0,98.0]          97.0 [94.0,98.0]         97.0 [95.0,98.0]          97.0 [95.0,98.0]         97.0 [95.0,98.0]\n",
              "mchc, median [Q1,Q3]                                                                5182         33.3 [32.2,34.4]          33.3 [32.4,34.4]          32.8 [31.6,33.9]         33.3 [32.1,34.5]          33.3 [32.2,34.4]         33.4 [32.2,34.4]"
            ],
            "text/html": [
              "<div>\n",
              "<style scoped>\n",
              "    .dataframe tbody tr th:only-of-type {\n",
              "        vertical-align: middle;\n",
              "    }\n",
              "\n",
              "    .dataframe tbody tr th {\n",
              "        vertical-align: top;\n",
              "    }\n",
              "\n",
              "    .dataframe thead tr th {\n",
              "        text-align: left;\n",
              "    }\n",
              "</style>\n",
              "<table border=\"1\" class=\"dataframe\">\n",
              "  <thead>\n",
              "    <tr>\n",
              "      <th></th>\n",
              "      <th></th>\n",
              "      <th colspan=\"7\" halign=\"left\">Grouped by race_group</th>\n",
              "    </tr>\n",
              "    <tr>\n",
              "      <th></th>\n",
              "      <th></th>\n",
              "      <th>Missing</th>\n",
              "      <th>Overall</th>\n",
              "      <th>Asian</th>\n",
              "      <th>Black</th>\n",
              "      <th>Hispanic</th>\n",
              "      <th>Other</th>\n",
              "      <th>White</th>\n",
              "    </tr>\n",
              "  </thead>\n",
              "  <tbody>\n",
              "    <tr>\n",
              "      <th>n</th>\n",
              "      <th></th>\n",
              "      <td></td>\n",
              "      <td>17169</td>\n",
              "      <td>451</td>\n",
              "      <td>1187</td>\n",
              "      <td>546</td>\n",
              "      <td>3310</td>\n",
              "      <td>11675</td>\n",
              "    </tr>\n",
              "    <tr>\n",
              "      <th rowspan=\"2\" valign=\"top\">language, n (%)</th>\n",
              "      <th>Limited Proficiency</th>\n",
              "      <td>0</td>\n",
              "      <td>1905 (11.1)</td>\n",
              "      <td>276 (61.2)</td>\n",
              "      <td>171 (14.4)</td>\n",
              "      <td>403 (73.8)</td>\n",
              "      <td>516 (15.6)</td>\n",
              "      <td>539 (4.6)</td>\n",
              "    </tr>\n",
              "    <tr>\n",
              "      <th>Proficient</th>\n",
              "      <td></td>\n",
              "      <td>15264 (88.9)</td>\n",
              "      <td>175 (38.8)</td>\n",
              "      <td>1016 (85.6)</td>\n",
              "      <td>143 (26.2)</td>\n",
              "      <td>2794 (84.4)</td>\n",
              "      <td>11136 (95.4)</td>\n",
              "    </tr>\n",
              "    <tr>\n",
              "      <th rowspan=\"6\" valign=\"top\">ventilation_status, n (%)</th>\n",
              "      <th>HFNC</th>\n",
              "      <td>2015</td>\n",
              "      <td>144 (1.0)</td>\n",
              "      <td>2 (0.5)</td>\n",
              "      <td>16 (1.5)</td>\n",
              "      <td>12 (2.6)</td>\n",
              "      <td>37 (1.3)</td>\n",
              "      <td>77 (0.7)</td>\n",
              "    </tr>\n",
              "    <tr>\n",
              "      <th>InvasiveVent</th>\n",
              "      <td></td>\n",
              "      <td>13102 (86.5)</td>\n",
              "      <td>375 (91.7)</td>\n",
              "      <td>884 (85.5)</td>\n",
              "      <td>387 (83.0)</td>\n",
              "      <td>2604 (90.2)</td>\n",
              "      <td>8852 (85.5)</td>\n",
              "    </tr>\n",
              "    <tr>\n",
              "      <th>NonInvasiveVent</th>\n",
              "      <td></td>\n",
              "      <td>101 (0.7)</td>\n",
              "      <td>1 (0.2)</td>\n",
              "      <td>8 (0.8)</td>\n",
              "      <td>4 (0.9)</td>\n",
              "      <td>18 (0.6)</td>\n",
              "      <td>70 (0.7)</td>\n",
              "    </tr>\n",
              "    <tr>\n",
              "      <th>SupplementalOxygen</th>\n",
              "      <td></td>\n",
              "      <td>1775 (11.7)</td>\n",
              "      <td>31 (7.6)</td>\n",
              "      <td>123 (11.9)</td>\n",
              "      <td>60 (12.9)</td>\n",
              "      <td>225 (7.8)</td>\n",
              "      <td>1336 (12.9)</td>\n",
              "    </tr>\n",
              "    <tr>\n",
              "      <th>Tracheostomy</th>\n",
              "      <td></td>\n",
              "      <td>27 (0.2)</td>\n",
              "      <td></td>\n",
              "      <td>3 (0.3)</td>\n",
              "      <td>3 (0.6)</td>\n",
              "      <td>4 (0.1)</td>\n",
              "      <td>17 (0.2)</td>\n",
              "    </tr>\n",
              "    <tr>\n",
              "      <th>None</th>\n",
              "      <td></td>\n",
              "      <td>5 (0.0)</td>\n",
              "      <td></td>\n",
              "      <td></td>\n",
              "      <td></td>\n",
              "      <td></td>\n",
              "      <td>5 (0.0)</td>\n",
              "    </tr>\n",
              "    <tr>\n",
              "      <th rowspan=\"2\" valign=\"top\">rrt, n (%)</th>\n",
              "      <th>0.0</th>\n",
              "      <td>100</td>\n",
              "      <td>13438 (78.7)</td>\n",
              "      <td>304 (67.9)</td>\n",
              "      <td>889 (75.2)</td>\n",
              "      <td>417 (76.7)</td>\n",
              "      <td>2381 (72.5)</td>\n",
              "      <td>9447 (81.4)</td>\n",
              "    </tr>\n",
              "    <tr>\n",
              "      <th>1.0</th>\n",
              "      <td></td>\n",
              "      <td>3631 (21.3)</td>\n",
              "      <td>144 (32.1)</td>\n",
              "      <td>293 (24.8)</td>\n",
              "      <td>127 (23.3)</td>\n",
              "      <td>903 (27.5)</td>\n",
              "      <td>2164 (18.6)</td>\n",
              "    </tr>\n",
              "    <tr>\n",
              "      <th rowspan=\"2\" valign=\"top\">gender, n (%)</th>\n",
              "      <th>F</th>\n",
              "      <td>0</td>\n",
              "      <td>5891 (34.3)</td>\n",
              "      <td>99 (22.0)</td>\n",
              "      <td>501 (42.2)</td>\n",
              "      <td>219 (40.1)</td>\n",
              "      <td>1156 (34.9)</td>\n",
              "      <td>3916 (33.5)</td>\n",
              "    </tr>\n",
              "    <tr>\n",
              "      <th>M</th>\n",
              "      <td></td>\n",
              "      <td>11278 (65.7)</td>\n",
              "      <td>352 (78.0)</td>\n",
              "      <td>686 (57.8)</td>\n",
              "      <td>327 (59.9)</td>\n",
              "      <td>2154 (65.1)</td>\n",
              "      <td>7759 (66.5)</td>\n",
              "    </tr>\n",
              "    <tr>\n",
              "      <th rowspan=\"2\" valign=\"top\">invasive_vent, n (%)</th>\n",
              "      <th>0</th>\n",
              "      <td>0</td>\n",
              "      <td>4038 (23.5)</td>\n",
              "      <td>76 (16.9)</td>\n",
              "      <td>300 (25.3)</td>\n",
              "      <td>156 (28.6)</td>\n",
              "      <td>702 (21.2)</td>\n",
              "      <td>2804 (24.0)</td>\n",
              "    </tr>\n",
              "    <tr>\n",
              "      <th>1</th>\n",
              "      <td></td>\n",
              "      <td>13131 (76.5)</td>\n",
              "      <td>375 (83.1)</td>\n",
              "      <td>887 (74.7)</td>\n",
              "      <td>390 (71.4)</td>\n",
              "      <td>2608 (78.8)</td>\n",
              "      <td>8871 (76.0)</td>\n",
              "    </tr>\n",
              "    <tr>\n",
              "      <th rowspan=\"3\" valign=\"top\">insurance, n (%)</th>\n",
              "      <th>Medicaid</th>\n",
              "      <td>0</td>\n",
              "      <td>977 (5.7)</td>\n",
              "      <td>68 (15.1)</td>\n",
              "      <td>101 (8.5)</td>\n",
              "      <td>86 (15.8)</td>\n",
              "      <td>262 (7.9)</td>\n",
              "      <td>460 (3.9)</td>\n",
              "    </tr>\n",
              "    <tr>\n",
              "      <th>Medicare</th>\n",
              "      <td></td>\n",
              "      <td>7912 (46.1)</td>\n",
              "      <td>95 (21.1)</td>\n",
              "      <td>482 (40.6)</td>\n",
              "      <td>216 (39.6)</td>\n",
              "      <td>1316 (39.8)</td>\n",
              "      <td>5803 (49.7)</td>\n",
              "    </tr>\n",
              "    <tr>\n",
              "      <th>Other</th>\n",
              "      <td></td>\n",
              "      <td>8280 (48.2)</td>\n",
              "      <td>288 (63.9)</td>\n",
              "      <td>604 (50.9)</td>\n",
              "      <td>244 (44.7)</td>\n",
              "      <td>1732 (52.3)</td>\n",
              "      <td>5412 (46.4)</td>\n",
              "    </tr>\n",
              "    <tr>\n",
              "      <th rowspan=\"2\" valign=\"top\">hidden_hypoxemia, n (%)</th>\n",
              "      <th>0</th>\n",
              "      <td>0</td>\n",
              "      <td>16887 (98.4)</td>\n",
              "      <td>444 (98.4)</td>\n",
              "      <td>1160 (97.7)</td>\n",
              "      <td>540 (98.9)</td>\n",
              "      <td>3252 (98.2)</td>\n",
              "      <td>11491 (98.4)</td>\n",
              "    </tr>\n",
              "    <tr>\n",
              "      <th>1</th>\n",
              "      <td></td>\n",
              "      <td>282 (1.6)</td>\n",
              "      <td>7 (1.6)</td>\n",
              "      <td>27 (2.3)</td>\n",
              "      <td>6 (1.1)</td>\n",
              "      <td>58 (1.8)</td>\n",
              "      <td>184 (1.6)</td>\n",
              "    </tr>\n",
              "    <tr>\n",
              "      <th rowspan=\"10\" valign=\"top\">delta_SpO2, n (%)</th>\n",
              "      <th>-1.0</th>\n",
              "      <td>0</td>\n",
              "      <td>1687 (9.8)</td>\n",
              "      <td>47 (10.4)</td>\n",
              "      <td>127 (10.7)</td>\n",
              "      <td>56 (10.3)</td>\n",
              "      <td>320 (9.7)</td>\n",
              "      <td>1137 (9.7)</td>\n",
              "    </tr>\n",
              "    <tr>\n",
              "      <th>-10.0</th>\n",
              "      <td></td>\n",
              "      <td>1881 (11.0)</td>\n",
              "      <td>56 (12.4)</td>\n",
              "      <td>120 (10.1)</td>\n",
              "      <td>59 (10.8)</td>\n",
              "      <td>381 (11.5)</td>\n",
              "      <td>1265 (10.8)</td>\n",
              "    </tr>\n",
              "    <tr>\n",
              "      <th>-2.0</th>\n",
              "      <td></td>\n",
              "      <td>1612 (9.4)</td>\n",
              "      <td>35 (7.8)</td>\n",
              "      <td>120 (10.1)</td>\n",
              "      <td>57 (10.4)</td>\n",
              "      <td>294 (8.9)</td>\n",
              "      <td>1106 (9.5)</td>\n",
              "    </tr>\n",
              "    <tr>\n",
              "      <th>-3.0</th>\n",
              "      <td></td>\n",
              "      <td>1709 (10.0)</td>\n",
              "      <td>42 (9.3)</td>\n",
              "      <td>120 (10.1)</td>\n",
              "      <td>49 (9.0)</td>\n",
              "      <td>314 (9.5)</td>\n",
              "      <td>1184 (10.1)</td>\n",
              "    </tr>\n",
              "    <tr>\n",
              "      <th>-4.0</th>\n",
              "      <td></td>\n",
              "      <td>1688 (9.8)</td>\n",
              "      <td>46 (10.2)</td>\n",
              "      <td>119 (10.0)</td>\n",
              "      <td>51 (9.3)</td>\n",
              "      <td>330 (10.0)</td>\n",
              "      <td>1142 (9.8)</td>\n",
              "    </tr>\n",
              "    <tr>\n",
              "      <th>-5.0</th>\n",
              "      <td></td>\n",
              "      <td>1681 (9.8)</td>\n",
              "      <td>39 (8.6)</td>\n",
              "      <td>124 (10.4)</td>\n",
              "      <td>56 (10.3)</td>\n",
              "      <td>340 (10.3)</td>\n",
              "      <td>1122 (9.6)</td>\n",
              "    </tr>\n",
              "    <tr>\n",
              "      <th>-6.0</th>\n",
              "      <td></td>\n",
              "      <td>1632 (9.5)</td>\n",
              "      <td>37 (8.2)</td>\n",
              "      <td>123 (10.4)</td>\n",
              "      <td>44 (8.1)</td>\n",
              "      <td>318 (9.6)</td>\n",
              "      <td>1110 (9.5)</td>\n",
              "    </tr>\n",
              "    <tr>\n",
              "      <th>-7.0</th>\n",
              "      <td></td>\n",
              "      <td>1685 (9.8)</td>\n",
              "      <td>36 (8.0)</td>\n",
              "      <td>124 (10.4)</td>\n",
              "      <td>60 (11.0)</td>\n",
              "      <td>289 (8.7)</td>\n",
              "      <td>1176 (10.1)</td>\n",
              "    </tr>\n",
              "    <tr>\n",
              "      <th>-8.0</th>\n",
              "      <td></td>\n",
              "      <td>1737 (10.1)</td>\n",
              "      <td>52 (11.5)</td>\n",
              "      <td>102 (8.6)</td>\n",
              "      <td>50 (9.2)</td>\n",
              "      <td>337 (10.2)</td>\n",
              "      <td>1196 (10.2)</td>\n",
              "    </tr>\n",
              "    <tr>\n",
              "      <th>-9.0</th>\n",
              "      <td></td>\n",
              "      <td>1857 (10.8)</td>\n",
              "      <td>61 (13.5)</td>\n",
              "      <td>108 (9.1)</td>\n",
              "      <td>64 (11.7)</td>\n",
              "      <td>387 (11.7)</td>\n",
              "      <td>1237 (10.6)</td>\n",
              "    </tr>\n",
              "    <tr>\n",
              "      <th rowspan=\"5\" valign=\"top\">sofa_coag, n (%)</th>\n",
              "      <th>0.0</th>\n",
              "      <td>5934</td>\n",
              "      <td>5424 (48.3)</td>\n",
              "      <td>93 (32.9)</td>\n",
              "      <td>339 (45.1)</td>\n",
              "      <td>161 (47.6)</td>\n",
              "      <td>984 (45.6)</td>\n",
              "      <td>3847 (49.9)</td>\n",
              "    </tr>\n",
              "    <tr>\n",
              "      <th>1.0</th>\n",
              "      <td></td>\n",
              "      <td>3269 (29.1)</td>\n",
              "      <td>75 (26.5)</td>\n",
              "      <td>201 (26.8)</td>\n",
              "      <td>97 (28.7)</td>\n",
              "      <td>597 (27.7)</td>\n",
              "      <td>2299 (29.8)</td>\n",
              "    </tr>\n",
              "    <tr>\n",
              "      <th>2.0</th>\n",
              "      <td></td>\n",
              "      <td>2058 (18.3)</td>\n",
              "      <td>90 (31.8)</td>\n",
              "      <td>166 (22.1)</td>\n",
              "      <td>70 (20.7)</td>\n",
              "      <td>454 (21.1)</td>\n",
              "      <td>1278 (16.6)</td>\n",
              "    </tr>\n",
              "    <tr>\n",
              "      <th>3.0</th>\n",
              "      <td></td>\n",
              "      <td>443 (3.9)</td>\n",
              "      <td>25 (8.8)</td>\n",
              "      <td>40 (5.3)</td>\n",
              "      <td>10 (3.0)</td>\n",
              "      <td>103 (4.8)</td>\n",
              "      <td>265 (3.4)</td>\n",
              "    </tr>\n",
              "    <tr>\n",
              "      <th>4.0</th>\n",
              "      <td></td>\n",
              "      <td>41 (0.4)</td>\n",
              "      <td></td>\n",
              "      <td>5 (0.7)</td>\n",
              "      <td></td>\n",
              "      <td>18 (0.8)</td>\n",
              "      <td>18 (0.2)</td>\n",
              "    </tr>\n",
              "    <tr>\n",
              "      <th>inr, median [Q1,Q3]</th>\n",
              "      <th></th>\n",
              "      <td>5007</td>\n",
              "      <td>1.3 [1.2,1.5]</td>\n",
              "      <td>1.3 [1.1,1.5]</td>\n",
              "      <td>1.3 [1.2,1.5]</td>\n",
              "      <td>1.3 [1.2,1.5]</td>\n",
              "      <td>1.3 [1.2,1.5]</td>\n",
              "      <td>1.3 [1.2,1.5]</td>\n",
              "    </tr>\n",
              "    <tr>\n",
              "      <th>FiO2, median [Q1,Q3]</th>\n",
              "      <th></th>\n",
              "      <td>15894</td>\n",
              "      <td>50.0 [40.0,50.0]</td>\n",
              "      <td>50.0 [40.0,50.0]</td>\n",
              "      <td>40.0 [40.0,50.0]</td>\n",
              "      <td>50.0 [40.0,50.0]</td>\n",
              "      <td>50.0 [40.0,50.0]</td>\n",
              "      <td>50.0 [40.0,50.0]</td>\n",
              "    </tr>\n",
              "    <tr>\n",
              "      <th>creatinine, median [Q1,Q3]</th>\n",
              "      <th></th>\n",
              "      <td>5075</td>\n",
              "      <td>1.2 [0.8,1.9]</td>\n",
              "      <td>1.2 [0.9,1.9]</td>\n",
              "      <td>1.4 [0.9,2.4]</td>\n",
              "      <td>1.2 [0.8,2.0]</td>\n",
              "      <td>1.2 [0.8,2.0]</td>\n",
              "      <td>1.1 [0.8,1.8]</td>\n",
              "    </tr>\n",
              "    <tr>\n",
              "      <th>albumin, median [Q1,Q3]</th>\n",
              "      <th></th>\n",
              "      <td>5962</td>\n",
              "      <td>3.4 [2.7,4.0]</td>\n",
              "      <td>3.4 [2.8,4.0]</td>\n",
              "      <td>3.2 [2.7,3.8]</td>\n",
              "      <td>3.5 [2.8,4.1]</td>\n",
              "      <td>3.3 [2.6,3.9]</td>\n",
              "      <td>3.4 [2.7,4.0]</td>\n",
              "    </tr>\n",
              "    <tr>\n",
              "      <th>aniongap, median [Q1,Q3]</th>\n",
              "      <th></th>\n",
              "      <td>5465</td>\n",
              "      <td>14.0 [11.0,17.0]</td>\n",
              "      <td>14.0 [11.0,17.0]</td>\n",
              "      <td>14.0 [12.0,17.0]</td>\n",
              "      <td>14.0 [11.0,18.0]</td>\n",
              "      <td>14.0 [12.0,18.0]</td>\n",
              "      <td>13.0 [11.0,16.0]</td>\n",
              "    </tr>\n",
              "    <tr>\n",
              "      <th>anchor_age, median [Q1,Q3]</th>\n",
              "      <th></th>\n",
              "      <td>0</td>\n",
              "      <td>67.0 [57.0,75.0]</td>\n",
              "      <td>67.0 [54.0,73.0]</td>\n",
              "      <td>61.0 [52.0,71.0]</td>\n",
              "      <td>60.5 [47.2,71.0]</td>\n",
              "      <td>66.0 [52.0,75.0]</td>\n",
              "      <td>68.0 [59.0,76.0]</td>\n",
              "    </tr>\n",
              "    <tr>\n",
              "      <th>bun, median [Q1,Q3]</th>\n",
              "      <th></th>\n",
              "      <td>5083</td>\n",
              "      <td>22.0 [15.0,37.0]</td>\n",
              "      <td>24.0 [15.0,36.2]</td>\n",
              "      <td>23.0 [15.0,43.0]</td>\n",
              "      <td>21.0 [13.0,32.0]</td>\n",
              "      <td>23.0 [15.0,37.0]</td>\n",
              "      <td>22.0 [15.0,37.0]</td>\n",
              "    </tr>\n",
              "    <tr>\n",
              "      <th>pt, median [Q1,Q3]</th>\n",
              "      <th></th>\n",
              "      <td>5009</td>\n",
              "      <td>14.2 [13.0,16.3]</td>\n",
              "      <td>14.1 [12.7,16.1]</td>\n",
              "      <td>14.3 [13.0,16.7]</td>\n",
              "      <td>14.4 [13.1,16.7]</td>\n",
              "      <td>14.1 [12.9,16.3]</td>\n",
              "      <td>14.2 [13.0,16.3]</td>\n",
              "    </tr>\n",
              "    <tr>\n",
              "      <th>CCI, median [Q1,Q3]</th>\n",
              "      <th></th>\n",
              "      <td>0</td>\n",
              "      <td>5.0 [3.0,7.0]</td>\n",
              "      <td>5.0 [3.0,7.0]</td>\n",
              "      <td>5.0 [3.0,7.0]</td>\n",
              "      <td>5.0 [3.0,7.0]</td>\n",
              "      <td>5.0 [3.0,7.0]</td>\n",
              "      <td>5.0 [3.0,7.0]</td>\n",
              "    </tr>\n",
              "    <tr>\n",
              "      <th>delta_vent_start, median [Q1,Q3]</th>\n",
              "      <th></th>\n",
              "      <td>2015</td>\n",
              "      <td>-967.0 [-3847.0,-250.0]</td>\n",
              "      <td>-1450.0 [-7073.0,-423.0]</td>\n",
              "      <td>-1214.0 [-4891.0,-309.0]</td>\n",
              "      <td>-782.5 [-2708.5,-250.8]</td>\n",
              "      <td>-1165.0 [-4503.2,-306.0]</td>\n",
              "      <td>-904.0 [-3518.0,-246.0]</td>\n",
              "    </tr>\n",
              "    <tr>\n",
              "      <th>ph, median [Q1,Q3]</th>\n",
              "      <th></th>\n",
              "      <td>16982</td>\n",
              "      <td>7.4 [7.3,7.4]</td>\n",
              "      <td>7.4 [7.4,7.4]</td>\n",
              "      <td>7.5 [7.4,7.5]</td>\n",
              "      <td>7.4 [7.4,7.5]</td>\n",
              "      <td>7.4 [7.3,7.4]</td>\n",
              "      <td>7.4 [7.3,7.4]</td>\n",
              "    </tr>\n",
              "    <tr>\n",
              "      <th>chloride, median [Q1,Q3]</th>\n",
              "      <th></th>\n",
              "      <td>5100</td>\n",
              "      <td>105.0 [100.0,109.0]</td>\n",
              "      <td>103.0 [100.0,109.0]</td>\n",
              "      <td>104.0 [99.0,108.0]</td>\n",
              "      <td>104.0 [99.0,107.0]</td>\n",
              "      <td>104.0 [100.0,108.0]</td>\n",
              "      <td>105.0 [100.5,109.0]</td>\n",
              "    </tr>\n",
              "    <tr>\n",
              "      <th>SpO2, median [Q1,Q3]</th>\n",
              "      <th></th>\n",
              "      <td>0</td>\n",
              "      <td>98.0 [95.0,100.0]</td>\n",
              "      <td>98.0 [96.0,100.0]</td>\n",
              "      <td>98.0 [96.0,100.0]</td>\n",
              "      <td>98.0 [96.0,100.0]</td>\n",
              "      <td>98.0 [95.0,100.0]</td>\n",
              "      <td>98.0 [95.0,100.0]</td>\n",
              "    </tr>\n",
              "    <tr>\n",
              "      <th>bilirubin_total, median [Q1,Q3]</th>\n",
              "      <th></th>\n",
              "      <td>5984</td>\n",
              "      <td>0.7 [0.4,1.4]</td>\n",
              "      <td>1.0 [0.6,2.5]</td>\n",
              "      <td>0.6 [0.3,1.3]</td>\n",
              "      <td>0.7 [0.4,1.5]</td>\n",
              "      <td>0.7 [0.4,1.5]</td>\n",
              "      <td>0.7 [0.4,1.3]</td>\n",
              "    </tr>\n",
              "    <tr>\n",
              "      <th>delta_sofa_coag, median [Q1,Q3]</th>\n",
              "      <th></th>\n",
              "      <td>5934</td>\n",
              "      <td>-121.0 [-249.0,-8.0]</td>\n",
              "      <td>-123.0 [-246.5,-8.0]</td>\n",
              "      <td>-122.0 [-301.0,-8.0]</td>\n",
              "      <td>-125.5 [-248.0,-8.0]</td>\n",
              "      <td>-95.0 [-246.0,-8.0]</td>\n",
              "      <td>-122.0 [-249.0,-9.0]</td>\n",
              "    </tr>\n",
              "    <tr>\n",
              "      <th>rdw, median [Q1,Q3]</th>\n",
              "      <th></th>\n",
              "      <td>5175</td>\n",
              "      <td>15.2 [13.9,16.8]</td>\n",
              "      <td>15.1 [13.6,17.2]</td>\n",
              "      <td>15.6 [14.3,17.3]</td>\n",
              "      <td>15.1 [13.9,16.7]</td>\n",
              "      <td>15.1 [13.9,16.7]</td>\n",
              "      <td>15.1 [13.9,16.7]</td>\n",
              "    </tr>\n",
              "    <tr>\n",
              "      <th>delta_sofa_cns, median [Q1,Q3]</th>\n",
              "      <th></th>\n",
              "      <td>7855</td>\n",
              "      <td>-61.0 [-70.0,-8.0]</td>\n",
              "      <td>-61.5 [-70.0,-8.0]</td>\n",
              "      <td>-62.0 [-70.0,-7.0]</td>\n",
              "      <td>-61.0 [-70.0,-7.0]</td>\n",
              "      <td>-62.0 [-72.0,-8.0]</td>\n",
              "      <td>-61.0 [-70.0,-8.0]</td>\n",
              "    </tr>\n",
              "    <tr>\n",
              "      <th>delta_sofa_cv, median [Q1,Q3]</th>\n",
              "      <th></th>\n",
              "      <td>2942</td>\n",
              "      <td>-6.0 [-9.0,-3.0]</td>\n",
              "      <td>-7.0 [-9.0,-4.0]</td>\n",
              "      <td>-6.0 [-9.0,-3.0]</td>\n",
              "      <td>-6.0 [-9.0,-3.0]</td>\n",
              "      <td>-6.0 [-9.0,-4.0]</td>\n",
              "      <td>-6.0 [-9.0,-3.0]</td>\n",
              "    </tr>\n",
              "    <tr>\n",
              "      <th>mcv, median [Q1,Q3]</th>\n",
              "      <th></th>\n",
              "      <td>5180</td>\n",
              "      <td>90.0 [87.0,94.0]</td>\n",
              "      <td>91.0 [88.0,95.0]</td>\n",
              "      <td>89.0 [86.0,93.0]</td>\n",
              "      <td>89.0 [86.0,93.0]</td>\n",
              "      <td>91.0 [87.0,95.0]</td>\n",
              "      <td>90.0 [87.0,94.0]</td>\n",
              "    </tr>\n",
              "    <tr>\n",
              "      <th>BMI, median [Q1,Q3]</th>\n",
              "      <th></th>\n",
              "      <td>3243</td>\n",
              "      <td>28.4 [24.7,33.0]</td>\n",
              "      <td>24.3 [23.0,28.7]</td>\n",
              "      <td>28.9 [25.6,34.9]</td>\n",
              "      <td>28.8 [25.1,32.6]</td>\n",
              "      <td>28.4 [24.6,33.7]</td>\n",
              "      <td>28.5 [24.9,32.9]</td>\n",
              "    </tr>\n",
              "    <tr>\n",
              "      <th>SOFA_admission, median [Q1,Q3]</th>\n",
              "      <th></th>\n",
              "      <td>0</td>\n",
              "      <td>7.0 [5.0,10.0]</td>\n",
              "      <td>9.0 [5.0,10.0]</td>\n",
              "      <td>8.0 [5.0,11.0]</td>\n",
              "      <td>8.0 [5.0,12.0]</td>\n",
              "      <td>8.0 [5.0,12.0]</td>\n",
              "      <td>7.0 [5.0,10.0]</td>\n",
              "    </tr>\n",
              "    <tr>\n",
              "      <th>norepinephrine_equivalent_dose, median [Q1,Q3]</th>\n",
              "      <th></th>\n",
              "      <td>8486</td>\n",
              "      <td>0.1 [0.1,6.0]</td>\n",
              "      <td>0.2 [0.1,6.1]</td>\n",
              "      <td>0.2 [0.1,6.0]</td>\n",
              "      <td>0.2 [0.1,6.1]</td>\n",
              "      <td>0.2 [0.1,6.1]</td>\n",
              "      <td>0.1 [0.1,3.6]</td>\n",
              "    </tr>\n",
              "    <tr>\n",
              "      <th>SaO2, median [Q1,Q3]</th>\n",
              "      <th></th>\n",
              "      <td>0</td>\n",
              "      <td>97.0 [95.0,98.0]</td>\n",
              "      <td>97.0 [95.0,98.0]</td>\n",
              "      <td>97.0 [94.0,98.0]</td>\n",
              "      <td>97.0 [95.0,98.0]</td>\n",
              "      <td>97.0 [95.0,98.0]</td>\n",
              "      <td>97.0 [95.0,98.0]</td>\n",
              "    </tr>\n",
              "    <tr>\n",
              "      <th>mchc, median [Q1,Q3]</th>\n",
              "      <th></th>\n",
              "      <td>5182</td>\n",
              "      <td>33.3 [32.2,34.4]</td>\n",
              "      <td>33.3 [32.4,34.4]</td>\n",
              "      <td>32.8 [31.6,33.9]</td>\n",
              "      <td>33.3 [32.1,34.5]</td>\n",
              "      <td>33.3 [32.2,34.4]</td>\n",
              "      <td>33.4 [32.2,34.4]</td>\n",
              "    </tr>\n",
              "  </tbody>\n",
              "</table>\n",
              "</div><br />"
            ]
          },
          "metadata": {},
          "execution_count": 23
        }
      ]
    },
    {
      "cell_type": "markdown",
      "source": [
        "### visualize your data\n",
        "\n",
        "While statistics are important, it is also very important and key to visualize the data. This will help to share the information and results in a visual and intuitive way, and identify anomalous and data patterns that could be useful when choosing the model."
      ],
      "metadata": {
        "id": "y-8mdEVQLSKZ"
      }
    },
    {
      "cell_type": "markdown",
      "source": [
        "### データを可視化する\n",
        "\n",
        "統計情報が大切であると同時にデータの可視化も大切な鍵となってきます。\n",
        "データの可視化は視覚的・直感的に情報と結果を共有するので、モデルを選ぶときに有用な、異常やデータパターンを特定することに役立ちます。"
      ],
      "metadata": {
        "id": "gkdLoH9aAwgz"
      }
    },
    {
      "cell_type": "markdown",
      "source": [
        "#### Bar charts and histograms\n",
        "Bar charts and histograms can be used to see how our data is distributed and how many instances there are of each class, this way we can identify imbalances in the classes and avoid overfitting in the models\n",
        "\n",
        "To create a histogram with seaborn, you can use the code:\n",
        "\n",
        "\n",
        "```\n",
        "sns.histplot(data=df, x=\"column_name\", kde=False) #optional kwarg: hue=\"column_2\"\n",
        "plt.title('Title')\n",
        "plt.show()\n",
        "```\n",
        "\n",
        "\n"
      ],
      "metadata": {
        "id": "0L5teBSObmED"
      }
    },
    {
      "cell_type": "markdown",
      "source": [
        "#### 棒グラフとヒストグラム\n",
        "\n",
        "棒グラフやヒストグラムを使うことでデータの分布や各クラスの件数を見ることができます。\n",
        "このようにしてクラスの不均衡を見つけ、過学習を防ぐことができます。\n",
        "\n",
        "seabornでヒストグラムを作成するには以下のコードを使用します。\n",
        "```\n",
        "sns.histplot(data=df, x=\"column_name\", kde=False) #optional kwarg: hue=\"column_2\"\n",
        "plt.title('Title')\n",
        "plt.show()\n",
        "```\n",
        "\n",
        "\n"
      ],
      "metadata": {
        "id": "hDVbBnSkT6In"
      }
    },
    {
      "cell_type": "markdown",
      "source": [
        "###### ✏️ Plot the distribution by race group"
      ],
      "metadata": {
        "id": "Op0QYpYxMvp-"
      }
    },
    {
      "cell_type": "markdown",
      "source": [
        "###### ✏️ 人種分布のプロット"
      ],
      "metadata": {
        "id": "9NdYcQ9RXpzN"
      }
    },
    {
      "cell_type": "code",
      "source": [
        "# Code here\n",
        "sns.histplot(data=df, x=\"race_group\", kde=False)\n",
        "plt.title('Race group distribution')\n",
        "plt.show()"
      ],
      "metadata": {
        "id": "nIarH7T8bmbP",
        "colab": {
          "base_uri": "https://localhost:8080/",
          "height": 472
        },
        "outputId": "cc43c08f-e4bc-4291-a8ad-bf6a3329a54f"
      },
      "execution_count": null,
      "outputs": [
        {
          "output_type": "display_data",
          "data": {
            "text/plain": [
              "<Figure size 640x480 with 1 Axes>"
            ],
            "image/png": "[encoded data removed]"
          },
          "metadata": {}
        }
      ]
    },
    {
      "cell_type": "markdown",
      "source": [
        "###### ✏️ Plot the distribution by gender"
      ],
      "metadata": {
        "id": "WP4GUREQM_0g"
      }
    },
    {
      "cell_type": "markdown",
      "source": [
        "###### ✏️ 性別分布のプロット"
      ],
      "metadata": {
        "id": "n-lruYd8X1of"
      }
    },
    {
      "cell_type": "code",
      "source": [
        "# Code here\n",
        "sns.histplot(data=df, x=\"gender\", kde=False)\n",
        "plt.title('Gender distribution')\n",
        "plt.show()"
      ],
      "metadata": {
        "id": "21beiKNxcJGf",
        "colab": {
          "base_uri": "https://localhost:8080/",
          "height": 472
        },
        "outputId": "050e2607-ef86-41eb-e637-3642f348aedf"
      },
      "execution_count": null,
      "outputs": [
        {
          "output_type": "display_data",
          "data": {
            "text/plain": [
              "<Figure size 640x480 with 1 Axes>"
            ],
            "image/png": "[encoded data removed]"
          },
          "metadata": {}
        }
      ]
    },
    {
      "cell_type": "markdown",
      "source": [
        "###### ✏️ Plot the distribution by age and race group"
      ],
      "metadata": {
        "id": "47abe3cjNCiu"
      }
    },
    {
      "cell_type": "markdown",
      "source": [
        "###### ✏️ 年齢と人種の分布のプロット"
      ],
      "metadata": {
        "id": "VWvLPN3UX_lv"
      }
    },
    {
      "cell_type": "code",
      "source": [
        "# Code here\n",
        "sns.histplot(data=df, x=\"anchor_age\", hue=\"race_group\", multiple=\"dodge\")\n",
        "plt.title('Age distribution by race group')\n",
        "plt.show()"
      ],
      "metadata": {
        "id": "gKDp62Uldi6l",
        "colab": {
          "base_uri": "https://localhost:8080/",
          "height": 472
        },
        "outputId": "ad2ae0b6-8f58-441b-e5e8-0fbe80e5fed6"
      },
      "execution_count": null,
      "outputs": [
        {
          "output_type": "display_data",
          "data": {
            "text/plain": [
              "<Figure size 640x480 with 1 Axes>"
            ],
            "image/png": "[encoded data removed]"
          },
          "metadata": {}
        }
      ]
    },
    {
      "cell_type": "markdown",
      "source": [
        "#### Box plots and violin plots\n",
        "**Outilers ❗❗❗**: While in some cases there are no null values, could be outliers values. These outliers are sometimes indicators of biases in data collection, or social/cultural biases. However, in some cases the outliers are erroneous values during data collection and storage. Identifying values such as very high SaO2 (99999) or negative is an indicator in many cases of missing values and should be taken as such.\n",
        "\n",
        "Bar and violin charts are one of the best ways to identify outliers, because they show us around which values most of our data is clustered."
      ],
      "metadata": {
        "id": "oRt_xYq87hLi"
      }
    },
    {
      "cell_type": "markdown",
      "source": [
        "#### 箱ひげ図とバイオリンプロット\n",
        "**外れ値 ❗❗❗**: 欠損値はなくても、外れ値がある場合があります。これらの外れ値は、データ収集の偏りや社会的・社会的偏りの指標となることもありますが、時にはデータ収集時、保存時の誤った値である場合もあります。\n",
        "非常に高いSaO2(99999)や負の値などの識別は、多くの場合欠損値の指標であり、そのように扱うべきです。\n",
        "\n",
        "棒グラフやバイオリン・チャートは異常値を識別する最良の方法の一つです。なぜなら、データのがどの値の周りに集まっているかを示してくれるからです。\n"
      ],
      "metadata": {
        "id": "-yJZbTinYhzd"
      }
    },
    {
      "cell_type": "code",
      "source": [
        "def plot_groupby(df: pd.DataFrame, group1: str, group2: str, variable: str, barplot=True, boxplot=True, violinplot=False) -> None:\n",
        "  \"\"\"\n",
        "  この関数は、data frame内の2つのグループの変数の平均値を比較する2つのプロットを作成します。\n",
        "  この関数では、各グループについて棒グラフ、箱ひげ図、バイオリンプロットのいずれかを選択することができます。\n",
        "  最初のプロットは最初のグループの平均を比較し、2番目のプロットは2番目のグループの平均を比較します。\n",
        "\n",
        "  引数 (型名)：\n",
        "    df (pd.DataFrame): 扱うデータセット\n",
        "    group1 (string): グループ化する最初のカテゴリ変数の名前\n",
        "    group2 (string): グループ化する2番目のカテゴリ変数の名前\n",
        "    variable (string): プロットする数値変数の名前\n",
        "    barplot (boolean): 棒グラフをプロットするかどうか(デフォルト値はTrue) *\n",
        "    boxplot (boolean): 箱ひげ図をプロットするかどうか(デフォルト値はTrue) *\n",
        "    violinplot (boolean): バイオリンプロットをプロットするかどうか(デフォルト値はFalse)*\n",
        "    *：省略可能\n",
        "\n",
        "  戻り値：\n",
        "    None\n",
        "  \"\"\"\n",
        "\n",
        "  avg_by_group1 = df.groupby(group1)[variable].mean()\n",
        "  avg_by_group2 = df.groupby(group2)[variable].mean()\n",
        "\n",
        "  if barplot:\n",
        "    # Bar plot\n",
        "    fig, (ax1, ax2) = plt.subplots(1, 2, figsize=(12, 6))\n",
        "    print('Bar Plot: ')\n",
        "    ax1.bar(avg_by_group1.index, avg_by_group1.values)\n",
        "    ax1.set_xlabel(group1)\n",
        "    ax1.set_ylabel(f'Average {variable}')\n",
        "    ax2.bar(avg_by_group2.index, avg_by_group2.values)\n",
        "    ax2.set_xlabel(group2)\n",
        "    ax2.set_ylabel(f'Average {variable}')\n",
        "    plt.show()\n",
        "\n",
        "  if boxplot:\n",
        "    # Create box plots to visualize the distribution of SaO2 values by gender and ethnicity\n",
        "    print('Box Plot: ')\n",
        "    fig, ax = plt.subplots(figsize=(12, 6))\n",
        "    sns.boxplot(x=group1, y=variable, hue=group2, data=df, ax=ax)\n",
        "    plt.show()\n",
        "\n",
        "  if violinplot:\n",
        "    print('Violin Plot: ')\n",
        "    fig, ax = plt.subplots(figsize=(12, 6))\n",
        "    sns.violinplot(x=group1, y=variable, hue=group2, data=df, ax=ax)\n",
        "    plt.show()\n"
      ],
      "metadata": {
        "id": "IOWP5b6IZSyW"
      },
      "execution_count": null,
      "outputs": []
    },
    {
      "cell_type": "markdown",
      "source": [
        "###### ✏️ Plot the distribution of SaO2 by gender and race group"
      ],
      "metadata": {
        "id": "Mhi4eVrrhzJ3"
      }
    },
    {
      "cell_type": "markdown",
      "source": [
        "###### ✏️ 性別・人種別の**SaO2**のプロット"
      ],
      "metadata": {
        "id": "Qe3DDEinj7KK"
      }
    },
    {
      "cell_type": "code",
      "source": [
        "# Use plot_groupby():\n",
        "plot_groupby(df, group1='gender', group2='race_group', variable='SaO2', barplot=True, boxplot=True, violinplot=False)"
      ],
      "metadata": {
        "id": "kd8Y6R_P9qag",
        "colab": {
          "base_uri": "https://localhost:8080/",
          "height": 1000
        },
        "outputId": "c101bfdc-36da-4644-bf47-dfae0cf03e7a"
      },
      "execution_count": null,
      "outputs": [
        {
          "output_type": "stream",
          "name": "stdout",
          "text": [
            "Bar Plot: \n"
          ]
        },
        {
          "output_type": "display_data",
          "data": {
            "text/plain": [
              "<Figure size 1200x600 with 2 Axes>"
            ],
            "image/png": "[encoded data removed]"
          },
          "metadata": {}
        },
        {
          "output_type": "stream",
          "name": "stdout",
          "text": [
            "Box Plot: \n"
          ]
        },
        {
          "output_type": "display_data",
          "data": {
            "text/plain": [
              "<Figure size 1200x600 with 1 Axes>"
            ],
            "image/png": "[encoded data removed]"
          },
          "metadata": {}
        }
      ]
    },
    {
      "cell_type": "markdown",
      "source": [
        "###### ✏️ Plot the distribution of SpO2 by gender and race group"
      ],
      "metadata": {
        "id": "5VbxyRjYh6UN"
      }
    },
    {
      "cell_type": "markdown",
      "source": [
        "###### ✏️ 性別・人種別の**SpO2**のプロット"
      ],
      "metadata": {
        "id": "TfbJjrjqkF7A"
      }
    },
    {
      "cell_type": "code",
      "source": [
        "# Use plot_groupby():\n",
        "plot_groupby(df, group1='gender', group2='race_group', variable='SpO2')\n"
      ],
      "metadata": {
        "id": "mcbHq8-0jIMB",
        "colab": {
          "base_uri": "https://localhost:8080/",
          "height": 1000
        },
        "outputId": "9b24191f-a3c0-402b-edab-ffcef6531bd3"
      },
      "execution_count": null,
      "outputs": [
        {
          "output_type": "stream",
          "name": "stdout",
          "text": [
            "Bar Plot: \n"
          ]
        },
        {
          "output_type": "display_data",
          "data": {
            "text/plain": [
              "<Figure size 1200x600 with 2 Axes>"
            ],
            "image/png": "[encoded data removed]"
          },
          "metadata": {}
        },
        {
          "output_type": "stream",
          "name": "stdout",
          "text": [
            "Box Plot: \n"
          ]
        },
        {
          "output_type": "display_data",
          "data": {
            "text/plain": [
              "<Figure size 1200x600 with 1 Axes>"
            ],
            "image/png": "[encoded data removed]"
          },
          "metadata": {}
        }
      ]
    },
    {
      "cell_type": "markdown",
      "source": [
        "###### ✏️ Plot the distribution of any Time Offset by gender and race group (Use violin plot)\n",
        "\n",
        "Hint: You can use the next line of code to get all the variables related to a time offset"
      ],
      "metadata": {
        "id": "_IApC0RKfjcO"
      }
    },
    {
      "cell_type": "markdown",
      "source": [
        "###### ✏️ 性別・人種のグループ別にタイムオフセット(計測された時刻の差)の分布のプロット(ヴァイオリンプロットを使う)\n",
        "\n",
        "ヒント: 以下のコードを用いてタイムオフセットに関連する変数を取得することができます。"
      ],
      "metadata": {
        "id": "HQ9l9QROkTBn"
      }
    },
    {
      "cell_type": "code",
      "source": [
        "for column in df.columns:\n",
        "  if 'delta' in column:\n",
        "    print(column)"
      ],
      "metadata": {
        "id": "OSwa5fEdhQT_",
        "colab": {
          "base_uri": "https://localhost:8080/"
        },
        "outputId": "e46739e2-d838-42f9-bb9f-8736c0396140"
      },
      "execution_count": null,
      "outputs": [
        {
          "output_type": "stream",
          "name": "stdout",
          "text": [
            "delta_vent_start\n",
            "delta_SpO2\n",
            "delta_sofa_coag\n",
            "delta_sofa_cns\n",
            "delta_sofa_cv\n"
          ]
        }
      ]
    },
    {
      "cell_type": "code",
      "source": [
        "# Use plot_groupby():\n",
        "plot_groupby(df, group1='gender', group2='race_group', variable='delta_SpO2', barplot=True, boxplot=False, violinplot=True)"
      ],
      "metadata": {
        "id": "QCGZGTHfeuiC",
        "colab": {
          "base_uri": "https://localhost:8080/",
          "height": 1000
        },
        "outputId": "8721214f-0199-40a3-aa14-c3d79aec3e7f"
      },
      "execution_count": null,
      "outputs": [
        {
          "output_type": "stream",
          "name": "stdout",
          "text": [
            "Bar Plot: \n"
          ]
        },
        {
          "output_type": "display_data",
          "data": {
            "text/plain": [
              "<Figure size 1200x600 with 2 Axes>"
            ],
            "image/png": "[encoded data removed]"
          },
          "metadata": {}
        },
        {
          "output_type": "stream",
          "name": "stdout",
          "text": [
            "Violin Plot: \n"
          ]
        },
        {
          "output_type": "display_data",
          "data": {
            "text/plain": [
              "<Figure size 1200x600 with 1 Axes>"
            ],
            "image/png": "[encoded data removed]"
          },
          "metadata": {}
        }
      ]
    },
    {
      "cell_type": "markdown",
      "source": [
        "## 4. Preprocessing / 前処理\n",
        "---"
      ],
      "metadata": {
        "id": "Cn29hXNsq4Uk"
      }
    },
    {
      "cell_type": "markdown",
      "source": [
        "We know that there are some outliers so let's assume that those values al missing values and then analyze the amount of missing values for preprocessing"
      ],
      "metadata": {
        "id": "OQxBAUV7SCcV"
      }
    },
    {
      "cell_type": "markdown",
      "source": [
        "前章のプロットによりいくつかの外れ値があることが分かっているので、それらの値は欠損値として仮定して、前処理のために欠損値の数を分析しましょう。\n"
      ],
      "metadata": {
        "id": "XrvY8MdwpLUi"
      }
    },
    {
      "cell_type": "markdown",
      "source": [
        "### Missing values\n",
        "\n",
        "Let's see which columns have variables with missing data"
      ],
      "metadata": {
        "id": "Th51UTXwSRYk"
      }
    },
    {
      "cell_type": "markdown",
      "source": [
        "### 欠損値を見つける\n",
        "\n",
        "どの列に欠損値があるのかを探します。"
      ],
      "metadata": {
        "id": "13yPhjmvrBmH"
      }
    },
    {
      "cell_type": "code",
      "source": [
        "msno.matrix(df)"
      ],
      "metadata": {
        "id": "cW7ysOZGeunN",
        "colab": {
          "base_uri": "https://localhost:8080/",
          "height": 640
        },
        "outputId": "8a8963da-9954-48a3-adcf-e4531c85944a"
      },
      "execution_count": null,
      "outputs": [
        {
          "output_type": "execute_result",
          "data": {
            "text/plain": [
              "<Axes: >"
            ]
          },
          "metadata": {},
          "execution_count": 32
        },
        {
          "output_type": "display_data",
          "data": {
            "text/plain": [
              "<Figure size 2500x1000 with 2 Axes>"
            ],
            "image/png": "[encoded data removed]"
          },
          "metadata": {}
        }
      ]
    },
    {
      "cell_type": "markdown",
      "source": [
        "###### ✏️ detect columns with null values\n",
        "Use the function `null_values` to see the columns with missing data and the number of rows missing.\n",
        "\n",
        "if the number of values with missing data is very high compared to the size of the dataset (E.g. 85%), in some cases it is better just to remove them"
      ],
      "metadata": {
        "id": "OcfF2HSqOM3f"
      }
    },
    {
      "cell_type": "markdown",
      "source": [
        "###### ✏️ nullを含む列を特定する\n",
        "`null_values` 関数を用いて欠損値のある列とその行番号を求めます。\n",
        "\n",
        "if the number of values with missing data is very high compared to the size of the dataset (E.g. 85%), in some cases it is better just to remove them\n",
        "\n",
        "もしデータセットの大半(E.g. 85%)が欠損していた場合、その列は省いてしまったほうがいいかもしれません。"
      ],
      "metadata": {
        "id": "0nrgrXKurTpc"
      }
    },
    {
      "cell_type": "code",
      "source": [
        "### List of columns with missing values ###\n",
        "### Code here ###\n",
        "null_values(df)"
      ],
      "metadata": {
        "id": "DNVsJ8FRSJ7N",
        "colab": {
          "base_uri": "https://localhost:8080/"
        },
        "outputId": "b063ae8d-0119-43d5-e24f-c05e36467b60"
      },
      "execution_count": null,
      "outputs": [
        {
          "output_type": "stream",
          "name": "stdout",
          "text": [
            "Null values:\n",
            "inr                                5007\n",
            "ventilation_status                 2015\n",
            "FiO2                              15894\n",
            "creatinine                         5075\n",
            "albumin                            5962\n",
            "aniongap                           5465\n",
            "bun                                5083\n",
            "rrt                                 100\n",
            "pt                                 5009\n",
            "delta_vent_start                   2015\n",
            "ph                                16982\n",
            "chloride                           5100\n",
            "bilirubin_total                    5984\n",
            "delta_sofa_coag                    5934\n",
            "rdw                                5175\n",
            "delta_sofa_cns                     7855\n",
            "delta_sofa_cv                      2942\n",
            "mcv                                5180\n",
            "BMI                                3243\n",
            "norepinephrine_equivalent_dose     8486\n",
            "sofa_coag                          5934\n",
            "mchc                               5182\n",
            "dtype: int64\n"
          ]
        }
      ]
    },
    {
      "cell_type": "markdown",
      "source": [
        "### Train-Test Split\n",
        "Dividing your dataset into training and test is important, since what we want is for the model to learn, not memorize.\n",
        "We want to test the behavior of the model on unknown data. For that reason, the dataset should always be divided into training and test.\n",
        "\n",
        "The way to divide it may vary... You can use 60% (training) / 40% (testing), or 70% (training) / 30% (testing), or even 50/50. The most important part is that you **make sure that in the test set you have a well-distributed data set that covers all the possibilities.**"
      ],
      "metadata": {
        "id": "LwRUZnXdsMB2"
      }
    },
    {
      "cell_type": "markdown",
      "source": [
        "### 訓練用とテスト用にデータセットを分割する\n",
        "データセットを訓練用とテスト用に分割することは結果に関わる重要な事です。(なぜなら、モデルに求めていることは\"暗記\"ではなく\"学習\"だからです)\n",
        "\n",
        "生成されたモデルを評価するにあたり、未知のデータにおけるモデルの挙動をテストするために、今あるデータセットを訓練用とテスト用に分割します。\n",
        "\n",
        "分割の比率は自由です。訓練用:テスト用を6:4、7:3、5:5など決まりはありません。この時に気を付けて頂きたいことは**テスト用のデータに偏りがなく、全てのパターンを網羅できるようになっていること**です。"
      ],
      "metadata": {
        "id": "T3dPEzpMsglU"
      }
    },
    {
      "cell_type": "code",
      "source": [
        "from typing import Optional\n",
        "\n",
        "def train_test_split_with_id(df: pd.DataFrame, test_size: float, id_column: str, stratify: array_like=None, random_state: Optional[int]=42) -> Tuple[pd.DataFrame]:\n",
        "  \"\"\"\n",
        "  データセットを訓練用とテスト用に分割し、両方のデータセットに同じIDを持つ行が現れないようにする関数。\n",
        "\n",
        "  引数 (型名):\n",
        "    df (pandas.DataFrame): 分割したいデータセット\n",
        "    test_size (float): テスト用に使用するデータの割合(ex 0.3)\n",
        "    id_column (string): 患者の識別IDを含む列の名前 (訓練用とテスト用に同じ患者のデータを用いることはできません)\n",
        "    stratify (array-like): 層別化(各データの割合を揃えるため)に使う関数。特に指定しない(Noneの)場合、層別化は行われません。(オプション)\n",
        "    random_state (int): 分割に使用する乱数を生成するための整数(オプション).\n",
        "\n",
        "  戻り値 (型名):\n",
        "    tuple (pandas.DataFrames): 訓練用とテスト用の2つのタプル\n",
        "  \"\"\"\n",
        "  if stratify:\n",
        "    id_groups = df.groupby(id_column)\n",
        "    ids = []\n",
        "    ys = []\n",
        "    for _, group in id_groups:\n",
        "        ids.append(group[id_column].iloc[0])\n",
        "        ys.append(group[stratify].iloc[0])\n",
        "    ids = np.array(ids)\n",
        "    ys = np.array(ys)\n",
        "\n",
        "    train_ids, test_ids, train_ys, test_ys = train_test_split(ids, ys, test_size=test_size, stratify=ys, random_state=random_state)\n",
        "\n",
        "  else:\n",
        "    unique_ids = df[id_column].unique()\n",
        "    train_ids, test_ids = train_test_split(unique_ids, test_size=test_size, random_state=random_state)\n",
        "\n",
        "  train = df[df[id_column].isin(train_ids)]\n",
        "  test = df[df[id_column].isin(test_ids)]\n",
        "\n",
        "  print(f'The train shape is {train.shape}')\n",
        "  print(f'The test shape is {test.shape}')\n",
        "\n",
        "  return train, test\n"
      ],
      "metadata": {
        "id": "BVzkNkfFsOhZ"
      },
      "execution_count": null,
      "outputs": []
    },
    {
      "cell_type": "markdown",
      "source": [
        "###### ✏️ Split your data\n",
        "Use the provided function to split your data into train and test. We have to split the dataset now so we can avoid data leakage during data imputation and data normalization"
      ],
      "metadata": {
        "id": "RcbYiAi0PFP0"
      }
    },
    {
      "cell_type": "markdown",
      "source": [
        "###### ✏️ データを分割する\n",
        "先ほど定義した`train_test_split_with_id`関数を用いてデータセットを分割します。\n",
        "データの分割により、欠損値補完や正規化の際のデータの漏れを防ぐことができます。"
      ],
      "metadata": {
        "id": "cchPehBrzZi2"
      }
    },
    {
      "cell_type": "code",
      "source": [
        "df.shape"
      ],
      "metadata": {
        "colab": {
          "base_uri": "https://localhost:8080/"
        },
        "id": "j_d7jqXTpYXp",
        "outputId": "22a08ae4-5948-42e7-a735-48fef5dd4ce3"
      },
      "execution_count": null,
      "outputs": [
        {
          "output_type": "execute_result",
          "data": {
            "text/plain": [
              "(17169, 36)"
            ]
          },
          "metadata": {},
          "execution_count": 35
        }
      ]
    },
    {
      "cell_type": "code",
      "source": [
        "#test_size =\n",
        "#id_column = # Avoid same patient in train and test!!!\n",
        "#stratify =\n",
        "test_size = 0.3\n",
        "id_column = 'subject_id'\n",
        "stratify = ['race_group', 'hidden_hypoxemia']\n",
        "\n",
        "#train, test = train_test_split_with_id('...')\n",
        "train, test = train_test_split_with_id(df, test_size=test_size, id_column=id_column, stratify=stratify, random_state=42)"
      ],
      "metadata": {
        "id": "L60Ly3JNxAZP",
        "colab": {
          "base_uri": "https://localhost:8080/"
        },
        "outputId": "9121f8ca-36c5-42fb-8e33-5d20c54e7933"
      },
      "execution_count": null,
      "outputs": [
        {
          "output_type": "stream",
          "name": "stdout",
          "text": [
            "The train shape is (11831, 36)\n",
            "The test shape is (5338, 36)\n"
          ]
        }
      ]
    },
    {
      "cell_type": "markdown",
      "source": [
        "### Data Imputation\n",
        "\n",
        "There are various imputation methods of different complexity, ranging from imputing using the most common value (mode) (usually used for categorical variables) or the average or median value depending on the distribution of the data (usually used for numerical variables), to imputation methods using machine learning algorithms to predict the missing value using the other variables as a reference. While any method of data imputation can be valid, you have to take care to avoid data leakage or adding bias when doing this process."
      ],
      "metadata": {
        "id": "TGfy5tf4SndZ"
      }
    },
    {
      "cell_type": "markdown",
      "source": [
        "As we have the columns with missing data, let's divide the columns into two sub groups:\n",
        "1. Categorical columns with missing\n",
        "2. Numerical columns with missing"
      ],
      "metadata": {
        "id": "Vsi0qe3cQzmV"
      }
    },
    {
      "cell_type": "markdown",
      "source": [
        "### 欠損値補完\n",
        "\n",
        "欠損値補完の方法には単純なものから複雑なものまで、様々な方法があります。\n",
        "最頻値(通常、カテゴリ変数に使用)を用いる方法や、データの分布に応じた平均値または中央値(通常、数値変数に使用)を用いる方法の他にも、他の変数を参照して値を予測しながら補完する、機械学習を用いた方法などがあります。\n",
        "\n",
        "どのような方法を用いても有用な補完が可能ですが、データの漏れやバイアスの付与を考慮して行う必要があります。"
      ],
      "metadata": {
        "id": "MaHRF6uX1oKz"
      }
    },
    {
      "cell_type": "markdown",
      "source": [
        "欠損値のある列を2つのサブグループに分割します:\n",
        "1. カテゴリー変数列の欠損\n",
        "2. 数値変数列の欠損"
      ],
      "metadata": {
        "id": "gTZVVJYd6KeA"
      }
    },
    {
      "cell_type": "markdown",
      "source": [
        "###### ✏️ Get numerical, categorical columns and columns with missing data\n",
        "\n",
        "Hint: You can use the function `get_categorical_numerical_variables` to get the list of categorical and mumerical columns.\n",
        "\n",
        "Hint 2: You can use the function `null_values` as part of the logic to get the columns with missing data"
      ],
      "metadata": {
        "id": "CPJYmaBJQUIN"
      }
    },
    {
      "cell_type": "markdown",
      "source": [
        "###### ✏️ 数値変数を持つ列、カテゴリー変数を持つ列、欠損値を持つ列を取得する\n",
        "\n",
        "ヒント1: `get_categorical_numerical_variables` 関数を用いて数値変数とカテゴリー変数を持つ列のリストが取得できます。\n",
        "\n",
        "ヒント 2: `null_values` 関数は欠損値のある列を取得する方法の一部として使うことができます。"
      ],
      "metadata": {
        "id": "C6tf68HE6prx"
      }
    },
    {
      "cell_type": "code",
      "source": [
        "# Get numerical and categorical columns:\n",
        "#categorical_cols, numerical_cols =\n",
        "categorical_cols, numerical_cols = get_categorical_numerical_variables(train, limit=10, ignore=None, verbose=False)"
      ],
      "metadata": {
        "id": "qExWrf1JxPoU"
      },
      "execution_count": null,
      "outputs": []
    },
    {
      "cell_type": "code",
      "source": [
        "# Get the columns with missing data\n",
        "#columns_missing =\n",
        "columns_missing = train.isnull().sum()[train.isnull().sum() > 0].index\n",
        "columns_missing"
      ],
      "metadata": {
        "id": "0RLwYEoKynP_",
        "colab": {
          "base_uri": "https://localhost:8080/"
        },
        "outputId": "245fc719-d1ee-4fa2-e1cd-559c023a9529"
      },
      "execution_count": null,
      "outputs": [
        {
          "output_type": "execute_result",
          "data": {
            "text/plain": [
              "Index(['inr', 'ventilation_status', 'FiO2', 'creatinine', 'albumin',\n",
              "       'aniongap', 'bun', 'rrt', 'pt', 'delta_vent_start', 'ph', 'chloride',\n",
              "       'bilirubin_total', 'delta_sofa_coag', 'rdw', 'delta_sofa_cns',\n",
              "       'delta_sofa_cv', 'mcv', 'BMI', 'norepinephrine_equivalent_dose',\n",
              "       'sofa_coag', 'mchc'],\n",
              "      dtype='object')"
            ]
          },
          "metadata": {},
          "execution_count": 38
        }
      ]
    },
    {
      "cell_type": "code",
      "source": [
        "def apply_data_imputation(df: pd.DataFrame, impute_cols: List[str], test_df: Optional[pd.DataFrame]=None, groupby_cols: List[str]=[], method: str='new_category_numeric', imputation_model=LinearRegression()):\n",
        "  \"\"\"\n",
        "  必要に応じて与えらえた列(impute_cols)に groupby を適用した後に、列毎の欠損値補完(Data Imputation)を行う.\n",
        "  !!! 注意事項 !!!\n",
        "  カテゴリー変数に対してnew_category関数を、数値変数に対してnew_category_numeric関数以外を適用する場合以外は、必ずデータの分割後に行うこと。そうしないとデータ漏れを招く恐れがあります。\n",
        "\n",
        "  引数(型名):\n",
        "    df(pd.DataFrame): 欠損値補完を行うデータ\n",
        "    impute_cols(list): 欠損値補完を適用する列名のリスト\n",
        "    test_df(pd.DataFrame): 訓練用データを参照して欠損値補完を行うテスト用データ(オプション)\n",
        "    groupby_cols(list): method='median', 'mean', 'mode'の場合はデータをグループ化するためのカラム名、 method='model'の場合はモデルの特徴を表すカラム名のリスト (E.g.: groupby_cols=['race_group', 'gender']).\n",
        "    method(string): 欠損値補完の方法。 'median'、'mean'、'mode'、'new_category'、'new_category_numeric'、'model'の6つが選択可能\n",
        "    model: methodが'model'の場合に欠損値の予測に用いるsklearnモデル\n",
        "\n",
        "  戻り値:\n",
        "    欠損値のある列のデータを補完後のデータ\n",
        "  \"\"\"\n",
        "  imputer = {}\n",
        "\n",
        "  for col in impute_cols:\n",
        "\n",
        "    # Group the data and calculate the method (E.g. Median) for each group\n",
        "    if method == 'median':\n",
        "      # Impute using median (for numerical values)\n",
        "      imputation_values = df.groupby(groupby_cols)[col].median()\n",
        "\n",
        "    elif method == 'mean':\n",
        "      # Impute using mean (for numerical values)\n",
        "      imputation_values = df.groupby(groupby_cols)[col].mean()\n",
        "\n",
        "    elif method == 'mode':\n",
        "      # Impute using mode (for categorical values)\n",
        "      imputation_values = df.groupby(groupby_cols)[col].agg(pd.Series.mode)\n",
        "\n",
        "    elif method == 'new_category':\n",
        "      # Add a new category 'None' in the dataset (for categorical values)\n",
        "      new_category_val = 'None'\n",
        "      imputer[col] = new_category_val\n",
        "      df[col] = df[col].fillna(new_category_val)\n",
        "      if test_df is not None:\n",
        "        test_df[col] = test_df[col].fillna(new_category_val)\n",
        "\n",
        "\n",
        "    elif method == 'new_category_numeric':\n",
        "      # Add an anomalous data in the dataset (for numerical values)\n",
        "      new_category_val = 0\n",
        "      # If there's not 0, replace nan with 0\n",
        "      if not((df[col] == 0).any()):\n",
        "        new_category_val = 0\n",
        "      # If there's not positive numbers, replace nan with 1\n",
        "      elif not((df[col] >= 0).any()):\n",
        "        new_category_val = 1\n",
        "      # If there's not negative numbers, replace nan with 1\n",
        "      elif not((df[col] <= 0).any()):\n",
        "        new_category_val = -1\n",
        "      else:\n",
        "        # Replace with min value - 100\n",
        "        new_category_val = df[col].min() - 100\n",
        "\n",
        "      imputer[col] = new_category_val\n",
        "      df[col] = df[col].fillna(new_category_val)\n",
        "      if test_df is not None:\n",
        "        test_df[col] = test_df[col].fillna(new_category_val)\n",
        "\n",
        "\n",
        "    elif method == 'model':\n",
        "      # If the variable is categorical, convert to numeric:\n",
        "      if df[col].dtype == 'object':\n",
        "        encoder = LabelEncoder()\n",
        "        df[col] = encoder.fit_transform(df[col].dropna())\n",
        "\n",
        "      # Create a linear regression model to impute missing values\n",
        "      model = imputation_model\n",
        "\n",
        "      # Get the data with complete column\n",
        "      complete_data = df.dropna(subset=[col])\n",
        "\n",
        "      # Encode categorical columns if needed in x data\n",
        "      le = {}\n",
        "      for col_group in groupby_cols:\n",
        "        if df[col_group].dtype == 'object':\n",
        "          le[col_group] = LabelEncoder()\n",
        "          complete_data[col_group] = le[col_group].fit_transform(complete_data[col_group])\n",
        "\n",
        "\n",
        "      # Fit the model on the complete data\n",
        "      X = complete_data[groupby_cols]\n",
        "      # Replace any remaining NaNs with the column mean\n",
        "      X = X.fillna(X.mean())\n",
        "      y = complete_data[col]\n",
        "      model.fit(X, y)\n",
        "\n",
        "      if df[col].dtype == 'object':\n",
        "        imputer[col] = (model, encoder, le)\n",
        "      else:\n",
        "        imputer[col] = (model, le)\n",
        "\n",
        "      ### Impute column using the model to predict the value:\n",
        "      missing_data = df[df[col].isna()].copy()\n",
        "      if test_df is not None:\n",
        "        missing_data_test = test_df[test_df[col].isna()].copy()\n",
        "\n",
        "      # Encode categorical columns if needed in x data\n",
        "      for col_group in groupby_cols:\n",
        "        if missing_data[col_group].dtype == 'object':\n",
        "          missing_data[col_group] = le[col_group].transform(missing_data[col_group].dropna())\n",
        "          if test_df is not None:\n",
        "            missing_data_test[col_group] = le[col_group].transform(missing_data_test[col_group].dropna())\n",
        "\n",
        "      for index, row in missing_data.iterrows():\n",
        "        values = row[groupby_cols].values.reshape(1, -1)\n",
        "        imputed_value = model.predict(values)\n",
        "        df.at[index, col] = imputed_value[0]\n",
        "\n",
        "      if test_df is not None:\n",
        "        for index, row in missing_data_test.iterrows():\n",
        "          values = row[groupby_cols].values.reshape(1, -1)\n",
        "          imputed_value = model.predict(values)\n",
        "          test_df.at[index, col] = imputed_value[0]\n",
        "\n",
        "      if method in ['median', 'mean', 'mode']:\n",
        "        imputer[col] = imputation_values\n",
        "        # Fill missing values with the method of the corresponding group\n",
        "        df[col] = df.apply(lambda x: imputation_values[tuple(x[groupby_cols])] if pd.isna(x[col]) else x[col], axis=1)\n",
        "        if test_df is not None:\n",
        "          test_df[col] = test_df.apply(lambda x: imputation_values[tuple(x[groupby_cols])] if pd.isna(x[col]) else x[col], axis=1)\n",
        "\n",
        "  if test_df is not None:\n",
        "    return df, test_df, imputer\n",
        "  else:\n",
        "    return df, imputer\n"
      ],
      "metadata": {
        "id": "dqZXomYXPa3G"
      },
      "execution_count": null,
      "outputs": []
    },
    {
      "cell_type": "markdown",
      "source": [
        "###### ✏️ Apply data imputation to categorical variables\n",
        "\n",
        "1. Get from the categorical variables the list of categorical columns with missing data\n",
        "2. Use the function `apply_data_imputation` to impute the variables of train and test data. You can also use other methods of pandas or sklearn. But think about the possible bias that those methods could be adding to the dataset."
      ],
      "metadata": {
        "id": "nTFDHd8RKbqI"
      }
    },
    {
      "cell_type": "markdown",
      "source": [
        "###### ✏️ カテゴリー変数に欠損値補完を適用する\n",
        "\n",
        "1. 欠損値のあるカテゴリー変数のリストから、欠損値補完を行う列を取得する。\n",
        "2. `apply_data_imputation`関数を使用して訓練用とテスト用のデータの欠損値補完を行う。pandasやsklearnの他の方法を使っても問題ありませんが、それを適用することによって生じる可能性のあるデータの偏りについてよく考えてから適用しましょう。"
      ],
      "metadata": {
        "id": "KlMiqfK8eRMV"
      }
    },
    {
      "cell_type": "code",
      "source": [
        "# Get from columns with missing data the categorical columns\n",
        "#categorical_cols_missing =\n",
        "categorical_cols_missing = [column for column in categorical_cols if column in columns_missing]\n",
        "categorical_cols_missing"
      ],
      "metadata": {
        "id": "NCNfYwpNKXRv",
        "colab": {
          "base_uri": "https://localhost:8080/"
        },
        "outputId": "ecb8189f-dd4f-4bd4-d568-b94f12d675bd"
      },
      "execution_count": null,
      "outputs": [
        {
          "output_type": "execute_result",
          "data": {
            "text/plain": [
              "['ventilation_status', 'rrt', 'sofa_coag']"
            ]
          },
          "metadata": {},
          "execution_count": 40
        }
      ]
    },
    {
      "cell_type": "markdown",
      "source": [
        "**Important❗❗❗** If you apply other technique than `new_category` on categorical variables. You should do it after train-test split otherwise you could be introducing a data leakage in the test set"
      ],
      "metadata": {
        "id": "90vB5xhDzJvC"
      }
    },
    {
      "cell_type": "markdown",
      "source": [
        "**注意事項❗❗❗** もし`new_category`関数以外の方法で欠損値補完を行う場合、必ず**訓練用データとテスト用データとの分割後に**行うこと。こうしないとデータ漏れを引き起こす可能性があります。"
      ],
      "metadata": {
        "id": "Ax_jWtgAg95P"
      }
    },
    {
      "cell_type": "code",
      "source": [
        "#method =  # 'mode', 'new_category'\n",
        "#groupby_cols =  # E.g. ['race_group', 'gender'] or None if is new_category\n",
        "\n",
        "method = 'new_category' # 'mode', 'new_category'\n",
        "groupby_cols = None # E.g. ['race_group', 'gender']\n",
        "train, test, imputer = apply_data_imputation(train, impute_cols=categorical_cols_missing, method=method, groupby_cols=groupby_cols, test_df=test)"
      ],
      "metadata": {
        "id": "KSws7IRAScbC",
        "colab": {
          "base_uri": "https://localhost:8080/"
        },
        "outputId": "052c2ee4-e264-4cfd-f9f6-2cb3dc6f62b9"
      },
      "execution_count": null,
      "outputs": [
        {
          "output_type": "stream",
          "name": "stderr",
          "text": [
            "/tmp/ipykernel_6621/382285403.py:39: SettingWithCopyWarning: \n",
            "A value is trying to be set on a copy of a slice from a DataFrame.\n",
            "Try using .loc[row_indexer,col_indexer] = value instead\n",
            "\n",
            "See the caveats in the documentation: https://pandas.pydata.org/pandas-docs/stable/user_guide/indexing.html#returning-a-view-versus-a-copy\n",
            "  df[col] = df[col].fillna(new_category_val)\n",
            "/tmp/ipykernel_6621/382285403.py:41: SettingWithCopyWarning: \n",
            "A value is trying to be set on a copy of a slice from a DataFrame.\n",
            "Try using .loc[row_indexer,col_indexer] = value instead\n",
            "\n",
            "See the caveats in the documentation: https://pandas.pydata.org/pandas-docs/stable/user_guide/indexing.html#returning-a-view-versus-a-copy\n",
            "  test_df[col] = test_df[col].fillna(new_category_val)\n"
          ]
        }
      ]
    },
    {
      "cell_type": "markdown",
      "source": [
        "###### ✏️ Apply data imputation to Numerical variables\n",
        "\n",
        "1. Get from the numerical variables the list of numerical columns with missing data\n",
        "2. Use the function `apply_data_imputation` to impute the variables of train and test data. You can also use other methods of pandas or sklearn. But think about the possible bias that those methods could be adding to the dataset."
      ],
      "metadata": {
        "id": "OHwYtppJLNfd"
      }
    },
    {
      "cell_type": "markdown",
      "source": [
        "###### ✏️ Apply data imputation to Numerical variables\n",
        "\n",
        "1. 欠損値のある数値変数のリストから、欠損値補完を行う列を取得する。\n",
        "\n",
        "2. `apply_data_imputation`関数を使用して訓練用とテスト用のデータの欠損値補完を行う。pandasやsklearnの他の方法を使っても問題ありませんが、それを適用することによって生じる可能性のあるデータの偏りについてよく考えてから適用しましょう。"
      ],
      "metadata": {
        "id": "Y0C-1C9AjhLT"
      }
    },
    {
      "cell_type": "code",
      "source": [
        "# Get from columns with missing data the numerical columns\n",
        "#numerical_cols_missing =\n",
        "numerical_cols_missing = [column for column in numerical_cols if column in columns_missing]\n",
        "numerical_cols_missing"
      ],
      "metadata": {
        "id": "7TavY8buLUIP",
        "colab": {
          "base_uri": "https://localhost:8080/"
        },
        "outputId": "f32e18af-c03b-4506-eafa-806c0a5c1e08"
      },
      "execution_count": null,
      "outputs": [
        {
          "output_type": "execute_result",
          "data": {
            "text/plain": [
              "['inr',\n",
              " 'FiO2',\n",
              " 'creatinine',\n",
              " 'albumin',\n",
              " 'aniongap',\n",
              " 'bun',\n",
              " 'pt',\n",
              " 'delta_vent_start',\n",
              " 'ph',\n",
              " 'chloride',\n",
              " 'bilirubin_total',\n",
              " 'delta_sofa_coag',\n",
              " 'rdw',\n",
              " 'delta_sofa_cns',\n",
              " 'delta_sofa_cv',\n",
              " 'mcv',\n",
              " 'BMI',\n",
              " 'norepinephrine_equivalent_dose',\n",
              " 'mchc']"
            ]
          },
          "metadata": {},
          "execution_count": 42
        }
      ]
    },
    {
      "cell_type": "markdown",
      "source": [
        "**Important ❗❗❗** If you apply other technique than `new_category_numeric` on numerical variables. You should do it after train-test split otherwise you could be introducing a data leakage in the test set"
      ],
      "metadata": {
        "id": "ZQHc5wKdzsb1"
      }
    },
    {
      "cell_type": "markdown",
      "source": [
        "**注意事項❗❗❗** もし`new_category_numeric`関数以外の方法で以外の方法で訓練用データとテスト用データとの分割後に行うこと。こうしないとデータ漏れを引き起こす可能性があります。"
      ],
      "metadata": {
        "id": "eRk6ef7koi5e"
      }
    },
    {
      "cell_type": "code",
      "source": [
        "#method = # 'median', 'mean', 'new_category_numeric', 'model'\n",
        "#groupby_cols =  # E.g. ['race_group', 'gender'] or None if is new_category_numeric\n",
        "\n",
        "method = 'new_category_numeric' # 'median', 'mean', 'new_category_numeric', 'model'\n",
        "groupby_cols = None # E.g. ['race_group', 'gender']\n",
        "\n",
        "train, test, imputer = apply_data_imputation(train, impute_cols=numerical_cols_missing, method=method, groupby_cols=groupby_cols, test_df=test)"
      ],
      "metadata": {
        "id": "tuTNR8qtLV48",
        "colab": {
          "base_uri": "https://localhost:8080/"
        },
        "outputId": "25e55f16-a760-4507-8964-f27ef3a2d2d9"
      },
      "execution_count": null,
      "outputs": [
        {
          "output_type": "stream",
          "name": "stderr",
          "text": [
            "/tmp/ipykernel_6621/382285403.py:61: SettingWithCopyWarning: \n",
            "A value is trying to be set on a copy of a slice from a DataFrame.\n",
            "Try using .loc[row_indexer,col_indexer] = value instead\n",
            "\n",
            "See the caveats in the documentation: https://pandas.pydata.org/pandas-docs/stable/user_guide/indexing.html#returning-a-view-versus-a-copy\n",
            "  df[col] = df[col].fillna(new_category_val)\n",
            "/tmp/ipykernel_6621/382285403.py:63: SettingWithCopyWarning: \n",
            "A value is trying to be set on a copy of a slice from a DataFrame.\n",
            "Try using .loc[row_indexer,col_indexer] = value instead\n",
            "\n",
            "See the caveats in the documentation: https://pandas.pydata.org/pandas-docs/stable/user_guide/indexing.html#returning-a-view-versus-a-copy\n",
            "  test_df[col] = test_df[col].fillna(new_category_val)\n"
          ]
        }
      ]
    },
    {
      "cell_type": "markdown",
      "source": [
        "###### ✏️ Let's check null values again\n",
        "\n",
        "Print the coluns with missing values (if any) in train and test set.\n",
        "\n",
        "There should be no columns with missing data, if so check the previous tasks"
      ],
      "metadata": {
        "id": "Xtkuor2lfY-H"
      }
    },
    {
      "cell_type": "markdown",
      "source": [
        "###### ✏️ null値がないかの再確認\n",
        "\n",
        "欠損値補完を行った列(あれば)を表示して確認します。\n",
        "\n",
        "この時点で欠損値のある列はないはずです。もし欠損がある場合はここまでの処理を確認しましょう。\n"
      ],
      "metadata": {
        "id": "O8EL_b69osZx"
      }
    },
    {
      "cell_type": "code",
      "source": [
        "### List of columns with mussing values ###\n",
        "print('#'*20, ' Null train: ', '#'*20)\n",
        "null_values(train)\n",
        "### List of columns with mussing values ###\n",
        "print('#'*20, ' Null test: ', '#'*20)\n",
        "null_values(test)"
      ],
      "metadata": {
        "id": "J1C2rHdzDVIO",
        "colab": {
          "base_uri": "https://localhost:8080/"
        },
        "outputId": "21dac41c-397d-4ea8-dc77-f01e049be1e2"
      },
      "execution_count": null,
      "outputs": [
        {
          "output_type": "stream",
          "name": "stdout",
          "text": [
            "####################  Null train:  ####################\n",
            "There aren't null values in the dataframe\n",
            "####################  Null test:  ####################\n",
            "There aren't null values in the dataframe\n"
          ]
        }
      ]
    },
    {
      "cell_type": "code",
      "source": [
        "train[\"insurance\"].value_counts()"
      ],
      "metadata": {
        "colab": {
          "base_uri": "https://localhost:8080/"
        },
        "id": "tPjbXcL7TnjZ",
        "outputId": "54a23558-ef4d-49c3-8693-7669de092e52"
      },
      "execution_count": null,
      "outputs": [
        {
          "output_type": "execute_result",
          "data": {
            "text/plain": [
              "Other       5611\n",
              "Medicare    5488\n",
              "Medicaid     732\n",
              "Name: insurance, dtype: int64"
            ]
          },
          "metadata": {},
          "execution_count": 45
        }
      ]
    },
    {
      "cell_type": "markdown",
      "source": [
        "### Save the file!\n",
        "Finally let's save the dataset as a csv file! 😀"
      ],
      "metadata": {
        "id": "hKqDpYhNpLcC"
      }
    },
    {
      "cell_type": "markdown",
      "source": [
        "### ファイルの保存\n",
        "最後に、データセットをcsvファイルに保存しましょう！ 😀"
      ],
      "metadata": {
        "id": "m3Zn1DxBpiaI"
      }
    },
    {
      "cell_type": "markdown",
      "source": [
        "###### ✏️ Save your train and test dataset as a csv file:\n",
        "\n",
        "Hint: use `df.to_csv('path/data_clean.csv', index=False)`"
      ],
      "metadata": {
        "id": "GzWHbaIbXx6d"
      }
    },
    {
      "cell_type": "markdown",
      "source": [
        "###### ✏️ 訓練用データとテスト用データをcsvファイルで保存する:\n",
        "\n",
        "ヒント: `df.to_csv('path/data_clean.csv', index=False)` を使ってみましょう"
      ],
      "metadata": {
        "id": "sgZtNmUppyjx"
      }
    },
    {
      "cell_type": "code",
      "source": [
        "# Save your train and test dataset as a csv file:\n",
        "path_to_save_train = \"/content/drive/MyDrive/workshops_preparation/for_japan/solutions/output/workshop_2_train.csv\"\n",
        "path_to_save_test = \"/content/drive/MyDrive/workshops_preparation/for_japan/solutions/output/workshop_2_test.csv\"\n"
      ],
      "metadata": {
        "id": "BD4fUTkT5dUh"
      },
      "execution_count": null,
      "outputs": []
    },
    {
      "cell_type": "code",
      "source": [
        "import os\n",
        "import pandas as pd\n",
        "\n",
        "# Function to create the directory if it doesn't exist\n",
        "def create_directory_if_not_exists(path):\n",
        "    directory = os.path.dirname(path)\n",
        "    os.makedirs(directory, exist_ok=True)\n",
        "\n",
        "# Save function to be used for both train and test datasets\n",
        "def save_dataset(dataset, path_to_save):\n",
        "    create_directory_if_not_exists(path_to_save)\n",
        "    dataset.to_csv(path_to_save, index=False)"
      ],
      "metadata": {
        "id": "y8ElZGp-7sDs"
      },
      "execution_count": null,
      "outputs": []
    },
    {
      "cell_type": "code",
      "source": [
        "# Export files:\n",
        "save_dataset(train, path_to_save_train)\n",
        "save_dataset(test, path_to_save_test)"
      ],
      "metadata": {
        "id": "zXD403Pto7WX"
      },
      "execution_count": null,
      "outputs": []
    },
    {
      "cell_type": "markdown",
      "source": [
        "#### Acknowledgement\n",
        "日本語訳 (Translation)：高砂茉莉花（Marika Takasago）"
      ],
      "metadata": {
        "id": "JKKAqBMzwAIC"
      }
    },
    {
      "cell_type": "code",
      "source": [],
      "metadata": {
        "id": "FGxvcE60uCJr"
      },
      "execution_count": null,
      "outputs": []
    }
  ]
}