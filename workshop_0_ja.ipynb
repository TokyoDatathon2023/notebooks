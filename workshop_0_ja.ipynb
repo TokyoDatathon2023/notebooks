{
  "cells": [
    {
      "cell_type": "markdown",
      "metadata": {
        "id": "irFgTUXwQXme"
      },
      "source": [
        "# Critical Data Workshops and Datathon 2023 0️⃣ Preparatory Materials\n",
        "\n",
        "Please go through these materials before attending the Datathon.\n",
        "\n",
        "Your success in the Datathon will depend on this!\n",
        "\n",
        "(Our notebooks have the same content written alternately in English and Japanese.)"
      ]
    },
    {
      "cell_type": "markdown",
      "metadata": {
        "id": "WHeL3UVYDhBg"
      },
      "source": [
        "# Critical Data Workshops and Datathon 2023 0️⃣ 事前資料\n",
        "\n",
        "Datathon に参加する前に、以下の資料に目を通しておいてください。\n",
        "\n",
        "Datathon におけるあなたの成功は、この準備にかかっています！\n",
        "\n",
        "（今回使用する notebook には同じ内容が英語と日本語で交互に書かれています）"
      ]
    },
    {
      "cell_type": "markdown",
      "metadata": {
        "id": "iOYWeqfobTSJ"
      },
      "source": [
        "## Background"
      ]
    },
    {
      "cell_type": "markdown",
      "metadata": {
        "id": "m8s5Z1KCzOji"
      },
      "source": [
        "​\n",
        "Pulse oximeters are medical devices used to assess peripheral arterial oxygen saturation ($SpO_2$) noninvasively. In contrast, the \"gold standard\" requires arterial blood to be drawn to measure the arterial oxygen saturation ($SaO_{2}$). Pulse oximeters currently on the market measure  in populations with darker skin tones with lower accuracy.\n",
        "\n",
        "Pulse oximetry inaccuracies can fail to detect episodes of hidden hypoxemia, i.e., low $SaO_{2}$ with high $SpO_2$. Hidden hypoxemias can result in less treatment and increased mortality. Yet flawed, pulse oximeters remain ubiquitously used because of their ease of use; debiasing the underlying algorithms could alleviate the downstream repercussions of hidden hypoxemia.\n",
        "\n",
        "​"
      ]
    },
    {
      "cell_type": "markdown",
      "metadata": {
        "id": "Gg8JaMlqzKG7"
      },
      "source": [
        "## 背景"
      ]
    },
    {
      "cell_type": "markdown",
      "metadata": {
        "id": "bRBNRcccbTSK"
      },
      "source": [
        "パルスオキシメーターは、末梢の動脈血酸素飽和度（$SpO_{2}$）を非侵襲的に評価するための医療機器です。これに対し、「ゴールドスタンダード」としては、動脈血を採取して動脈血酸素飽和度（$SaO_{2}$）を測定する必要があります。現在市販されているパルスオキシメータは、肌の色が濃い集団では測定精度が低くなります。\n",
        "\n",
        "パルスオキシメータの精度が低いと、潜在性低酸素血症（\"Hidden Hypoxemia\"; $SaO_{2}$が低いのに$SpO_{2}$が高い状態）を検出できないことがあります。潜在性低酸素血症は、治療の遅れや死亡率の上昇を招く可能性があります。しかし、パルスオキシメーターはその簡便性から、いまだに広く使用されています。根本的なアルゴリズムを見直すことで、潜在性低酸素血症の影響を軽減できる可能性があります。"
      ]
    },
    {
      "cell_type": "markdown",
      "metadata": {
        "id": "xAdeP8OgXUQR"
      },
      "source": [
        "## 1. Literature Review\n",
        "\n"
      ]
    },
    {
      "cell_type": "markdown",
      "metadata": {
        "id": "jVwBXCKAyrXA"
      },
      "source": [
        "Here is some recent literature that motivates this Case Study.\n",
        "\n",
        "A comprehensive living literature compilation has been put together by <a href=\"https://openoximetry.org/publications/\" target=\"_blank\">Open Oximetry</a>. Explore it, if you are curious to learn more!\n",
        "\n",
        "However, these 5 papers below are our main recommendations.\n",
        "\n",
        "You have a summary below, but can access the full articles in the\n",
        "<a href=\"https://drive.google.com/drive/folders/1fey9LDUynWk2ZgVKeFc9B2tfnrlyiR7c?usp=share_link\" target=\"_blank\">Google Drive Folder</a>.\n",
        "\n",
        "If you are short on time, we recommend the first 2-3 papers as a must read, and the other ones are optional."
      ]
    },
    {
      "cell_type": "markdown",
      "metadata": {
        "id": "wtl2xfLTGBqY"
      },
      "source": [
        "### 📄 <a href=\"https://drive.google.com/file/d/14IirFD9SnVvmiD4W3KMXYmc2eQVwcSlB/view?usp=share_link\" target=\"_blank\">Paper 1</a> (letter)\n",
        "**Racial Bias in Pulse Oximetry Measurement**\n",
        "\n",
        "\n",
        "\n",
        "*This study of 48,097 pair of measures from University of Michigan report nearly three times more occult hypoxemia in Black patients compared to White patients. However, not all Black patients with pulse oxymetry of 92-96% had occult hypoxemia, with the correction factor not straightforward.*\n",
        "\n",
        "Sjoding MW, Dickson RP, Iwashyna TJ, Gay SE, Valley TS. Racial Bias in Pulse Oximetry Measurement. N Engl J Med. 2020 Dec 17;383(25):2477-2478. doi: 10.1056/NEJMc2029240. Erratum in: N Engl J Med. 2021 Dec 23;385(26):2496. PMID: 33326721; PMCID: PMC7808260. <a href=\"https://www.nejm.org/doi/10.1056/NEJMc2029240\" target=\"_blank\">https://www.nejm.org/doi/10.1056/NEJMc2029240</a>"
      ]
    },
    {
      "cell_type": "markdown",
      "metadata": {
        "id": "XLEIDu6MtULj"
      },
      "source": [
        "### 📄 <a href=\"https://drive.google.com/file/d/15H9rYmtFrHGE3BjqxpChZOQNgHLZsjs-/view?usp=share_link\" target=\"_blank\">Paper 2</a> (original research)\n",
        "**Analysis of Discrepancies Between Pulse Oximetry and Arterial Oxygen Saturation Measurements by Race and Ethnicity and Association With Organ Dysfunction and Mortality**\n",
        "\n",
        "*In this cross-sectional study of 5 databases with 87 971 patients,\n",
        "significant disparities in pulse oximetry accuracy across racial and ethnic subgroups (ie, Asian, Black, Hispanic, and White individuals) were found, with higher rates of hidden hypoxemia associated with mortality, future organ dysfunction, and abnormal laboratory test results.*\n",
        "\n",
        "Wong AI, Charpignon M, Kim H, et al. Analysis of Discrepancies Between Pulse Oximetry and Arterial Oxygen Saturation Measurements by Race and Ethnicity and Association With Organ Dysfunction and Mortality. JAMA Netw Open. 2021;4(11):e2131674. <a href=\"https://jamanetwork.com/journals/jamanetworkopen/fullarticle/2785794\" target=\"_blank\">https://jamanetwork.com/journals/jamanetworkopen/fullarticle/2785794</a>"
      ]
    },
    {
      "cell_type": "markdown",
      "metadata": {
        "id": "863tUKmGYeTm"
      },
      "source": [
        "### 📄 <a href=\"https://drive.google.com/file/d/1JbfOuWENSHAzn5f6ztTZXwnZGkUfbiZZ/view?usp=share_link\" target=\"_blank\">Paper 3</a> (original research)\n",
        "**Assessment of Racial and Ethnic Differences in Oxygen Supplementation Among Patients in the Intensive Care Unit**\n",
        "\n",
        "*In this cohort study of 3069 patients in the intensive care unit, Asian, Black, and Hispanic patients had a higher adjusted time-weighted average pulse oximetry reading and were administered significantly less supplemental oxygen for a given average hemoglobin oxygen saturation compared with White patients.*\n",
        "\n",
        "Gottlieb ER, Ziegler J, Morley K, Rush B, Celi LA. Assessment of Racial and Ethnic Differences in Oxygen Supplementation Among Patients in the Intensive Care Unit. JAMA Intern Med. 2022;182(8):849–858. <a href=\"https://jamanetwork.com/journals/jamainternalmedicine/article-abstract/2794196\" target=\"_blank\">https://jamanetwork.com/journals/jamainternalmedicine/article-abstract/2794196</a>"
      ]
    },
    {
      "cell_type": "markdown",
      "metadata": {
        "id": "bd9sKUCDDv1I"
      },
      "source": [
        "### 📄 <a href=\"https://drive.google.com/file/d/1PUtDG5TWKvClljRHokx1fl60mzU7zCy5/view?usp=share_link\" target=\"_blank\">Paper 4</a> (review)\n",
        "\n",
        "**Racial Disparity in Oxygen Saturation Measurements by Pulse Oximetry**\n",
        "\n",
        "*In this article, we review available data regarding the accuracy of pulse oximeters for individuals with dark skin tones, as well as the clinical implications of device inaccuracy at both a patient and public health level. Moreover, we emphasize the urgent need to address the problem of pulse oximeter inaccuracy for individuals with dark skin tones and provide suggestions for the next steps to address the resulting racial health disparity.*\n",
        "\n",
        "Jamali, H., Castillo, L. T., Morgan, C. C., Coult, J., Muhammad, J. L., Osobamiro, O. O., Parsons, E. C., & Adamson, R. (2022). Racial Disparity in Oxygen Saturation Measurements by Pulse Oximetry: Evidence and Implications. Annals of the American Thoracic Society, 19(12), 1951–1964. <a href=\"https://doi.org/10.1513/AnnalsATS.202203-270CME\" target=\"_blank\">https://doi.org/10.1513/AnnalsATS.202203-270CME</a>\n",
        "\n"
      ]
    },
    {
      "cell_type": "markdown",
      "metadata": {
        "id": "1ZHGFvOGFPsE"
      },
      "source": [
        "### 📄 <a href=\"https://drive.google.com/file/d/1EmAe4a1tQPnWifVOhST4jmCDeD9C1Hx6/view?usp=share_link\" target=\"_blank\">Paper 5</a> (letter)\n",
        "\n",
        "**Dynamic Errors in Pulse Oximetry Preclude Use of Correction Factor**\n",
        "\n",
        "*In “Racial Disparity in Oxygen Saturation Measurements by Pulse Oximetry: Evidence and Implications” [Paper 4 of this workshop] the authors raise the possibility of implementing a skin-tone correction factor to compensate for the overestimation of arterial oxygen saturation ($SaO_2$) by pulse oximeters ($SpO_2$) among individuals with darker skin. We wish to highlight more recent data that suggest this strategy would not rectify the error but rather cement the inequity imposed by current technology and worsen disparities by disproportionately harming patients of color.*\n",
        "\n",
        "(...) *More concerning, three-quarters of patients had bidirectional errors over time, such that pulse oximeters both under- and overestimated oxygen saturation for the same subject at different time points.*\n",
        "\n",
        "Fawzy, A., Valbuena, V. S. M., Chesley, C. F., Wu, T. D., & Iwashyna, T. J. (2023). Dynamic Errors in Pulse Oximetry Preclude Use of Correction Factor. Annals of the American Thoracic Society, 20(2), 338–339. <a href=\"https://doi.org/10.1513/AnnalsATS.202210-872LE\" target=\"_blank\">https://doi.org/10.1513/AnnalsATS.202210-872LE</a>"
      ]
    },
    {
      "cell_type": "markdown",
      "metadata": {
        "id": "3ndkzcdfHGac"
      },
      "source": [
        "### Quick References for Paper 1 - 3\n",
        "\n",
        "| Article # | Study Aim | Definition of Hidden Hypoxemia (HH) | Study Population | Inclusion Criteria | Exclusion Criteria | Primary Outcome | Results |\n",
        "| - | - | - | - | - | - | - | - |\n",
        "| Paper 1 | \\- To evaluate the impact of potential racial bias in pulse oximetry measurement | \\- SaO2 <88% despite of 92%≤ SpO2 ≤96%<br>\\- SaO2 and SpO2 were paired when they were performed within 10 minutes of each other | \\- Adult inpatients who were receiving supplemental oxygen at the University of Michigan Hospital <br> &ensp; and patients in ICUs at 178 hospitals (multicenter cohort)<br>\\- 1,333 White patients and 276 Black patients in the University of Michigan cohort<br>\\- 7,342 White patients and 1,050 Black patients in the multicenter cohort | \\- Patients who identified their race as Black or White and had a pair of pulse oximetry measures of oxygen saturation <br> &ensp; and measures of arterial oxygen saturation in ABG, with all evaluations performed within 10 minutes of each other | \\- ABG that did not include carboxyhemoglobin and methemoglobin saturations | \\- The proportion of HH in Black or White patients | \\- HH was found in 11.7% of Black patients and 3.6% of White patients in Michigan cohort, <br> &ensp; and 17.0% of Black patients and 6.2% of White patients in multicenter cohort |\n",
        "| Paper 2 | \\- To analyze the discrepancies between SpO2 and SaO2 measurements by race and ethnicity, <br> &ensp; and to examine their association with organ dysfunction and mortality | \\- SaO2 <88% while 88%≤ SpO2<br>\\- SaO2 and SpO2 were paired if SpO2 values were recorded 5 minutes preceding the ABG test | \\- Data were extracted from 5 EHR databases (eICU-CRD, MIMIC-III and MIMIC-IV, Emory Healthcare and Grady Memorial)<br>\\- 87,971 patients with a mean age of 62.2 years old and 42.9% women<br>\\- The study group consisted of 65.5% White, 29.6% Black, 2.7% Hispanic, and 2.3% Asian | \\- SpO2 records with range of 88% to 100%<br>\\- At least one SpO2 measurement recorded within 5 minutes preceding the ABG test<br>\\- only the first ABG measurement from each hospital encounter was used | \\- Missing data on race or ethnicity, ABG or SpO2 measurements, or other key variables<br>\\- If any of characteristics in age, sex, race and ethnicity, and CVSOFA score were missing, <br> &ensp; the patient was excluded from the corresponding subgroup analysis but included in the overall analysis. | \\- The association HH and clinical outcomes, including in-hospital mortality, <br> &ensp; ICU length of stay, and organ dysfunction stratified by race and ethnicity | \\- HH was found in all subgroups with varying incidence (Black: 6.9%; Hispanic: 6.0%; Asian: 4.9%; White: 4.9%)<br>\\- HH was associated with higher SOFA score 24 hours after the ABG measurement, higher in-hospital mortality, <br> &ensp; and higher lactate levels before and 24 hours after the ABG test, with less lactate clearance |\n",
        "| Paper 3 | \\- To assess if there are disparities in supplemental oxygen administration between Asian, Black, <br> &ensp; and Hispanic patients and White patients in the ICU<br>\\- To assess whether they are associated with discrepancies in pulse oximeter performance | \\- N/A | \\- 76,540 ICU stays for 53,150 unique patients at Beth Israel Deaconess Medical Center were extracted from MIMIC- IV<br>\\- 25,340 patients with supplemental oxygen data were included<br>\\- 3,069 patients with a mean age of 66.9 years old were analyzed<br>\\- The study participatns consisted of 86.9% White, 6.7% Black, 3.6% Hispanic, and 2.7% Asian | \\- Patients who have records of supplemental oxygen (or room air) data<br>\\- Data were limited to the first period of up to 5 days from ICU admission or until the time point at which the patient received invasive or <br> &ensp; noninvasive mechanical ventilation, high-flow nasal cannula, or a tracheostomy, whichever came first (index period) | \\- Patients who did not have a documented race or ethnicity of Asian, Black, Hispanic, or White<br>\\- Patients who were missing key variables, including supplemental oxygen records, initial pCO2, Hb level, <br> &ensp; vital sign data, and/or had an index period of less than 12 hours<br>\\- Records with SpO2 less than 70% or greater than 100% | \\- Time- weighted average supplemental oxygen rate | \\- Asian, Black, and Hispanic race and ethnicity were all associated with a higher SpO2 for a given SaO2<br>\\- Asian, Black, and Hispanic race and ethnicity were associated with lower average oxygen delivery rates |"
      ]
    },
    {
      "cell_type": "markdown",
      "metadata": {
        "id": "VcAl4ktubTSN"
      },
      "source": [
        "## 1. 文献レビュー"
      ]
    },
    {
      "cell_type": "markdown",
      "metadata": {
        "id": "zSzgeQrcbTSN"
      },
      "source": [
        "この Case Study のきっかけとなった最近の文献を紹介します。\n",
        "\n",
        "<a href=\"https://openoximetry.org/publications/\" target=\"_blank\">Open Oximetry</a> には、最近の文献が包括的にまとめられています。より深く知りたい場合、そちらを参照してください！\n",
        "\n",
        "私たちの主な推奨文献は以下の 5 つとします。\n",
        "\n",
        "以下に要約を記載しますが、全文は\n",
        "<a href=\"https://drive.google.com/drive/folders/1fey9LDUynWk2ZgVKeFc9B2tfnrlyiR7c?usp=share_link\" target=\"_blank\">Google Drive Folder</a> を参照してください。\n",
        "\n",
        "時間がない方に対しては、最初の2-3本の論文を必読とし、他の論文はオプションとしてお薦めします。"
      ]
    },
    {
      "cell_type": "markdown",
      "metadata": {
        "id": "lJu39-uKbTSO"
      },
      "source": [
        "### 📄 <a href=\"https://drive.google.com/file/d/14IirFD9SnVvmiD4W3KMXYmc2eQVwcSlB/view?usp=share_link\" target=\"_blank\">Paper 1</a> (letter)\n",
        "**パルスオキシメトリ測定における人種間のバイアス**\n",
        "\n",
        "*ミシガン大学による48,097組の測定結果に関するこの研究では、白人患者に比べ、黒人患者では約3倍もの潜在性低酸素血症があることが報告されている。しかし、$SpO_{2}$が92～96％の黒人患者すべてが潜在性低酸素血症であったわけではなく、補正因子は単純ではなかった*。\n",
        "\n",
        "Sjoding MW, Dickson RP, Iwashyna TJ, Gay SE, Valley TS. Racial Bias in Pulse Oximetry Measurement. N Engl J Med. 2020 Dec 17;383(25):2477-2478. doi: 10.1056/NEJMc2029240. Erratum in: N Engl J Med. 2021 Dec 23;385(26):2496. PMID: 33326721; PMCID: PMC7808260. <a href=\"https://www.nejm.org/doi/10.1056/NEJMc2029240\" target=\"_blank\">https://www.nejm.org/doi/10.1056/NEJMc2029240</a>"
      ]
    },
    {
      "cell_type": "markdown",
      "metadata": {
        "id": "IBtVE_FAbTSO"
      },
      "source": [
        "### 📄 <a href=\"https://drive.google.com/file/d/15H9rYmtFrHGE3BjqxpChZOQNgHLZsjs-/view?usp=share_link\" target=\"_blank\">Paper 2</a> (original research)\n",
        "**人種・民族によるパルスオキシメトリと動脈酸素飽和度測定の不一致と臓器機能障害および死亡率との関連についての解析**\n",
        "\n",
        "*5つのデータベース、87,971人の患者を対象とした横断的研究。人種や民族のサブグループ（アジア人、黒人、ヒスパニック、白人）間でパルスオキシメトリの精度に有意な差異があり、非白人において潜在性低酸素血症の割合が高く、死亡率、将来の臓器不全、臨床検査値異常と関連していた*。\n",
        "\n",
        "Wong AI, Charpignon M, Kim H, et al. Analysis of Discrepancies Between Pulse Oximetry and Arterial Oxygen Saturation Measurements by Race and Ethnicity and Association With Organ Dysfunction and Mortality. JAMA Netw Open. 2021;4(11):e2131674. <a href=\"https://jamanetwork.com/journals/jamanetworkopen/fullarticle/2785794\" target=\"_blank\">https://jamanetwork.com/journals/jamanetworkopen/fullarticle/2785794</a>"
      ]
    },
    {
      "cell_type": "markdown",
      "metadata": {
        "id": "YfY1lcOIbTSP"
      },
      "source": [
        "### 📄 <a href=\"https://drive.google.com/file/d/1JbfOuWENSHAzn5f6ztTZXwnZGkUfbiZZ/view?usp=share_link\" target=\"_blank\">Paper 3</a> (original research)\n",
        "**集中治療室の患者における酸素投与の人種的・民族的差異に関する評価**\n",
        "\n",
        "*集中治療室の患者 3,069 人を対象としたこのコホート研究では、アジア人、黒人、ヒスパニック系の患者は、白人患者と比較して、調整後の時間加重平均 $SpO_{2}$が高く、平均 $SaO_{2}$ に対する酸素投与量が有意に少なかった*。\n",
        "\n",
        "Gottlieb ER, Ziegler J, Morley K, Rush B, Celi LA. Assessment of Racial and Ethnic Differences in Oxygen Supplementation Among Patients in the Intensive Care Unit. JAMA Intern Med. 2022;182(8):849–858. <a href=\"https://jamanetwork.com/journals/jamainternalmedicine/article-abstract/2794196\" target=\"_blank\">https://jamanetwork.com/journals/jamainternalmedicine/article-abstract/2794196</a>"
      ]
    },
    {
      "cell_type": "markdown",
      "metadata": {
        "id": "i-6IlDIxbTSP"
      },
      "source": [
        "### 📄 <a href=\"https://drive.google.com/file/d/1PUtDG5TWKvClljRHokx1fl60mzU7zCy5/view?usp=share_link\" target=\"_blank\">Paper 4</a> (review)\n",
        "\n",
        "**パルスオキシメトリによる酸素飽和度測定における人種間格差**\n",
        "\n",
        "*この論文では、肌の色が黒い人々に対するパルスオキシメータの精度問題に関する既存の知見をレビューし、その精度不足が個々の患者や公衆衛生全体に及ぼす影響について解説されている。さらに、この問題に対する迅速な対策の必要性を強調し、それによって生じる可能性のある人種間の健康格差に対処するための将来的な施策について提案を行っている。*\n",
        "\n",
        "Jamali, H., Castillo, L. T., Morgan, C. C., Coult, J., Muhammad, J. L., Osobamiro, O. O., Parsons, E. C., & Adamson, R. (2022). Racial Disparity in Oxygen Saturation Measurements by Pulse Oximetry: Evidence and Implications. Annals of the American Thoracic Society, 19(12), 1951-1964. <a href=\"https://doi.org/10.1513/AnnalsATS.202203-270CME\" target=\"_blank\">https://doi.org/10.1513/AnnalsATS.202203-270CME</a>\n"
      ]
    },
    {
      "cell_type": "markdown",
      "metadata": {
        "id": "Jllv_y-JbTSQ"
      },
      "source": [
        "### 📄 <a href=\"https://drive.google.com/file/d/1EmAe4a1tQPnWifVOhST4jmCDeD9C1Hx6/view?usp=share_link\" target=\"_blank\">Paper 5</a> (letter)\n",
        "\n",
        "**パルスオキシメトリにおける動的誤差は補正係数の利用を阻害する**\n",
        "\n",
        "\"*Racial Disparity in Oxygen Saturation Measurements by Pulse Oximetry: Evidence and Implications\" [Paper 4]では、肌の色が濃い人に対するパルスオキシメータによる動脈酸素飽和度（$SaO_{2}$）の過大評価を修正するための肌色補正係数導入の可能性が提案されている。しかし、私たちはこの戦略が誤りを是正するのではなく、現行の技術が既に抱える不公平を悪化させ、有色人種の患者に不適切に害を及ぼし、結果的に格差をさらに拡大させるという、最新のデータをもとにした示唆を強調したい。*\n",
        "\n",
        "*(...) さらに問題となるのは、患者の4分の3が時間経過とともに双方向の誤差を示していたことだ。つまり、パルスオキシメータが同じ被験者の酸素飽和度を、異なる時点で過小評価したり、過大評価したりしたという事実である。*\n",
        "\n",
        "Fawzy, A., Valbuena, V. S. M., Chesley, C. F., Wu, T. D., & Iwashyna, T. J. (2023). Dynamic Errors in Pulse Oximetry Preclude Use of Correction Factor. Annals of the American Thoracic Society, 20(2), 338–339. <a href=\"https://doi.org/10.1513/AnnalsATS.202210-872LE\" target=\"_blank\">https://doi.org/10.1513/AnnalsATS.202210-872LE</a>"
      ]
    },
    {
      "cell_type": "markdown",
      "metadata": {
        "id": "CV-W1QSEYxuB"
      },
      "source": [
        "### Paper 1 〜 Paper 3 のまとめ\n",
        "\n",
        "| 論文 | 研究の目的 | 潜在性低酸素血症（HH）の定義 | 研究対象 | 組入基準 | 除外基準 | プライマリアウトカム | 結果 |\n",
        "| - | - | - | - | - | - | - | - |\n",
        "| Paper 1 | \\- パルスオキシメトリー測定における潜在的な人種的バイアスの影響を評価すること | \\- 92％≦SpO2≦96％ であるにもかかわらず、SaO2 <88％であること<br>\\- SaO2とSpO2が10分以内に実施された場合にペアと見なす | \\- ミシガン大学病院で酸素療法を受けていた成人入院患者と178の病院のICUの患者（多施設コホート）<br>\\- ミシガン大学コホート：白人患者1,333人、黒人患者276人<br>\\- 多施設コホート：白人患者7,342人、黒人患者1,050人 | \\- 白人、もしくは黒人であり、 SaO2とSpO2が互いに10分以内に実施された場合にペアを持つもの | \\- 動脈血ガスの結果にカルボキシヘモグロビンとメトモグロビン飽和度が含まれないもの | \\- 黒人または白人の患者におけるHHの割合 | \\- HHは、ミシガン大学コホートでは、黒人患者の11.7％、白人患者の3.6％に認められた。<br>\\- また、多施設共同コホートでは、黒人患者の17.0%、白人患者の6.2%に認められた。 |\n",
        "| Paper 2 | \\- 人種や民族によるSpO2とSaO2測定の不一致を分析し、臓器機能障害や死亡率との関連を検討すること | \\- SpO2≧88%であるにもかかわらず、SaO2 <88% であること<br>\\- SaO2の記録前5分以内にSpO2値が記録されている場合、SaO2とSpO2をペアと見なす | \\- データは5つのデータベース（eICU-CRD、MIMIC-III、MIMIC-IV、Emory Healthcare, Grady Memorial）から抽出された<br>\\- 87,971人の患者、平均年齢62.2歳、女性42.9％。<br>\\- 研究対象の人種構成は白人65.5％、黒人29.6％、ヒスパニック2.7％、アジア人2.3％ | \\- SpO2が88%から100%の患者<br>\\- SaO2の記録前5分以内に少なくとも1回のSpO2測定が記録されていること<br>\\- SaO2が複数回測定されている場合には、その初回の動脈血ガス測定のみを使用 | \\- 人種や民族、血液ガス分析やSpO2測定、その他の重要な変数のデータが欠損している患者<br>\\- 年齢、性別、人種・民族、CVSOFAスコアのいずれかが欠落している場合、<br> &ensp; 該当するサブグループ解析から除外したが、全体の解析には含めた | \\- 人種・民族で層別化されたHHと院内死亡率、ICU滞在期間、<br> &ensp; 臓器機能障害などの臨床的転帰の関連 | \\- HHはすべての人種のサブグループで認められ、その発生率はさまざまであった<br> &ensp; （黒人：6.9%、ヒスパニック：6.0%、アジア人：4.9%、白人：4.9%)<br>\\- HHは、ABG測定24時間後のSOFAスコアが高いこと、院内死亡率が高いこと、<br> &ensp; ABG検査前と24時間後の乳酸値が高く、乳酸クリアランスが小さいことと関連していた |\n",
        "| Paper 3 | \\- ICUにおけるアジア系、黒人、ヒスパニック系患者と白人患者との間の酸素投与の格差を評価すること<br>\\- パルスオキシメーターの性能の不一致と関連するかどうかを評価する | \\- N/A | \\- Beth Israel Deaconess Medical Centerの53,150人の患者の76,540回のICU滞在をMIMIC- IVから抽出した<br>\\- 酸素療法のデータがある25,340人の患者を対象とした<br>\\- 分析対象となった患者は3,069名で平均年齢66.9歳<br>\\- 研究参加者の内訳は、白人86.9%、黒人6.7%、ヒスパニック3.6%、アジア人2.7%。 | \\- 酸素投与（または室内気）の記録がある患者<br>\\- ICU入室から最大5日の最初の期間、あるいは患者が侵襲的または非侵襲的人工呼吸、高流量鼻カニューレ、<br> &ensp; または気管切開術を受ける時点まで、のいずれか早い方までの期間（index period）のデータ | \\- アジア人、黒人、ヒスパニック、白人のいずれかの人種または民族が記録されていない患者<br>\\- 酸素投与の記録、初回pCO2、Hb値、バイタルサインなどの主要な変数が欠落していた患者<br>\\- index period が12時間未満であった患者<br>\\- $SaO_{2}$ が70%未満もしくは100%超のデータ | \\- 時間加重平均酸素補給量<br> &ensp;  (Time- weighted average supplemental oxygen rate) | \\- アジア系、黒人、ヒスパニック系の人種・民族であることは、<br> &ensp; 測定されたSaO2に対してSpO2が高いことおよび、平均酸素供給率が低いことに関連がみられた |\n"
      ]
    },
    {
      "cell_type": "markdown",
      "metadata": {
        "id": "X6Oy9OaWLQiE"
      },
      "source": [
        "## 2. Objective of the Datathon\n"
      ]
    },
    {
      "cell_type": "markdown",
      "metadata": {
        "id": "ADWDCj9OLY8A"
      },
      "source": [
        "The worldwide utilization of Pulse Oximeters demands urgent action to prevent further downstream harm. While new devices are being designed, a new approach to recalibrate existing devices is necessary, with the goal of mitigating racial-ethnic based underperformance. To the best of our knowledge, this has not been done before.\n",
        "\n",
        "We aim to fill this gap by creating a correction model for $SpO_2$ using Machine Learning (ML) methods.\n",
        "\n",
        "**The hypothesis is that recalibration can be achieved by leveraging an ML model that is fed with $SpO_2$ measurements, alongside with patient demographics, physiological data, and specific treatment information.**"
      ]
    },
    {
      "cell_type": "markdown",
      "metadata": {
        "id": "yrdoi2eKbTSQ"
      },
      "source": [
        "## 2. Datathon の目標"
      ]
    },
    {
      "cell_type": "markdown",
      "metadata": {
        "id": "tJ3S7IjKbTSQ"
      },
      "source": [
        "パルスオキシメータの世界的な普及に伴い、更なる被害を防ぐための早急な対応が求められます。新しいデバイスが設計されつつある一方で、人種や民族による性能の偏りを解消するためには、既存のデバイスを再較正する新たなアプローチが求められています。我々の知る限りでは、これまでそのような取り組みは行われていませんでした。\n",
        "\n",
        "私たちの目標は、機械学習（ML）を利用して$SpO_{2}$の補正モデルを作成することにより、この問題を解決することです。\n",
        "\n",
        "**$SpO_{2}$の測定値と、患者の人口統計学的情報、生理学的データ、特定の治療情報を用いてMLモデルを構築することで、再較正が可能になるという仮説を考えてみましょう。**\n"
      ]
    },
    {
      "cell_type": "markdown",
      "metadata": {
        "id": "91gNJ-8l_8qD"
      },
      "source": [
        "## 3. Data Access"
      ]
    },
    {
      "cell_type": "markdown",
      "metadata": {
        "id": "_aw39qp1RcRk"
      },
      "source": [
        "### Prerequisites (Optional)\n",
        "\n",
        "The MIMIC datasets are access-controlled by <a href=\"https://physionet.org/\" target=\"_blank\">PhysioNet</a>.\n",
        "\n",
        "Follow the instructions in the bottom of the PhysioNet Dataset page to get access to the data. Overall, you must:\n",
        "- Be a credentialled PhysioNet user,\n",
        "- Complete the appropriate institutional research training (CITI training in human research subject protection and HIPAA regulations) and get it verified by PhysioNet,\n",
        "- Sign the Data Use Agreement\n"
      ]
    },
    {
      "cell_type": "markdown",
      "metadata": {
        "id": "i_iPttiVSKW3"
      },
      "source": [
        "**Useful Materials**\n",
        "- <a href=\"https://mimic.mit.edu/docs/gettingstarted/\" target=\"_blank\">MIMIC - Get Started Tutorial</a>\n",
        "- <a href=\"https://physionet.org/about/citi-course/#:~:text=In%20order%20to%20become%20a,subject%20protections%20and%20HIPAA%20regulations.\" target=\"_blank\">CITI Course Instructions</a>"
      ]
    },
    {
      "cell_type": "markdown",
      "metadata": {
        "id": "_T8KMo8yOUDN"
      },
      "source": [
        "`You can load data through 2 options. From the perspective of setting up the environment, the method we recommend is using Google Drive, which is method 1.`"
      ]
    },
    {
      "cell_type": "markdown",
      "metadata": {
        "id": "F1jAqrDAg2Gy"
      },
      "source": [
        "First of all, please download the data from <a href=\"https://physionet.org/content/mit-critical-datathon-2023/1.0.0/\" target=\"_blank\">MIT Critical Datathon 2023: a MIMIC-IV Derived Dataset for Pulse Oximetry Correction Models</a>."
      ]
    },
    {
      "cell_type": "markdown",
      "metadata": {
        "id": "O_r1Jj2sObjX"
      },
      "source": [
        "### Option 1: Google Drive\n",
        "(if you are using Google Colab)"
      ]
    },
    {
      "cell_type": "markdown",
      "metadata": {
        "id": "nUeaPhR2BDBT"
      },
      "source": [
        "`Mount Google Drive to access your files:`"
      ]
    },
    {
      "cell_type": "code",
      "execution_count": null,
      "metadata": {
        "id": "JM66vkr7L1lU"
      },
      "outputs": [],
      "source": [
        "from google.colab import drive\n",
        "drive.mount('/content/drive')"
      ]
    },
    {
      "cell_type": "markdown",
      "metadata": {
        "id": "ktYlav6gVZan"
      },
      "source": [
        "`After placing your CSV in your Google Drive, run:`"
      ]
    },
    {
      "cell_type": "code",
      "execution_count": null,
      "metadata": {
        "id": "oANj99EQL54A"
      },
      "outputs": [],
      "source": [
        "import pandas as pd\n",
        "data = pd.read_csv(\"/content/drive/MyDrive/workshops/data/mimic_pulseOx_data.csv\")"
      ]
    },
    {
      "cell_type": "markdown",
      "metadata": {
        "id": "MYsGkDeWXHIP"
      },
      "source": [
        "`Did it work? Inspect the Data:`"
      ]
    },
    {
      "cell_type": "code",
      "execution_count": null,
      "metadata": {
        "id": "OZWKG9QvMHEl"
      },
      "outputs": [],
      "source": [
        "# Display all columns\n",
        "pd.set_option(\"display.max_columns\", None)"
      ]
    },
    {
      "cell_type": "code",
      "execution_count": null,
      "metadata": {
        "id": "jZAMOVB4MHEy"
      },
      "outputs": [],
      "source": [
        "# First 5 rows\n",
        "data.head()"
      ]
    },
    {
      "cell_type": "markdown",
      "metadata": {
        "id": "0zZqB9TQOOiV"
      },
      "source": [
        "### Option 2: In your Local Machine\n",
        "(if you are not using Google Colab)"
      ]
    },
    {
      "cell_type": "markdown",
      "metadata": {
        "id": "YnyMsXlLdWFY"
      },
      "source": [
        "#### Lauguage\n",
        "- Python 3.x\n",
        "\n",
        "#### Required third party libraries\n",
        "- pandas\n",
        "- numpy\n",
        "- scikit-learn\n",
        "- matplotlib\n",
        "- seaborn\n",
        "- missingno\n",
        "- tableone\n",
        "- japanize-matplotlib\n",
        "- shap\n",
        "- yellowbrick"
      ]
    },
    {
      "cell_type": "markdown",
      "metadata": {
        "id": "7g5kCe16BNMO"
      },
      "source": [
        "`Run:`"
      ]
    },
    {
      "cell_type": "code",
      "execution_count": null,
      "metadata": {
        "id": "ZcfEZzrgMZA4"
      },
      "outputs": [],
      "source": [
        "import pandas as pd\n",
        "data = pd.read_csv(\"your_local_path_to_file.csv\")"
      ]
    },
    {
      "cell_type": "markdown",
      "metadata": {
        "id": "ei8IyguXe9iz"
      },
      "source": [
        "`Did it work? Inspect the Data:`"
      ]
    },
    {
      "cell_type": "code",
      "execution_count": null,
      "metadata": {
        "id": "30qaaiSKc_43"
      },
      "outputs": [],
      "source": [
        "# Display all columns\n",
        "pd.set_option(\"display.max_columns\", None)"
      ]
    },
    {
      "cell_type": "code",
      "execution_count": null,
      "metadata": {
        "id": "AtxEhP8nMdTM"
      },
      "outputs": [],
      "source": [
        "# First 5 rows\n",
        "data.head()"
      ]
    },
    {
      "cell_type": "markdown",
      "metadata": {
        "id": "xvs9C-8ubTSR"
      },
      "source": [
        "## 3. データへのアクセス方法"
      ]
    },
    {
      "cell_type": "markdown",
      "metadata": {
        "id": "DL05q12mbTSX"
      },
      "source": [
        "### 事前準備（任意）\n",
        "\n",
        "MIMICデータセットは、<a href=\"https://physionet.org/\" target=\"_blank\">PhysioNet</a>によってアクセスが制御されています。\n",
        "\n",
        "PhysioNet Dataset ページ下部の指示に従ってデータへのアクセス許可を得てください。具体的には、以下の要件を満たす必要があります：\n",
        "\n",
        "- PhysioNetの認証済みユーザーであること（Credentialled PhysioNet user）\n",
        "- 適切な機関による研究トレーニング（ヒトを対象とした研究保護とHIPAA規制に関するCITIトレーニング）を完了し、PhysioNetによる確認を受けること\n",
        "- データ利用規約に署名すること\n",
        "\n",
        "ただし、今回の datathon の参加者に関しては上記は必須要件とはしていません。"
      ]
    },
    {
      "cell_type": "markdown",
      "metadata": {
        "id": "P_GHZBMMKsQn"
      },
      "source": [
        "**資料集**\n",
        "- <a href=\"https://mimic.mit.edu/docs/gettingstarted/\" target=\"_blank\">MIMIC - Get Started Tutorial</a>\n",
        "- <a href=\"https://physionet.org/about/citi-course/#:~:text=In%20order%20to%20become%20a,subject%20protections%20and%20HIPAA%20regulations.\" target=\"_blank\">CITI Course Instructions</a>"
      ]
    },
    {
      "cell_type": "markdown",
      "metadata": {
        "id": "CB5pyWg_bTSY"
      },
      "source": [
        "`\n",
        "データを取得する方法は主に以下の2つです。環境構築の簡便さの観点から、私たちが推奨する方法は 1 の Google Drive を使用する方法です。\n",
        "`"
      ]
    },
    {
      "cell_type": "markdown",
      "metadata": {
        "id": "tInMNvbZK03z"
      },
      "source": [
        "はじめに、 <a href=\"https://physionet.org/content/mit-critical-datathon-2023/1.0.0/\" target=\"_blank\">MIT Critical Datathon 2023: a MIMIC-IV Derived Dataset for Pulse Oximetry Correction Models</a> からデータをダウンロードしてください。"
      ]
    },
    {
      "cell_type": "markdown",
      "metadata": {
        "id": "JmbDczz4bTSY"
      },
      "source": [
        "### オプション 1: Google Drive を使用する方法\n",
        "（Google Colab を使用します）"
      ]
    },
    {
      "cell_type": "markdown",
      "metadata": {
        "id": "9PwzEriUbTSZ"
      },
      "source": [
        "`以下のセルを実行し、 Google Drive をマウントすることで、 Drive 内のファイルへアクセスできるようになります。`"
      ]
    },
    {
      "cell_type": "code",
      "execution_count": null,
      "metadata": {
        "id": "46ZK9sl7Ujfm"
      },
      "outputs": [],
      "source": [
        "from google.colab import drive\n",
        "drive.mount('/content/drive')"
      ]
    },
    {
      "cell_type": "markdown",
      "metadata": {
        "id": "uIcBE9zbbTSa"
      },
      "source": [
        "`CSVファイルをGoogle Driveにアップロードした後、次のセルを実行してください。`"
      ]
    },
    {
      "cell_type": "code",
      "execution_count": null,
      "metadata": {
        "id": "cfhpO41OVfah"
      },
      "outputs": [],
      "source": [
        "import pandas as pd\n",
        "df = pd.read_csv(\"/content/drive/MyDrive/workshops/data/mimic_pulseOx_data.csv\")"
      ]
    },
    {
      "cell_type": "markdown",
      "metadata": {
        "id": "f_G2PgXFbTSa"
      },
      "source": [
        "`うまくいきましたか？　データを確認してみましょう`"
      ]
    },
    {
      "cell_type": "code",
      "execution_count": null,
      "metadata": {
        "id": "dC0rzQxejeU3"
      },
      "outputs": [],
      "source": [
        "# Display all columns\n",
        "pd.set_option(\"display.max_columns\", None)"
      ]
    },
    {
      "cell_type": "code",
      "execution_count": null,
      "metadata": {
        "id": "ZW0l3LPnXHIP"
      },
      "outputs": [],
      "source": [
        "# First 5 rows\n",
        "df.head()"
      ]
    },
    {
      "cell_type": "markdown",
      "metadata": {
        "id": "G5KgpPuJbTSb"
      },
      "source": [
        "### オプション 2: ローカル環境を使用する\n",
        "（Google Colabを使用しない場合）"
      ]
    },
    {
      "cell_type": "markdown",
      "metadata": {
        "id": "bWiYum0u4VyE"
      },
      "source": [
        "#### 使用言語\n",
        "- Python 3.x\n",
        "\n",
        "#### 必要な外部ライブラリ\n",
        "- pandas\n",
        "- numpy\n",
        "- scikit-learn\n",
        "- matplotlib\n",
        "- seaborn\n",
        "- missingno\n",
        "- tableone\n",
        "- japanize-matplotlib\n",
        "- shap\n",
        "- yellowbrick"
      ]
    },
    {
      "cell_type": "markdown",
      "metadata": {
        "id": "mWjSSpmPbTSb"
      },
      "source": [
        "`以下のセルを実行してください:`"
      ]
    },
    {
      "cell_type": "code",
      "execution_count": null,
      "metadata": {
        "id": "ynQMEH2OVnHy"
      },
      "outputs": [],
      "source": [
        "import pandas as pd\n",
        "df = pd.read_csv(\"your_local_path_to_file.csv\")"
      ]
    },
    {
      "cell_type": "markdown",
      "metadata": {
        "id": "T9acnJuCbTSc"
      },
      "source": [
        "`うまくいきましたか？　データを確認しましょう`"
      ]
    },
    {
      "cell_type": "code",
      "execution_count": null,
      "metadata": {
        "id": "CoNwO_jCdHwL"
      },
      "outputs": [],
      "source": [
        "# Display all columns\n",
        "pd.set_option(\"display.max_columns\", None)"
      ]
    },
    {
      "cell_type": "code",
      "execution_count": null,
      "metadata": {
        "id": "I_9Jr8jFerEg"
      },
      "outputs": [],
      "source": [
        "# First 5 rows\n",
        "df.head()"
      ]
    },
    {
      "cell_type": "markdown",
      "metadata": {
        "id": "twZfU5mUXXzi"
      },
      "source": [
        "## 4. The Dataset"
      ]
    },
    {
      "cell_type": "markdown",
      "metadata": {
        "id": "T6fuNHaizAYo"
      },
      "source": [
        "### <a href=\"https://physionet.org/content/mit-critical-datathon-2023/1.0.0/\" target=\"_blank\">MIT Critical Datathon 2023: a MIMIC-IV Derived Dataset for Pulse Oximetry Correction Models</a>\n",
        "\n",
        "\n"
      ]
    },
    {
      "cell_type": "markdown",
      "metadata": {
        "id": "CT3HJ5ybNoQx"
      },
      "source": [
        "​\n",
        "This dataset supports the building of Pulse Oximetry Correction Models. Derived from MIMIC-IV v2.2, it includes 14,404 distinct patients admitted to the Intensive Care Unit (ICU) from 15,923 ICU stays. Paired  measurements are aligned with patient demographics, physiological data, and treatment information. There are 81,797  pairs in total, captured within 90 minutes, where each variable has a time delta relative to the  timestamp.\n",
        "\n",
        "​More info in the <a href=\"https://physionet.org/content/mit-critical-datathon-2023/1.0.0/\" target=\"_blank\">PhysioNet Project Page</a>."
      ]
    },
    {
      "cell_type": "markdown",
      "metadata": {
        "id": "OxwqcjokQJ61"
      },
      "source": [
        "*Johnson, A.E.W., Bulgarelli, L., Shen, L. et al. MIMIC-IV, a freely accessible electronic health record dataset. Sci Data 10, 1 (2023). <a href=\"https://doi.org/10.1038/s41597-022-01899-x\" target=\"_blank\">https://doi.org/10.1038/s41597-022-01899-x</a>*"
      ]
    },
    {
      "cell_type": "markdown",
      "metadata": {
        "id": "4N9IaziUbTSR"
      },
      "source": [
        "## 4. データセットについて"
      ]
    },
    {
      "cell_type": "markdown",
      "metadata": {
        "id": "depK3ZErQHpw"
      },
      "source": [
        "### <a href=\"https://physionet.org/content/mit-critical-datathon-2023/1.0.0/\" target=\"_blank\">MIT Critical Datathon 2023: a MIMIC-IV Derived Dataset for Pulse Oximetry Correction Models</a>\n",
        "\n",
        "\n"
      ]
    },
    {
      "cell_type": "markdown",
      "metadata": {
        "id": "BBmCIKEqbTSR"
      },
      "source": [
        "このデータセットは、パルスオキシメトリ補正モデルの構築を支援します。MIMIC-IV v2.2から派生したこのデータセットには、14,404人の患者による15,923回の集中治療室（ICU）への入院データが記録されています。測定値はペアになっており、それぞれが患者の属性情報、生理学的データ、治療情報と紐づいています。合計で81,797組のペアがあり、それぞれが90分以内に記録され、各変数にはタイムスタンプに対する相対的な時間差が記録されています。\n",
        "\n",
        "詳細は、<a href=\"https://physionet.org/content/mit-critical-datathon-2023/1.0.0/\" target=\"_blank\">PhysioNetプロジェクトページ</a>をご覧ください。"
      ]
    },
    {
      "cell_type": "markdown",
      "metadata": {
        "id": "ef7GzLb7RE_H"
      },
      "source": [
        "*Johnson, A.E.W., Bulgarelli, L., Shen, L. et al. MIMIC-IV, a freely accessible electronic health record dataset. Sci Data 10, 1 (2023). <a href=\"https://doi.org/10.1038/s41597-022-01899-x\" target=\"_blank\">https://doi.org/10.1038/s41597-022-01899-x</a>*"
      ]
    },
    {
      "cell_type": "markdown",
      "metadata": {
        "id": "FIWNcdIGbTSc"
      },
      "source": [
        "### Understand the variables（データセットの紹介）：\n",
        "\n",
        "The first step is to understand what variables your dataset has and how these variables are distributed. The columns and data types are:\n",
        "\n",
        "Discuss with your team about the problem and what variables are needed.\n",
        "\n",
        "You can also see the <a href=\"https://github.com/TokyoDatathon2023/notebooks/blob/main/variable_dictionary.md\" target=\"_blank\">variable dictionary (GitHub Link)</a> here anytime during datathon.\n",
        "\n",
        "データ分析の最初のステップは、データセットがどのような変数を持ち、これらの変数がどのように分布しているかを理解することです。<br>\n",
        "データセットには以下の列とデータ型含まれています。<br>\n",
        "問題と必要な変数についてチームで話し合いましょう。<br>\n",
        "また、以下のテーブルは<a href=\"https://github.com/TokyoDatathon2023/notebooks/blob/main/variable_dictionary.md\" target=\"_blank\">こちらの GitHub のリンク</a>でいつでも確認可能です。\n",
        "\n",
        "| name                           | type    | description                                                                                                | 説明                                       |\n",
        "| ------------------------------ | ------- | ---------------------------------------------------------------------------------------------------------- | ---------------------------------------- |\n",
        "| subject_id                     | int64   | Unique identifier for each patient                                                                         | 各患者の固有の識別子                               |\n",
        "| stay_id                        | int64   | Unique identifier for each ward stay                                                                       | 各病棟への入院（入室）ごとの固有の識別子                     |\n",
        "| SaO2_timestamp                 | object  | Timestamp for SaO2 measurement                                                                             | SaO2測定のタイムスタンプ                           |\n",
        "| SaO2                           | float64 | Arterial oxygen saturation                                                                                 | 動脈血酸素飽和度                                 |\n",
        "| delta_SpO2                     | int64   | Time offset (in minutes) in the measurement of peripheral oxygen saturation                                | 末梢血酸素飽和度測定の時間オフセット（分）                    |\n",
        "| SpO2                           | int64   | Peripheral oxygen saturation                                                                               | 末梢血酸素飽和度                                 |\n",
        "| hidden_hypoxemia               | int64   | Indicates if the patient had hypoxemia without clinical signs                                              | 患者が潜在性低酸素血症であったかどうか                      |\n",
        "| hadm_id                        | int64   | Unique identifier for each hospital admission                                                              | 各入院の固有の識別子                               |\n",
        "| gender                         | object  | Gender of the patient                                                                                      | 患者の性別                                    |\n",
        "| sex_female                     | int64   | Indicates if the patient is female                                                                         | 患者が女性であるかどうか                             |\n",
        "| anchor_age                     | int64   | Age of the patient at the time of admission                                                                | 入院時の患者の年齢                                |\n",
        "| race                           | object  | Race of the patient                                                                                        | 患者の人種                                    |\n",
        "| race_group                     | object  | Grouping of race into broader categories                                                                   | より広範な人種のカテゴリ                             |\n",
        "| language                       | object  | Primary language spoken by the patient                                                                     | 患者が主に話す言語                                |\n",
        "| insurance                      | object  | Type of insurance of the patient                                                                           | 患者の保険の種類                                 |\n",
        "| weight                         | float64 | Weight of the patient in kilograms                                                                         | 患者の体重（キログラム）                             |\n",
        "| height                         | float64 | Height of the patient in centimeters                                                                       | 患者の身長（センチメートル）                           |\n",
        "| BMI                            | float64 | Body Mass Index of the patient                                                                             | 患者のBMI                                   |\n",
        "| anchor_year_group              | object  | Grouping of admission year into broader categories                                                         | 入院年をより広いカテゴリに分類したもの                      |\n",
        "| first_hosp_stay                | bool    | Indicates if this is the first hospital stay for the patient                                               | 患者の初めての入院かどうか                            |\n",
        "| first_icu_stay                 | bool    | Indicates if this is the first ICU stay for the patient                                                    | 患者の初めてのICU入室かどうか                         |\n",
        "| icustay_seq                    | int64   | Sequence number of ICU stay for the patient                                                                | 患者のICU入室の通し番号                            |\n",
        "| admittime                      | object  | Timestamp for hospital admission                                                                           | 入院のタイムスタンプ                               |\n",
        "| dischtime                      | object  | Timestamp for hospital discharge                                                                           | 退院のタイムスタンプ                               |\n",
        "| icu_intime                     | object  | Timestamp for ICU admission                                                                                | ICU入室のタイムスタンプ                            |\n",
        "| icu_outtime                    | object  | Timestamp for ICU discharge                                                                                | ICU退室のタイムスタンプ                            |\n",
        "| los_hospital                   | int64   | Length of hospital stay in days                                                                            | 入院期間（日数）                                 |\n",
        "| los_icu                        | float64 | Length of ICU stay in days                                                                                 | ICU入室期間（日数）                              |\n",
        "| CCI                            | int64   | Charlson Comorbidity Index                                                                                 | チャールソン合併症指数                              |\n",
        "| SOFA_admission                 | int64   | Sequential Organ Failure Assessment (SOFA) score at admission                                              | 入院時の SOFA スコア                            |\n",
        "| mortality_in                   | int64   | Indicates if the patient died during the hospital stay                                                     | 入院中に患者が死亡したかどうか                          |\n",
        "| delta_vent_start               | float64 | Time since ventilation started (in minutes) at the time of the measurement                                 | 測定時点での人工呼吸開始からの経過時間（分）                   |\n",
        "| ventilation_status             | object  | Indicates if the patient was on mechanical ventilation                                                     | 患者に人工呼吸を行ったかどうか                          |\n",
        "| invasive_vent                  | int64   | Indicates if the patient was on invasive mechanical ventilation                                            | 患者に侵襲的人工呼吸を行ったかどうか                       |\n",
        "| delta_FiO2                     | float64 | Time offset (in minutes) in the measurement of inspired oxygen (FiO2)                                      | 吸入酸素濃度（FiO2）測定の時間オフセット（分）                |\n",
        "| FiO2                           | float64 | Fraction of inspired oxygen                                                                                | 吸入酸素濃度                                   |\n",
        "| delta_rrt                      | float64 | Time since renal replacement therapy (in minutes) at the time of the measurement                           | 測定時点での腎代替療法開始からの経過時間（分）                  |\n",
        "| rrt                            | int64   | Indicates if the patient was on renal replacement therapy                                                  | 患者が腎代替療法を受けていたかどうか                       |\n",
        "| delta_vp_start                 | float64 | Time since vasopressor therapy started (in minutes) at the time of the measurement                         | 測定時点での血管収縮薬開始からの経過時間（分）                  |\n",
        "| norepinephrine_equivalent_dose | float64 | Dose of norepinephrine equivalent to other vasopressors (in mcg/kg/min)                                    | ノルアドレナリン換算の血管収縮薬の投与量（mcg/kg/min）         |\n",
        "| delta_sofa_coag                | float64 | Time offset (in minutes) in the measurement of SOFA score for coagulation from the previous measurement    | 前回の測定からの凝固能SOFAスコア測定の時間オフセット（分）          |\n",
        "| sofa_coag                      | float64 | SOFA score for coagulation                                                                                 | 凝固能のSOFAスコア                              |\n",
        "| delta_sofa_liver               | float64 | Time offset (in minutes) in the measurement of SOFA score for liver from the previous measurement          | 前回の測定からの肝機能SOFAスコア測定の時間オフセット（分）          |\n",
        "| sofa_liver                     | float64 | SOFA score for liver                                                                                       | 肝機能のSOFAスコア                              |\n",
        "| delta_sofa_cv                  | int64   | Time offset (in minutes) in the measurement of SOFA score for cardiovascular from the previous measurement | 前回の測定からの循環器SOFAスコア測定の時間オフセット（分）          |\n",
        "| sofa_cv                        | int64   | Cardiovascular component of Sequential Organ Failure Assessment (SOFA) score                               | 循環器SOFAスコア                               |\n",
        "| delta_sofa_cns                 | float64 | Time offset (in minutes) in the measurement of central nervous system component of SOFA                    | 前回の測定からの中枢神経系のSOFAスコア測定の時間オフセット（分）       |\n",
        "| sofa_cns                       | float64 | Central nervous system component of SOFA score                                                             | 中枢神経系のSOFAスコア                            |\n",
        "| delta_sofa_renal               | float64 | Time offset (in minutes) in the measurement of renal component of SOFA                                     | 前回の測定からの腎機能のSOFAスコア測定の時間オフセット（分）         |\n",
        "| sofa_renal                     | float64 | Renal component of SOFA score                                                                              | 腎機能のSOFAスコア成分                            |\n",
        "| delta_sofa_resp                | float64 | Time offset (in minutes) in the measurement of respiratory component of SOFA                               | 前回の測定からの呼吸器系のSOFAスコア測定の時間オフセット（分）        |\n",
        "| sofa_resp                      | float64 | Respiratory component of SOFA score                                                                        | 呼吸器系のSOFAスコア成分                           |\n",
        "| delta_hemoglobin               | float64 | Time offset (in minutes) in the measurement of hemoglobin level                                            | ヘモグロビン値測定の時間オフセット（分）                     |\n",
        "| hemoglobin                     | float64 | Hemoglobin level                                                                                           | ヘモグロビン値                                  |\n",
        "| delta_hematocrit               | float64 | Time offset (in minutes) in the measurement of Change in hematocrit level                                  | ヘマトクリット値の変化測定の時間オフセット（分）                 |\n",
        "| hematocrit                     | float64 | Hematocrit level                                                                                           | ヘマトクリット値                                 |\n",
        "| delta_mch                      | float64 | Time offset (in minutes) in the measurement of mean corpuscular hemoglobin                                 | 平均赤血球ヘモグロビン（MCH）測定の時間オフセット（分）            |\n",
        "| mch                            | float64 | Mean corpuscular hemoglobin                                                                                | 平均赤血球ヘモグロビン                              |\n",
        "| delta_mchc                     | float64 | Time offset (in minutes) in the measurement of mean corpuscular hemoglobin concentration                   | 平均赤血球ヘモグロビン濃度（MCHC）測定の時間オフセット（分）         |\n",
        "| mchc                           | float64 | Mean corpuscular hemoglobin concentration                                                                  | 平均赤血球ヘモグロビン濃度                            |\n",
        "| delta_mcv                      | float64 | Time offset (in minutes) in the measurement of mean corpuscular volume                                     | 平均赤血球体積（MCV）測定の時間オフセット（分）                |\n",
        "| mcv                            | float64 | Mean corpuscular volume                                                                                    | 平均赤血球体積                                  |\n",
        "| delta_platelet                 | float64 | Time offset (in minutes) in the measurement of platelet count                                              | 血小板数測定の時間オフセット（分）                        |\n",
        "| platelet                       | float64 | Platelet count                                                                                             | 血小板数                                     |\n",
        "| delta_rbc                      | float64 | Time offset (in minutes) in the measurement of red blood cell count                                        | 赤血球数測定の時間オフセット（分）                        |\n",
        "| rbc                            | float64 | Red blood cell count                                                                                       | 赤血球数                                     |\n",
        "| delta_rdw                      | float64 | Time offset (in minutes) in the measurement of Change in red cell distribution width                       | 赤血球分布幅の変化測定の時間オフセット（分）                   |\n",
        "| rdw                            | float64 | Red cell distribution width                                                                                | 赤血球分布幅                                   |\n",
        "| delta_wbc                      | float64 | Time offset (in minutes) in the measurement of white blood cell count                                      | 白血球数測定の時間オフセット（分）                        |\n",
        "| wbc                            | float64 | White blood cell count                                                                                     | 白血球数                                     |\n",
        "| delta_d_dimer                  | float64 | Time offset (in minutes) in the measurement of Change in D-dimer                                           | D-ダイマーの変化測定の時間オフセット（分）                   |\n",
        "| d_dimer                        | float64 | D-dimer level                                                                                              | D-ダイマー値                                  |\n",
        "| delta_fibrinogen               | float64 | Time offset (in minutes) in the measurement of fibrinogen level                                            | フィブリノゲン値測定の時間オフセット（分）                    |\n",
        "| fibrinogen                     | float64 | Fibrinogen level                                                                                           | フィブリノゲン値                                 |\n",
        "| delta_thrombin                 | float64 | Time offset (in minutes) in the measurement of thrombin time                                               | トロンビン時間測定の時間オフセット（分）                     |\n",
        "| thrombin                       | float64 | Thrombin time                                                                                              | トロンビン時間                                  |\n",
        "| delta_inr                      | float64 | Time offset (in minutes) in the measurement of Change in international normalized ratio (INR)              | 国際標準化比（INR）の変化測定の時間オフセット（分）              |\n",
        "| inr                            | float64 | International normalized ratio (INR)                                                                       | 国際標準化比（INR）                              |\n",
        "| delta_pt                       | float64 | Time offset (in minutes) in the measurement of prothrombin time (PT)                                       | プロトロンビン時間（PT）測定の時間オフセット（分）               |\n",
        "| pt                             | float64 | Prothrombin time (PT)                                                                                      | プロトロンビン時間（PT）                            |\n",
        "| delta_ptt                      | float64 | Time offset (in minutes) in the measurement of partial thromboplastin time (PTT)                           | 部分トロンボプラスチン時間（PTT）測定の時間オフセット（分）          |\n",
        "| ptt                            | float64 | Partial thromboplastin time (PTT)                                                                          | 部分トロンボプラスチン時間（PTT）                       |\n",
        "| delta_alt                      | float64 | Time offset (in minutes) in the measurement of alanine transaminase (ALT) level                            | アラニンアミノトランスフェラーゼ（ALT）測定の時間オフセット（分）       |\n",
        "| alt                            | float64 | Alanine transaminase (ALT) level                                                                           | アラニンアミノトランスフェラーゼ（ALT）の値                  |\n",
        "| delta_alp                      | float64 | Time offset (in minutes) in the measurement of hhange in alkaline phosphatase (ALP) level                  | アルカリホスファターゼ（ALP）の変化測定の時間オフセット（分）         |\n",
        "| alp                            | float64 | Alkaline phosphatase (ALP) level                                                                           | アルカリホスファターゼ（ALP）の値                       |\n",
        "| delta_ast                      | float64 | Time offset (in minutes) in the measurement of aspartate transaminase (AST) level                          | アスパラギン酸アミノトランスフェラーゼ（AST）測定の時間オフセット（分）    |\n",
        "| ast                            | float64 | Aspartate transaminase (AST) level                                                                         | アスパラギン酸アミノトランスフェラーゼ（AST）の値               |\n",
        "| delta_bilirubin_total          | float64 | Time offset (in minutes) in the measurement of total bilirubin level                                       | 総ビリルビン値測定の時間オフセット（分）                     |\n",
        "| bilirubin_total                | float64 | Total bilirubin level                                                                                      | 総ビリルビン値                                  |\n",
        "| delta_bilirubin_direct         | float64 | Time offset (in minutes) in the measurement of direct bilirubin level                                      | 直接ビリルビン値測定の時間オフセット（分）                    |\n",
        "| bilirubin_direct               | float64 | Direct bilirubin level                                                                                     | 直接ビリルビン値                                 |\n",
        "| delta_bilirubin_indirect       | float64 | Time offset (in minutes) in the measurement of indirect bilirubin level                                    | 間接ビリルビン値の測定における時間オフセット（分）                |\n",
        "| bilirubin_indirect             | float64 | Indirect bilirubin level                                                                                   | 間接ビリルビン値                                 |\n",
        "| delta_ck_cpk                   | float64 | Time offset (in minutes) in the measurement of creatine kinase (CPK) level                                 | クレアチンキナーゼ（CPK）値の測定における時間オフセット（分）         |\n",
        "| ck_cpk                         | float64 | Creatine kinase (CPK) level                                                                                | クレアチンキナーゼ（CPK）値                          |\n",
        "| delta_ck_mb                    | float64 | Time offset (in minutes) in the measurement of creatine kinase MB (CK-MB) level                            | クレアチンキナーゼMB（CK-MB）値の測定における時間オフセット（分）     |\n",
        "| ck_mb                          | float64 | Creatine kinase MB (CK-MB) level                                                                           | クレアチンキナーゼMB（CK-MB）値                      |\n",
        "| delta_ggt                      | float64 | Time offset (in minutes) in the measurement of gamma-glutamyl transferase (GGT) level                      | γ-グルタミルトランスペプチダーゼ（GGT）値の測定における時間オフセット（分） |\n",
        "| ggt                            | float64 | Gamma-glutamyl transferase (GGT) level                                                                     | γ-グルタミルトランスペプチダーゼ（GGT）値                  |\n",
        "| delta_ld_ldh                   | float64 | Time offset (in minutes) in the measurement of lactate dehydrogenase (LDH) level                           | 乳酸デヒドロゲナーゼ（LDH）値の測定における時間オフセット（分）        |\n",
        "| ld_ldh                         | float64 | Lactate dehydrogenase (LDH) level                                                                          | 乳酸デヒドロゲナーゼ（LDH）値                         |\n",
        "| delta_albumin                  | float64 | Time offset (in minutes) in the measurement of albumin level                                               | アルブミン値の測定における時間オフセット（分）                  |\n",
        "| albumin                        | float64 | Albumin level                                                                                              | アルブミン値                                   |\n",
        "| delta_aniongap                 | float64 | Time offset (in minutes) in the measurement of anion gap                                                   | アニオンギャップの測定における時間オフセット（分）                |\n",
        "| aniongap                       | float64 | Anion gap                                                                                                  | アニオンギャップ                                 |\n",
        "| delta_bicarbonate              | float64 | Time offset (in minutes) in the measurement of bicarbonate level                                           | 重炭酸塩値の測定における時間オフセット（分）                   |\n",
        "| bicarbonate                    | float64 | Bicarbonate level                                                                                          | 重炭酸塩値                                    |\n",
        "| delta_bun                      | float64 | Time offset (in minutes) in the measurement of blood urea nitrogen (BUN) level                             | 血液尿素窒素（BUN）値の測定における時間オフセット（分）            |\n",
        "| bun                            | float64 | Blood urea nitrogen (BUN) level                                                                            | 血液尿素窒素（BUN）値                             |\n",
        "| delta_calcium                  | float64 | Time offset (in minutes) in the measurement of calcium level                                               | カルシウム値の測定における時間オフセット（分）                  |\n",
        "| calcium                        | float64 | Calcium level                                                                                              | カルシウム値                                   |\n",
        "| delta_chloride                 | float64 | Time offset (in minutes) in the measurement of chloride level                                              | クロール（Cl）値の測定における時間オフセット（分）               |\n",
        "| chloride                       | float64 | Chloride level                                                                                             | クロール（Cl）値                                |\n",
        "| delta_creatinine               | float64 | Time offset (in minutes) in the measurement of creatinine level                                            | クレアチニン値の測定における時間オフセット（分）                 |\n",
        "| creatinine                     | float64 | Creatinine level                                                                                           | クレアチニン値                                  |\n",
        "| delta_glucose_lab              | float64 | Time offset (in minutes) in the measurement of glucose level from laboratory                               | 検査室で測定した血糖値における時間オフセット（分）                |\n",
        "| glucose_lab                    | float64 | Glucose level from laboratory measurement                                                                  | 検査室で測定した血糖値                              |\n",
        "| delta_sodium                   | float64 | Time offset (in minutes) in the measurement of sodium level                                                | ナトリウム値の測定における時間オフセット（分）                  |\n",
        "| sodium                         | float64 | Sodium level                                                                                               | ナトリウム値                                   |\n",
        "| delta_potassium                | float64 | Time offset (in minutes) in the measurement of potassium level                                             | カリウム値の測定における時間オフセット（分）                   |\n",
        "| potassium                      | float64 | Potassium level                                                                                            | カリウム値                                    |\n",
        "| delta_ph                       | float64 | Time offset (in minutes) in the measurement of pH level                                                    | pHの測定における時間オフセット（分）                      |\n",
        "| ph                             | float64 | pH level                                                                                                   | pH                                       |\n",
        "| delta_lactate                  | float64 | Time offset (in minutes) in the measurement of lactate level                                               | 乳酸値の測定における時間オフセット（分）                     |\n",
        "| lactate                        | float64 | Lactate level                                                                                              | 乳酸値                                      |\n",
        "| delta_heart_rate               | int64   | Time offset (in minutes) in the measurement of heart rate                                                  | 心拍数の測定における時間オフセット（分）                     |\n",
        "| heart_rate                     | float64 | Heart rate                                                                                                 | 心拍数                                      |\n",
        "| delta_mbp                      | int64   | Time offset (in minutes) in the measurement of mean blood pressure (MBP)                                   | 平均血圧（MBP）の測定における時間オフセット（分）               |\n",
        "| mbp                            | float64 | Mean blood pressure (MBP)                                                                                  | 平均血圧（MBP）                                |\n",
        "| delta_resp_rate                | float64 | Time offset (in minutes) in the measurement of respiratory rate                                            | 呼吸数の測定における時間オフセット（分）                     |\n",
        "| resp_rate                      | float64 | Respiratory rate                                                                                           | 呼吸数                                      |\n",
        "| delta_temperature              | float64 | Time offset (in minutes) in the measurement of body temperature                                            | 体温の測定における時間オフセット（分）                      |\n",
        "| temperature                    | float64 | Body temperature                                                                                           | 体温                                       |\n",
        "| delta_glucose                  | float64 | Time offset (in minutes) in the measurement of glucose level                                               | 血糖値の測定における時間オフセット（分）                     |\n",
        "| glucose                        | float64 | Glucose level                                                                                              | 血糖値                                      |\n",
        "| delta_heart_rhythm             | float64 | Time offset (in minutes) in the measurement of heart rhythm                                                | 心拍リズムの測定における時間オフセット（分）                   |\n",
        "| heart_rhythm                   | object  | Heart rhythm                                                                                               | 心拍リズム                                    |"
      ]
    },
    {
      "cell_type": "markdown",
      "metadata": {
        "id": "Q3VBZVQyZicN"
      },
      "source": [
        "# Acknowledgement\n",
        "Original Notebook by João Matos, Nikita Mullangi, and Luis Nakayama<br>\n",
        "Translated into Japanese by 難波俊文（Toshifumi Namba）"
      ]
    }
  ],
  "metadata": {
    "colab": {
      "provenance": []
    },
    "kernelspec": {
      "display_name": "Python 3",
      "name": "python3"
    },
    "language_info": {
      "name": "python"
    }
  },
  "nbformat": 4,
  "nbformat_minor": 0
}