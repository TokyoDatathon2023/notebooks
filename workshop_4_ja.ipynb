{
  "nbformat": 4,
  "nbformat_minor": 0,
  "metadata": {
    "colab": {
      "provenance": []
    },
    "kernelspec": {
      "name": "python3",
      "display_name": "Python 3"
    },
    "language_info": {
      "name": "python"
    }
  },
  "cells": [
    {
      "cell_type": "markdown",
      "source": [
        "# Workshop 4: Try to Tackle the Biases and Re-Model\n",
        "\n",
        "We have guided you trough the three usual steps of a predictive task with healthcare data: 1) define the question of interest, 2) select and process the variables, 3) create a predictive model.\n",
        "\n",
        "Now, you should be well equipped to develop your own ideas. Don't hesitate to re-use and adapt the code or results from the previous steps. We give you some ideas, but don't limit yourself to these, be creative 🎨 !  \n",
        "\n",
        "## ❓ Suggested questions\n",
        "\n",
        "- How to tackle the fact that some groups are less likely to get an SaO2 value ?\n",
        "- How to replace the patients that do not make it to our database ?\n",
        "- What would a good fairness metric be ?\n",
        "- How to guarantee that the proposed model will not further harm patients ?\n",
        "- How to solve race-ethnicity and outcome imbalance ?\n",
        "- How to measure a difference in performance before and after changes, when the ground truths themselves change too ?\n",
        "- How to externally validate and expand the proposed models ?\n",
        "\n",
        "## 🎯 Deliverable\n",
        "\n",
        " - Initial exploratory work\n",
        " - Assess the impact of the changes\n",
        " - 🚀 Working plan for future !"
      ],
      "metadata": {
        "id": "6j6WU_0prOUj"
      }
    },
    {
      "cell_type": "markdown",
      "source": [
        "# ワークショップ4：バイアスに対処し、モデルを再構築しよう\n",
        "我々は、ヘルスケアデータを用いた予測タスクの以下の三つの典型的なステップをご案内しました：1) 関心のある問題を定義する、2) 変数を選択し処理する、3) 予測モデルを作成する。\n",
        "\n",
        "これで、あなた自身のアイデアを展開するための十分な装備を持っているはずです。これまでのステップで使用したコードや結果を再利用し、適応させることをためらわないでください。以下に、我々はいくつかのアイデアを提供しますが、これらに限定せず、創造的であることを心がけてください🎨！\n",
        "\n",
        "## ❓ 提案される質問\n",
        "-  SaO2 の値を得る可能性が低いグループがあるという事実にどのように対処すべきでしょうか？\n",
        "- 我々のデータベースに登録されなかった患者をどのように置き換えるべきでしょうか？\n",
        "- 良い公平性の指標とは何でしょうか？\n",
        "- 提案されたモデルがこれ以上患者に害を与えないことを保証するにはどうすればよいでしょうか？\n",
        "- 人種・民族性と転帰の不均衡をどのように解決すべきでしょうか？\n",
        "- Ground Truth 自体も変化する場合、どのようにして変更前後のパフォーマンスの違いを測定するべきでしょうか？\n",
        "- 提案されたモデルをどのように外部検証し、拡張すべきでしょうか？\n",
        "\n",
        "## 🎯 成果物\n",
        "- 初期の探索的作業\n",
        "- 変更による影響を評価する\n",
        "- 🚀 将来のための作業計画！"
      ],
      "metadata": {
        "id": "NfC0bxuyPau_"
      }
    },
    {
      "cell_type": "code",
      "source": [],
      "metadata": {
        "id": "D5M7fxySrWJD"
      },
      "execution_count": null,
      "outputs": []
    }
  ]
}